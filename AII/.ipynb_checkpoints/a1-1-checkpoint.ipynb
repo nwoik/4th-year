{
 "cells": [
  {
   "cell_type": "markdown",
   "id": "077e373b",
   "metadata": {},
   "source": [
    "# Continuous Assessment CS4618 semester 1 2022/2023"
   ]
  },
  {
   "cell_type": "markdown",
   "id": "4212233c",
   "metadata": {},
   "source": [
    "Hi Derek, <br/>\n",
    "Please find below my submission to the CA for this semester. I timed runtime of the notebook multiple times and it took around 5-6 minutes on my computer. So if it takes a lot longer then something is wrong. I tried my best to make it readable my adding tables of contents so that you don't have to scroll around forever. And of course, I tried my best to explain any steps I did. Nevertheless, if anything is unclear, feel free to contact me and I will happily explain my idea behind everything I did in this notebook. Have a nice weekend! <br/>\n",
    "Cheers, <br/>\n",
    "Felix"
   ]
  },
  {
   "cell_type": "markdown",
   "id": "113e1ffa",
   "metadata": {},
   "source": [
    "<a id=\"table_of_contents\"></a>\n",
    "### Table of contents\n",
    "1. [Data Cleaning](#data_cleaning)\n",
    "2. [Creating a test set](#test_set)\n",
    "2. [Data Exploration](#data_exploration)\n",
    "3. [Feature Engineering](#feature_engineering)\n",
    "4. [Model selection](#model_selection)\n",
    "5. [Error estimation](#error_estimation)"
   ]
  },
  {
   "cell_type": "markdown",
   "id": "bddc78c3",
   "metadata": {},
   "source": [
    "### Imports"
   ]
  },
  {
   "cell_type": "code",
   "execution_count": 1,
   "id": "bc9faf90",
   "metadata": {},
   "outputs": [],
   "source": [
    "import pandas as pd\n",
    "import numpy as np\n",
    "import matplotlib.pyplot as plt\n",
    "\n",
    "from sklearn.model_selection import train_test_split,ShuffleSplit\n",
    "from sklearn.pipeline import Pipeline\n",
    "from sklearn.preprocessing import OneHotEncoder,StandardScaler\n",
    "from sklearn.base import BaseEstimator, TransformerMixin\n",
    "from sklearn.compose import ColumnTransformer\n",
    "\n",
    "from sklearn.linear_model import LinearRegression, Lasso, Ridge\n",
    "from sklearn.neighbors import KNeighborsRegressor\n",
    "from sklearn.tree import DecisionTreeRegressor\n",
    "\n",
    "from sklearn.model_selection import GridSearchCV\n",
    "from sklearn.metrics import mean_absolute_error\n",
    "from sklearn.dummy import DummyRegressor"
   ]
  },
  {
   "cell_type": "code",
   "execution_count": 2,
   "id": "998517f6",
   "metadata": {},
   "outputs": [],
   "source": [
    "import time\n",
    "import datetime"
   ]
  },
  {
   "cell_type": "markdown",
   "id": "e9e8ad78",
   "metadata": {},
   "source": [
    "<a id=\"data_cleaning\"></a>\n",
    "## Data cleaning\n",
    "[Back to main table of contents](#table_of_contents)\n",
    "### Table of contents\n",
    "1. [First look at the data](#data_cleaning)\n",
    "2. [Text columns (company, title, tag, location)](#cleaning_text_columns)\n",
    "3. [Timestamp column](#cleaning_timestamp)\n",
    "4. [Compensation column](#cleaning_compensation)\n",
    "5. [Experience column](#cleaning_experience)\n",
    "6. [Gender column](#cleaning_gender)\n",
    "### First look at the data"
   ]
  },
  {
   "cell_type": "code",
   "execution_count": 3,
   "id": "520f0501",
   "metadata": {},
   "outputs": [],
   "source": [
    "# Use pandas to read the CSV file into a DataFrame\n",
    "dataset = pd.read_csv(\"datasets/dataset_salaries.csv\")\n",
    "\n",
    "# Shuffle the dataset\n",
    "dataset = dataset.sample(frac=1, random_state=2)\n",
    "dataset.reset_index(drop=True, inplace=True)"
   ]
  },
  {
   "cell_type": "code",
   "execution_count": 4,
   "id": "3f0cd716",
   "metadata": {
    "scrolled": true
   },
   "outputs": [
    {
     "data": {
      "text/plain": [
       "(62642, 17)"
      ]
     },
     "execution_count": 4,
     "metadata": {},
     "output_type": "execute_result"
    }
   ],
   "source": [
    "dataset.shape"
   ]
  },
  {
   "cell_type": "markdown",
   "id": "03afd0ef",
   "metadata": {},
   "source": [
    "It is clear to see that this is a rather big dataset. More than 62,000 entries. Let's see which columns it has"
   ]
  },
  {
   "cell_type": "code",
   "execution_count": 5,
   "id": "6c854369",
   "metadata": {},
   "outputs": [
    {
     "data": {
      "text/plain": [
       "Index(['timestamp', 'company', 'level', 'title', 'totalyearlycompensation',\n",
       "       'location', 'yearsofexperience', 'yearsatcompany', 'tag', 'basesalary',\n",
       "       'stockgrantvalue', 'bonus', 'gender', 'otherdetails', 'cityid', 'dmaid',\n",
       "       'rowNumber'],\n",
       "      dtype='object')"
      ]
     },
     "execution_count": 5,
     "metadata": {},
     "output_type": "execute_result"
    }
   ],
   "source": [
    "dataset.columns"
   ]
  },
  {
   "cell_type": "code",
   "execution_count": 6,
   "id": "208c6445",
   "metadata": {
    "scrolled": false
   },
   "outputs": [
    {
     "name": "stdout",
     "output_type": "stream",
     "text": [
      "<class 'pandas.core.frame.DataFrame'>\n",
      "RangeIndex: 62642 entries, 0 to 62641\n",
      "Data columns (total 17 columns):\n",
      " #   Column                   Non-Null Count  Dtype  \n",
      "---  ------                   --------------  -----  \n",
      " 0   timestamp                62642 non-null  object \n",
      " 1   company                  62637 non-null  object \n",
      " 2   level                    62527 non-null  object \n",
      " 3   title                    62642 non-null  object \n",
      " 4   totalyearlycompensation  62642 non-null  int64  \n",
      " 5   location                 62642 non-null  object \n",
      " 6   yearsofexperience        62642 non-null  int64  \n",
      " 7   yearsatcompany           62642 non-null  int64  \n",
      " 8   tag                      61788 non-null  object \n",
      " 9   basesalary               62642 non-null  int64  \n",
      " 10  stockgrantvalue          62642 non-null  int64  \n",
      " 11  bonus                    62642 non-null  int64  \n",
      " 12  gender                   43102 non-null  object \n",
      " 13  otherdetails             40139 non-null  object \n",
      " 14  cityid                   62642 non-null  int64  \n",
      " 15  dmaid                    62640 non-null  float64\n",
      " 16  rowNumber                62642 non-null  int64  \n",
      "dtypes: float64(1), int64(8), object(8)\n",
      "memory usage: 8.1+ MB\n"
     ]
    }
   ],
   "source": [
    "dataset.info()"
   ]
  },
  {
   "cell_type": "markdown",
   "id": "fcae7a84",
   "metadata": {},
   "source": [
    "It is clear to see that most columns have no or almost no missing values. The only notable exceptions to this are the gender and the otherdetails columns. For gender this is most likely because some people choose not to disclose their gender and for otherdetails I assume that this is because it is just an optional field which many people did not fill in."
   ]
  },
  {
   "cell_type": "code",
   "execution_count": 7,
   "id": "6fc28f35",
   "metadata": {
    "scrolled": true
   },
   "outputs": [
    {
     "data": {
      "text/html": [
       "<div>\n",
       "<style scoped>\n",
       "    .dataframe tbody tr th:only-of-type {\n",
       "        vertical-align: middle;\n",
       "    }\n",
       "\n",
       "    .dataframe tbody tr th {\n",
       "        vertical-align: top;\n",
       "    }\n",
       "\n",
       "    .dataframe thead th {\n",
       "        text-align: right;\n",
       "    }\n",
       "</style>\n",
       "<table border=\"1\" class=\"dataframe\">\n",
       "  <thead>\n",
       "    <tr style=\"text-align: right;\">\n",
       "      <th></th>\n",
       "      <th>timestamp</th>\n",
       "      <th>company</th>\n",
       "      <th>level</th>\n",
       "      <th>title</th>\n",
       "      <th>totalyearlycompensation</th>\n",
       "      <th>location</th>\n",
       "      <th>yearsofexperience</th>\n",
       "      <th>yearsatcompany</th>\n",
       "      <th>tag</th>\n",
       "      <th>basesalary</th>\n",
       "      <th>stockgrantvalue</th>\n",
       "      <th>bonus</th>\n",
       "      <th>gender</th>\n",
       "      <th>otherdetails</th>\n",
       "      <th>cityid</th>\n",
       "      <th>dmaid</th>\n",
       "      <th>rowNumber</th>\n",
       "    </tr>\n",
       "  </thead>\n",
       "  <tbody>\n",
       "    <tr>\n",
       "      <th>count</th>\n",
       "      <td>62642</td>\n",
       "      <td>62637</td>\n",
       "      <td>62527</td>\n",
       "      <td>62642</td>\n",
       "      <td>6.264200e+04</td>\n",
       "      <td>62642</td>\n",
       "      <td>62642.000000</td>\n",
       "      <td>62642.000000</td>\n",
       "      <td>61788</td>\n",
       "      <td>6.264200e+04</td>\n",
       "      <td>6.264200e+04</td>\n",
       "      <td>62642.000000</td>\n",
       "      <td>43102</td>\n",
       "      <td>40139</td>\n",
       "      <td>62642.000000</td>\n",
       "      <td>62640.000000</td>\n",
       "      <td>62642.000000</td>\n",
       "    </tr>\n",
       "    <tr>\n",
       "      <th>unique</th>\n",
       "      <td>62561</td>\n",
       "      <td>1869</td>\n",
       "      <td>3071</td>\n",
       "      <td>15</td>\n",
       "      <td>NaN</td>\n",
       "      <td>1050</td>\n",
       "      <td>NaN</td>\n",
       "      <td>NaN</td>\n",
       "      <td>3271</td>\n",
       "      <td>NaN</td>\n",
       "      <td>NaN</td>\n",
       "      <td>NaN</td>\n",
       "      <td>4</td>\n",
       "      <td>40132</td>\n",
       "      <td>NaN</td>\n",
       "      <td>NaN</td>\n",
       "      <td>NaN</td>\n",
       "    </tr>\n",
       "    <tr>\n",
       "      <th>top</th>\n",
       "      <td>1/10/2019 21:44:02</td>\n",
       "      <td>Amazon</td>\n",
       "      <td>L4</td>\n",
       "      <td>Software Engineer</td>\n",
       "      <td>NaN</td>\n",
       "      <td>Seattle, WA</td>\n",
       "      <td>NaN</td>\n",
       "      <td>NaN</td>\n",
       "      <td>Full Stack</td>\n",
       "      <td>NaN</td>\n",
       "      <td>NaN</td>\n",
       "      <td>NaN</td>\n",
       "      <td>Male</td>\n",
       "      <td>freaun</td>\n",
       "      <td>NaN</td>\n",
       "      <td>NaN</td>\n",
       "      <td>NaN</td>\n",
       "    </tr>\n",
       "    <tr>\n",
       "      <th>freq</th>\n",
       "      <td>3</td>\n",
       "      <td>8054</td>\n",
       "      <td>5008</td>\n",
       "      <td>41231</td>\n",
       "      <td>NaN</td>\n",
       "      <td>8701</td>\n",
       "      <td>NaN</td>\n",
       "      <td>NaN</td>\n",
       "      <td>11382</td>\n",
       "      <td>NaN</td>\n",
       "      <td>NaN</td>\n",
       "      <td>NaN</td>\n",
       "      <td>35702</td>\n",
       "      <td>2</td>\n",
       "      <td>NaN</td>\n",
       "      <td>NaN</td>\n",
       "      <td>NaN</td>\n",
       "    </tr>\n",
       "    <tr>\n",
       "      <th>mean</th>\n",
       "      <td>NaN</td>\n",
       "      <td>NaN</td>\n",
       "      <td>NaN</td>\n",
       "      <td>NaN</td>\n",
       "      <td>3.175327e+03</td>\n",
       "      <td>NaN</td>\n",
       "      <td>7.191054</td>\n",
       "      <td>2.700616</td>\n",
       "      <td>NaN</td>\n",
       "      <td>1.798145e+03</td>\n",
       "      <td>1.134865e+03</td>\n",
       "      <td>242.317199</td>\n",
       "      <td>NaN</td>\n",
       "      <td>NaN</td>\n",
       "      <td>9856.201989</td>\n",
       "      <td>616.097222</td>\n",
       "      <td>41694.723732</td>\n",
       "    </tr>\n",
       "    <tr>\n",
       "      <th>std</th>\n",
       "      <td>NaN</td>\n",
       "      <td>NaN</td>\n",
       "      <td>NaN</td>\n",
       "      <td>NaN</td>\n",
       "      <td>3.877877e+04</td>\n",
       "      <td>NaN</td>\n",
       "      <td>6.437148</td>\n",
       "      <td>3.524030</td>\n",
       "      <td>NaN</td>\n",
       "      <td>1.927194e+04</td>\n",
       "      <td>2.520611e+04</td>\n",
       "      <td>3709.187697</td>\n",
       "      <td>NaN</td>\n",
       "      <td>NaN</td>\n",
       "      <td>6679.104563</td>\n",
       "      <td>289.843390</td>\n",
       "      <td>24488.865879</td>\n",
       "    </tr>\n",
       "    <tr>\n",
       "      <th>min</th>\n",
       "      <td>NaN</td>\n",
       "      <td>NaN</td>\n",
       "      <td>NaN</td>\n",
       "      <td>NaN</td>\n",
       "      <td>0.000000e+00</td>\n",
       "      <td>NaN</td>\n",
       "      <td>0.000000</td>\n",
       "      <td>0.000000</td>\n",
       "      <td>NaN</td>\n",
       "      <td>0.000000e+00</td>\n",
       "      <td>0.000000e+00</td>\n",
       "      <td>0.000000</td>\n",
       "      <td>NaN</td>\n",
       "      <td>NaN</td>\n",
       "      <td>0.000000</td>\n",
       "      <td>0.000000</td>\n",
       "      <td>1.000000</td>\n",
       "    </tr>\n",
       "    <tr>\n",
       "      <th>25%</th>\n",
       "      <td>NaN</td>\n",
       "      <td>NaN</td>\n",
       "      <td>NaN</td>\n",
       "      <td>NaN</td>\n",
       "      <td>1.160000e+02</td>\n",
       "      <td>NaN</td>\n",
       "      <td>3.000000</td>\n",
       "      <td>0.000000</td>\n",
       "      <td>NaN</td>\n",
       "      <td>8.800000e+01</td>\n",
       "      <td>0.000000e+00</td>\n",
       "      <td>1.000000</td>\n",
       "      <td>NaN</td>\n",
       "      <td>NaN</td>\n",
       "      <td>7369.000000</td>\n",
       "      <td>506.000000</td>\n",
       "      <td>20069.250000</td>\n",
       "    </tr>\n",
       "    <tr>\n",
       "      <th>50%</th>\n",
       "      <td>NaN</td>\n",
       "      <td>NaN</td>\n",
       "      <td>NaN</td>\n",
       "      <td>NaN</td>\n",
       "      <td>1.830000e+02</td>\n",
       "      <td>NaN</td>\n",
       "      <td>6.000000</td>\n",
       "      <td>1.000000</td>\n",
       "      <td>NaN</td>\n",
       "      <td>1.310000e+02</td>\n",
       "      <td>2.300000e+01</td>\n",
       "      <td>13.000000</td>\n",
       "      <td>NaN</td>\n",
       "      <td>NaN</td>\n",
       "      <td>7839.000000</td>\n",
       "      <td>807.000000</td>\n",
       "      <td>42019.000000</td>\n",
       "    </tr>\n",
       "    <tr>\n",
       "      <th>75%</th>\n",
       "      <td>NaN</td>\n",
       "      <td>NaN</td>\n",
       "      <td>NaN</td>\n",
       "      <td>NaN</td>\n",
       "      <td>2.690000e+02</td>\n",
       "      <td>NaN</td>\n",
       "      <td>10.000000</td>\n",
       "      <td>4.000000</td>\n",
       "      <td>NaN</td>\n",
       "      <td>1.810000e+02</td>\n",
       "      <td>6.400000e+01</td>\n",
       "      <td>27.000000</td>\n",
       "      <td>NaN</td>\n",
       "      <td>NaN</td>\n",
       "      <td>11521.000000</td>\n",
       "      <td>807.000000</td>\n",
       "      <td>63021.750000</td>\n",
       "    </tr>\n",
       "    <tr>\n",
       "      <th>max</th>\n",
       "      <td>NaN</td>\n",
       "      <td>NaN</td>\n",
       "      <td>NaN</td>\n",
       "      <td>NaN</td>\n",
       "      <td>3.386013e+06</td>\n",
       "      <td>NaN</td>\n",
       "      <td>90.000000</td>\n",
       "      <td>90.000000</td>\n",
       "      <td>NaN</td>\n",
       "      <td>2.057772e+06</td>\n",
       "      <td>3.140803e+06</td>\n",
       "      <td>384026.000000</td>\n",
       "      <td>NaN</td>\n",
       "      <td>NaN</td>\n",
       "      <td>47926.000000</td>\n",
       "      <td>881.000000</td>\n",
       "      <td>83875.000000</td>\n",
       "    </tr>\n",
       "  </tbody>\n",
       "</table>\n",
       "</div>"
      ],
      "text/plain": [
       "                 timestamp company  level              title  \\\n",
       "count                62642   62637  62527              62642   \n",
       "unique               62561    1869   3071                 15   \n",
       "top     1/10/2019 21:44:02  Amazon     L4  Software Engineer   \n",
       "freq                     3    8054   5008              41231   \n",
       "mean                   NaN     NaN    NaN                NaN   \n",
       "std                    NaN     NaN    NaN                NaN   \n",
       "min                    NaN     NaN    NaN                NaN   \n",
       "25%                    NaN     NaN    NaN                NaN   \n",
       "50%                    NaN     NaN    NaN                NaN   \n",
       "75%                    NaN     NaN    NaN                NaN   \n",
       "max                    NaN     NaN    NaN                NaN   \n",
       "\n",
       "        totalyearlycompensation     location  yearsofexperience  \\\n",
       "count              6.264200e+04        62642       62642.000000   \n",
       "unique                      NaN         1050                NaN   \n",
       "top                         NaN  Seattle, WA                NaN   \n",
       "freq                        NaN         8701                NaN   \n",
       "mean               3.175327e+03          NaN           7.191054   \n",
       "std                3.877877e+04          NaN           6.437148   \n",
       "min                0.000000e+00          NaN           0.000000   \n",
       "25%                1.160000e+02          NaN           3.000000   \n",
       "50%                1.830000e+02          NaN           6.000000   \n",
       "75%                2.690000e+02          NaN          10.000000   \n",
       "max                3.386013e+06          NaN          90.000000   \n",
       "\n",
       "        yearsatcompany         tag    basesalary  stockgrantvalue  \\\n",
       "count     62642.000000       61788  6.264200e+04     6.264200e+04   \n",
       "unique             NaN        3271           NaN              NaN   \n",
       "top                NaN  Full Stack           NaN              NaN   \n",
       "freq               NaN       11382           NaN              NaN   \n",
       "mean          2.700616         NaN  1.798145e+03     1.134865e+03   \n",
       "std           3.524030         NaN  1.927194e+04     2.520611e+04   \n",
       "min           0.000000         NaN  0.000000e+00     0.000000e+00   \n",
       "25%           0.000000         NaN  8.800000e+01     0.000000e+00   \n",
       "50%           1.000000         NaN  1.310000e+02     2.300000e+01   \n",
       "75%           4.000000         NaN  1.810000e+02     6.400000e+01   \n",
       "max          90.000000         NaN  2.057772e+06     3.140803e+06   \n",
       "\n",
       "                bonus gender otherdetails        cityid         dmaid  \\\n",
       "count    62642.000000  43102        40139  62642.000000  62640.000000   \n",
       "unique            NaN      4        40132           NaN           NaN   \n",
       "top               NaN   Male       freaun           NaN           NaN   \n",
       "freq              NaN  35702            2           NaN           NaN   \n",
       "mean       242.317199    NaN          NaN   9856.201989    616.097222   \n",
       "std       3709.187697    NaN          NaN   6679.104563    289.843390   \n",
       "min          0.000000    NaN          NaN      0.000000      0.000000   \n",
       "25%          1.000000    NaN          NaN   7369.000000    506.000000   \n",
       "50%         13.000000    NaN          NaN   7839.000000    807.000000   \n",
       "75%         27.000000    NaN          NaN  11521.000000    807.000000   \n",
       "max     384026.000000    NaN          NaN  47926.000000    881.000000   \n",
       "\n",
       "           rowNumber  \n",
       "count   62642.000000  \n",
       "unique           NaN  \n",
       "top              NaN  \n",
       "freq             NaN  \n",
       "mean    41694.723732  \n",
       "std     24488.865879  \n",
       "min         1.000000  \n",
       "25%     20069.250000  \n",
       "50%     42019.000000  \n",
       "75%     63021.750000  \n",
       "max     83875.000000  "
      ]
     },
     "execution_count": 7,
     "metadata": {},
     "output_type": "execute_result"
    }
   ],
   "source": [
    "dataset.describe(include=\"all\")"
   ]
  },
  {
   "cell_type": "markdown",
   "id": "b3c4a204",
   "metadata": {},
   "source": [
    "By observing the description of all columns of the dataset we can draw the following conclusions:\n",
    "- timestamp: The timestamp should be used because salaries increase over time due to inflation. However it should be converted to a unix timestamp so that an actual ordering can take place\n",
    "- company: Given that there are 1869 different companies in the dataset it might seam reasonable to drop the column. However, i suspect only that only a few companies make up for a significant proportion of the entries of the dataset. In that case we can (and should) do some feature engineering to create value out of the column. After all, the company that one is employed at does make a big difference.\n",
    "- level: The level column is a column I would drop. The reason for that is that there are so many different levels across companies (in this dataset, there are 3071 different levels). Even worse, levels can be ambiguous: As an example, an E6 engineer at Netflix would be an E7 engineer at Facebook ([source](https://www.levels.fyi/?compare=Netflix,Facebook&track=Software%20Engineer)). In addition, the level usually correlates with the years of experience. So we can use the years of experience as a proxy for the level.\n",
    "- title: Since there are only 15 different titles in the dataset and the role is important for the salary (and also for the distribution of the salary into base, stock and bonus) could be one hot encoded or we could use the mean base salary for each distinct title.\n",
    "- totalyearlycompensation: Looking at the distribution of values it appears that something is wrong. Apparently, the salary is already given in thousands (of dollars). So either the maximum is a complete outlier or some salaries are given in thousands of dollars and some in dollars. This column needs further investigation.\n",
    "- location: This column has a lot of unique values (1050), however similarly to the company column I suspect that a large proportion of data points only has few unique values so the information revealed by this column could be leveraged by using feature engineering, especially since location is one of the main drivers of compensation\n",
    "- yearsofexperience: This column looks almost as one would expect it to be, apart from the fact that the maximum (90 years of experience) seems unlikely. So we should further investigate this column and filter the unrealistic outliers.\n",
    "- yearsatcompany: This columns is similar to the yearsofexperience column. Outliers need to be filtered but other than that, the column seems fine.\n",
    "- tag: The tag column needs further investigation, too. In principle, different subtypes of roles (e.g. full-stack engineer vs data engineer) earn different salaries on average ([source](https://spectrum.ieee.org/machine-learning-engineers-win-silicon-valleys-salary-race-but-top-salaries-drop-since-last-year)).\n",
    "- basesalary: our target value. One can say the same about the basesalary column as about the totalyearlycompensation. It needs some cleaning\n",
    "- stockgrantvalue: see basesalary\n",
    "- bonus: see basesalary\n",
    "- gender: ideally, gender should not have an influence on compensation. However, this is the real world and therefore I suspect that it does. So we will investigate it and see how we encode it, given that it has 4 unique values.\n",
    "- otherdetails: This column should be dropped because a third of its entries are null and the rest of them are practically unique.\n",
    "- cityid: we will encode the location names later on so we do not need the city id.\n",
    "- dmaid: To me it is unclear what this is. The most plausible [explanation](https://www.liveabout.com/what-is-a-designated-market-area-dma-2315180) I found was that dma stands for designated market area. However, there should only exist 210 dmas and in the dataset the maximum value is 881. Therefore, this column will be dropped.\n",
    "- rownumber: This column is like the index and should therefore be dropped because it is unique."
   ]
  },
  {
   "cell_type": "markdown",
   "id": "201f0998",
   "metadata": {},
   "source": [
    "<a id=\"cleaning_text_columns\"></a>\n",
    "### Data cleaning: Text columns (company, title, tag, location)\n",
    "[Back to start of chapter](#data_cleaning) <br/>\n",
    "We would like to eliminate inconsistensies in text data. Some people seem to misspell the name of their company for example. Let's have a look at it."
   ]
  },
  {
   "cell_type": "markdown",
   "id": "487ca534",
   "metadata": {},
   "source": [
    "#### Company column\n",
    "Let's clean the company column first. We will start by filling the missing company names"
   ]
  },
  {
   "cell_type": "code",
   "execution_count": 8,
   "id": "4945c600",
   "metadata": {
    "scrolled": true
   },
   "outputs": [
    {
     "data": {
      "text/html": [
       "<div>\n",
       "<style scoped>\n",
       "    .dataframe tbody tr th:only-of-type {\n",
       "        vertical-align: middle;\n",
       "    }\n",
       "\n",
       "    .dataframe tbody tr th {\n",
       "        vertical-align: top;\n",
       "    }\n",
       "\n",
       "    .dataframe thead th {\n",
       "        text-align: right;\n",
       "    }\n",
       "</style>\n",
       "<table border=\"1\" class=\"dataframe\">\n",
       "  <thead>\n",
       "    <tr style=\"text-align: right;\">\n",
       "      <th></th>\n",
       "      <th>timestamp</th>\n",
       "      <th>company</th>\n",
       "      <th>level</th>\n",
       "      <th>title</th>\n",
       "      <th>totalyearlycompensation</th>\n",
       "      <th>location</th>\n",
       "      <th>yearsofexperience</th>\n",
       "      <th>yearsatcompany</th>\n",
       "      <th>tag</th>\n",
       "      <th>basesalary</th>\n",
       "      <th>stockgrantvalue</th>\n",
       "      <th>bonus</th>\n",
       "      <th>gender</th>\n",
       "      <th>otherdetails</th>\n",
       "      <th>cityid</th>\n",
       "      <th>dmaid</th>\n",
       "      <th>rowNumber</th>\n",
       "    </tr>\n",
       "  </thead>\n",
       "  <tbody>\n",
       "    <tr>\n",
       "      <th>11162</th>\n",
       "      <td>9/9/2020 17:52:14</td>\n",
       "      <td>NaN</td>\n",
       "      <td>Mid Level</td>\n",
       "      <td>Software Engineer</td>\n",
       "      <td>81</td>\n",
       "      <td>Arlington, VA</td>\n",
       "      <td>3</td>\n",
       "      <td>2</td>\n",
       "      <td>Full Stack</td>\n",
       "      <td>81</td>\n",
       "      <td>0</td>\n",
       "      <td>0</td>\n",
       "      <td>Male</td>\n",
       "      <td>skaong ghooll mccriouls kweacy</td>\n",
       "      <td>11342</td>\n",
       "      <td>511.0</td>\n",
       "      <td>40475</td>\n",
       "    </tr>\n",
       "    <tr>\n",
       "      <th>19102</th>\n",
       "      <td>7/11/2019 7:28:03</td>\n",
       "      <td>NaN</td>\n",
       "      <td>Mid-level</td>\n",
       "      <td>Software Engineer</td>\n",
       "      <td>114</td>\n",
       "      <td>Atlanta, GA</td>\n",
       "      <td>1</td>\n",
       "      <td>0</td>\n",
       "      <td>Distributed Systems (Back-End)</td>\n",
       "      <td>107</td>\n",
       "      <td>0</td>\n",
       "      <td>7</td>\n",
       "      <td>Male</td>\n",
       "      <td>NaN</td>\n",
       "      <td>7839</td>\n",
       "      <td>524.0</td>\n",
       "      <td>11672</td>\n",
       "    </tr>\n",
       "    <tr>\n",
       "      <th>19816</th>\n",
       "      <td>7/23/2019 20:47:51</td>\n",
       "      <td>NaN</td>\n",
       "      <td>Junior</td>\n",
       "      <td>Software Engineer</td>\n",
       "      <td>58</td>\n",
       "      <td>Melbourne, VI, Australia</td>\n",
       "      <td>2</td>\n",
       "      <td>1</td>\n",
       "      <td>API Development (Back-End)</td>\n",
       "      <td>58</td>\n",
       "      <td>0</td>\n",
       "      <td>0</td>\n",
       "      <td>Male</td>\n",
       "      <td>NaN</td>\n",
       "      <td>1225</td>\n",
       "      <td>0.0</td>\n",
       "      <td>12290</td>\n",
       "    </tr>\n",
       "    <tr>\n",
       "      <th>26705</th>\n",
       "      <td>8/19/2020 1:49:49</td>\n",
       "      <td>NaN</td>\n",
       "      <td>Senior</td>\n",
       "      <td>Software Engineer</td>\n",
       "      <td>150</td>\n",
       "      <td>Dublin, DN, Ireland</td>\n",
       "      <td>3</td>\n",
       "      <td>1</td>\n",
       "      <td>Web Development (Front-End)</td>\n",
       "      <td>150</td>\n",
       "      <td>0</td>\n",
       "      <td>0</td>\n",
       "      <td>Male</td>\n",
       "      <td>kiitt suintly skauepp cheosts dyniouny kraiods...</td>\n",
       "      <td>4015</td>\n",
       "      <td>0.0</td>\n",
       "      <td>37093</td>\n",
       "    </tr>\n",
       "    <tr>\n",
       "      <th>56059</th>\n",
       "      <td>9/23/2018 15:53:13</td>\n",
       "      <td>NaN</td>\n",
       "      <td>VP</td>\n",
       "      <td>Software Engineering Manager</td>\n",
       "      <td>371</td>\n",
       "      <td>Austin, TX</td>\n",
       "      <td>18</td>\n",
       "      <td>4</td>\n",
       "      <td>NaN</td>\n",
       "      <td>322</td>\n",
       "      <td>0</td>\n",
       "      <td>49</td>\n",
       "      <td>NaN</td>\n",
       "      <td>NaN</td>\n",
       "      <td>10965</td>\n",
       "      <td>635.0</td>\n",
       "      <td>2244</td>\n",
       "    </tr>\n",
       "  </tbody>\n",
       "</table>\n",
       "</div>"
      ],
      "text/plain": [
       "                timestamp company      level                         title  \\\n",
       "11162   9/9/2020 17:52:14     NaN  Mid Level             Software Engineer   \n",
       "19102   7/11/2019 7:28:03     NaN  Mid-level             Software Engineer   \n",
       "19816  7/23/2019 20:47:51     NaN     Junior             Software Engineer   \n",
       "26705   8/19/2020 1:49:49     NaN     Senior             Software Engineer   \n",
       "56059  9/23/2018 15:53:13     NaN         VP  Software Engineering Manager   \n",
       "\n",
       "       totalyearlycompensation                  location  yearsofexperience  \\\n",
       "11162                       81             Arlington, VA                  3   \n",
       "19102                      114               Atlanta, GA                  1   \n",
       "19816                       58  Melbourne, VI, Australia                  2   \n",
       "26705                      150       Dublin, DN, Ireland                  3   \n",
       "56059                      371                Austin, TX                 18   \n",
       "\n",
       "       yearsatcompany                             tag  basesalary  \\\n",
       "11162               2                      Full Stack          81   \n",
       "19102               0  Distributed Systems (Back-End)         107   \n",
       "19816               1      API Development (Back-End)          58   \n",
       "26705               1     Web Development (Front-End)         150   \n",
       "56059               4                             NaN         322   \n",
       "\n",
       "       stockgrantvalue  bonus gender  \\\n",
       "11162                0      0   Male   \n",
       "19102                0      7   Male   \n",
       "19816                0      0   Male   \n",
       "26705                0      0   Male   \n",
       "56059                0     49    NaN   \n",
       "\n",
       "                                            otherdetails  cityid  dmaid  \\\n",
       "11162                     skaong ghooll mccriouls kweacy   11342  511.0   \n",
       "19102                                                NaN    7839  524.0   \n",
       "19816                                                NaN    1225    0.0   \n",
       "26705  kiitt suintly skauepp cheosts dyniouny kraiods...    4015    0.0   \n",
       "56059                                                NaN   10965  635.0   \n",
       "\n",
       "       rowNumber  \n",
       "11162      40475  \n",
       "19102      11672  \n",
       "19816      12290  \n",
       "26705      37093  \n",
       "56059       2244  "
      ]
     },
     "execution_count": 8,
     "metadata": {},
     "output_type": "execute_result"
    }
   ],
   "source": [
    "dataset[dataset[\"company\"].isnull()]"
   ]
  },
  {
   "cell_type": "code",
   "execution_count": 9,
   "id": "a2b7f379",
   "metadata": {},
   "outputs": [],
   "source": [
    "dataset[\"company\"].fillna(\"Unknown\",inplace=True)"
   ]
  },
  {
   "cell_type": "markdown",
   "id": "95bc6c8a",
   "metadata": {},
   "source": [
    "Most people believe that employees at big tech companies are pretty smart. Let's prove them wrong by showing that some of these employees don't even know how to spell the name of their company right."
   ]
  },
  {
   "cell_type": "code",
   "execution_count": 10,
   "id": "d23b1e99",
   "metadata": {
    "scrolled": true
   },
   "outputs": [
    {
     "data": {
      "text/plain": [
       "(6, 17)"
      ]
     },
     "execution_count": 10,
     "metadata": {},
     "output_type": "execute_result"
    }
   ],
   "source": [
    "dataset[dataset[\"company\"] == \"linkedin\"].shape"
   ]
  },
  {
   "cell_type": "code",
   "execution_count": 11,
   "id": "e257f98b",
   "metadata": {
    "scrolled": true
   },
   "outputs": [
    {
     "data": {
      "text/plain": [
       "(694, 17)"
      ]
     },
     "execution_count": 11,
     "metadata": {},
     "output_type": "execute_result"
    }
   ],
   "source": [
    "dataset[dataset[\"company\"] == \"LinkedIn\"].shape"
   ]
  },
  {
   "cell_type": "code",
   "execution_count": 12,
   "id": "058032e9",
   "metadata": {
    "scrolled": false
   },
   "outputs": [
    {
     "data": {
      "text/plain": [
       "(43, 17)"
      ]
     },
     "execution_count": 12,
     "metadata": {},
     "output_type": "execute_result"
    }
   ],
   "source": [
    "dataset[dataset[\"company\"] == \"Linkedin\"].shape"
   ]
  },
  {
   "cell_type": "code",
   "execution_count": 13,
   "id": "5e7feb33",
   "metadata": {},
   "outputs": [
    {
     "data": {
      "text/plain": [
       "(4313, 17)"
      ]
     },
     "execution_count": 13,
     "metadata": {},
     "output_type": "execute_result"
    }
   ],
   "source": [
    "dataset[dataset[\"company\"] == \"Google\"].shape"
   ]
  },
  {
   "cell_type": "code",
   "execution_count": 14,
   "id": "a43dd1df",
   "metadata": {},
   "outputs": [
    {
     "data": {
      "text/plain": [
       "(31, 17)"
      ]
     },
     "execution_count": 14,
     "metadata": {},
     "output_type": "execute_result"
    }
   ],
   "source": [
    "dataset[dataset[\"company\"] == \"google\"].shape"
   ]
  },
  {
   "cell_type": "code",
   "execution_count": 15,
   "id": "efabc379",
   "metadata": {},
   "outputs": [
    {
     "data": {
      "text/plain": [
       "(941, 17)"
      ]
     },
     "execution_count": 15,
     "metadata": {},
     "output_type": "execute_result"
    }
   ],
   "source": [
    "dataset[dataset[\"company\"] == \"Intel\"].shape"
   ]
  },
  {
   "cell_type": "code",
   "execution_count": 16,
   "id": "18b2fd70",
   "metadata": {},
   "outputs": [
    {
     "data": {
      "text/plain": [
       "(17, 17)"
      ]
     },
     "execution_count": 16,
     "metadata": {},
     "output_type": "execute_result"
    }
   ],
   "source": [
    "dataset[dataset[\"company\"] == \"intel\"].shape"
   ]
  },
  {
   "cell_type": "markdown",
   "id": "e70a8ed0",
   "metadata": {},
   "source": [
    "As you can see this has happened with many companies. Therefore we will transform all company names to lower case so that \"Google\" and \"google\" are treated as the same company from now on."
   ]
  },
  {
   "cell_type": "code",
   "execution_count": 17,
   "id": "90066f7a",
   "metadata": {},
   "outputs": [],
   "source": [
    "dataset[\"company\"] = dataset[\"company\"].str.lower()"
   ]
  },
  {
   "cell_type": "code",
   "execution_count": 18,
   "id": "cdcc6610",
   "metadata": {},
   "outputs": [
    {
     "data": {
      "text/plain": [
       "amazon                  8125\n",
       "microsoft               5187\n",
       "google                  4345\n",
       "facebook                2975\n",
       "apple                   2034\n",
       "                        ... \n",
       "equipmentshare             1\n",
       "ericsson                   1\n",
       "akamai technologies        1\n",
       "cloudera                   1\n",
       "lendingtree                1\n",
       "Name: company, Length: 1337, dtype: int64"
      ]
     },
     "execution_count": 18,
     "metadata": {},
     "output_type": "execute_result"
    }
   ],
   "source": [
    "dataset[\"company\"].value_counts()"
   ]
  },
  {
   "cell_type": "markdown",
   "id": "911ecb9c",
   "metadata": {},
   "source": [
    "And all of a sudden more than 500 companies have disappeared. Let's remove all whitespaces and see if that helps."
   ]
  },
  {
   "cell_type": "code",
   "execution_count": 19,
   "id": "21e60d2b",
   "metadata": {},
   "outputs": [],
   "source": [
    "dataset[\"company\"] = dataset[\"company\"].str.replace(\" \", \"\")"
   ]
  },
  {
   "cell_type": "code",
   "execution_count": 20,
   "id": "dbf02aa6",
   "metadata": {},
   "outputs": [
    {
     "data": {
      "text/plain": [
       "amazon           8199\n",
       "microsoft        5241\n",
       "google           4362\n",
       "facebook         3004\n",
       "apple            2047\n",
       "                 ... \n",
       "gigamon             5\n",
       "stockx              5\n",
       "truckstop.com       5\n",
       "meesho              5\n",
       " google             1\n",
       "Name: company, Length: 1100, dtype: int64"
      ]
     },
     "execution_count": 20,
     "metadata": {},
     "output_type": "execute_result"
    }
   ],
   "source": [
    "dataset[\"company\"].value_counts()"
   ]
  },
  {
   "cell_type": "markdown",
   "id": "aed3029c",
   "metadata": {},
   "source": [
    "Nice! Seems like we removed a further ~250 companies."
   ]
  },
  {
   "cell_type": "markdown",
   "id": "9b64cd66",
   "metadata": {},
   "source": [
    "#### Title column"
   ]
  },
  {
   "cell_type": "code",
   "execution_count": 21,
   "id": "bb56b3af",
   "metadata": {
    "scrolled": true
   },
   "outputs": [
    {
     "data": {
      "text/plain": [
       "Software Engineer               41231\n",
       "Product Manager                  4673\n",
       "Software Engineering Manager     3569\n",
       "Data Scientist                   2578\n",
       "Hardware Engineer                2200\n",
       "Product Designer                 1516\n",
       "Technical Program Manager        1381\n",
       "Solution Architect               1157\n",
       "Management Consultant             976\n",
       "Business Analyst                  885\n",
       "Marketing                         710\n",
       "Mechanical Engineer               490\n",
       "Sales                             461\n",
       "Recruiter                         451\n",
       "Human Resources                   364\n",
       "Name: title, dtype: int64"
      ]
     },
     "execution_count": 21,
     "metadata": {},
     "output_type": "execute_result"
    }
   ],
   "source": [
    "dataset[\"title\"].value_counts()"
   ]
  },
  {
   "cell_type": "markdown",
   "id": "edd74bad",
   "metadata": {},
   "source": [
    "Since the title column has so little unique values we can inspect it manually and see that no further cleaning is needed for it"
   ]
  },
  {
   "cell_type": "markdown",
   "id": "4e9a4bce",
   "metadata": {},
   "source": [
    "#### Location column"
   ]
  },
  {
   "cell_type": "code",
   "execution_count": 22,
   "id": "a2ce44f2",
   "metadata": {},
   "outputs": [
    {
     "data": {
      "text/plain": [
       "Seattle, WA            8701\n",
       "San Francisco, CA      6797\n",
       "New York, NY           4562\n",
       "Redmond, WA            2649\n",
       "Mountain View, CA      2275\n",
       "                       ... \n",
       "Cheyenne, WY              1\n",
       "Schenectady, NY           1\n",
       "Rio Rancho, NM            1\n",
       "Fairfax Station, VA       1\n",
       "Ulm, BW, Germany          1\n",
       "Name: location, Length: 1050, dtype: int64"
      ]
     },
     "execution_count": 22,
     "metadata": {},
     "output_type": "execute_result"
    }
   ],
   "source": [
    "dataset[\"location\"].value_counts()"
   ]
  },
  {
   "cell_type": "code",
   "execution_count": 23,
   "id": "24343d37",
   "metadata": {},
   "outputs": [
    {
     "data": {
      "text/plain": [
       "(0, 17)"
      ]
     },
     "execution_count": 23,
     "metadata": {},
     "output_type": "execute_result"
    }
   ],
   "source": [
    "dataset[dataset[\"location\"].str.contains(\"seattle\")].shape"
   ]
  },
  {
   "cell_type": "code",
   "execution_count": 24,
   "id": "23d2dfe9",
   "metadata": {},
   "outputs": [
    {
     "data": {
      "text/plain": [
       "(0, 17)"
      ]
     },
     "execution_count": 24,
     "metadata": {},
     "output_type": "execute_result"
    }
   ],
   "source": [
    "dataset[dataset[\"location\"].str.contains(\"york\")].shape"
   ]
  },
  {
   "cell_type": "code",
   "execution_count": 25,
   "id": "864ac241",
   "metadata": {},
   "outputs": [
    {
     "data": {
      "text/plain": [
       "(0, 17)"
      ]
     },
     "execution_count": 25,
     "metadata": {},
     "output_type": "execute_result"
    }
   ],
   "source": [
    "dataset[dataset[\"location\"].str.contains(\"redmond\")].shape"
   ]
  },
  {
   "cell_type": "markdown",
   "id": "6461e779",
   "metadata": {},
   "source": [
    "Alright. With this column we need to proceed a little differently since it seems like there are no misspelt columns. There is something else to note though."
   ]
  },
  {
   "cell_type": "code",
   "execution_count": 26,
   "id": "6ed8e666",
   "metadata": {},
   "outputs": [
    {
     "data": {
      "text/plain": [
       "(0, 17)"
      ]
     },
     "execution_count": 26,
     "metadata": {},
     "output_type": "execute_result"
    }
   ],
   "source": [
    "dataset[~dataset[\"location\"].str.contains(\",\")].shape"
   ]
  },
  {
   "cell_type": "markdown",
   "id": "16c5808f",
   "metadata": {},
   "source": [
    "As we can see, all locations are comma-separated. This leads me to assume that they have the following format:\n",
    "\\<City\\>, \\<State\\>, \\<Country\\> where either the country or the state is optional. If we retrieve the word after the last comma we can move one geographical layer \"upwards\" e.g. group all entries from California together. This way we might lose some information but we will drastically reduce the complexity of the data in the location column. After all there is not too much difference in salary between different places in California or Washington."
   ]
  },
  {
   "cell_type": "code",
   "execution_count": 27,
   "id": "ca9c1743",
   "metadata": {},
   "outputs": [],
   "source": [
    "dataset[\"location\"] = dataset[\"location\"].apply(lambda x: x.replace(\" \",\"\").split(\",\")[-1])"
   ]
  },
  {
   "cell_type": "code",
   "execution_count": 28,
   "id": "a6478be6",
   "metadata": {},
   "outputs": [
    {
     "data": {
      "text/plain": [
       "CA                 22824\n",
       "WA                 12353\n",
       "NY                  4715\n",
       "India               2830\n",
       "TX                  2702\n",
       "                   ...  \n",
       "Panama                 1\n",
       "Qatar                  1\n",
       "MarshallIslands        1\n",
       "Armenia                1\n",
       "Ghana                  1\n",
       "Name: location, Length: 129, dtype: int64"
      ]
     },
     "execution_count": 28,
     "metadata": {},
     "output_type": "execute_result"
    }
   ],
   "source": [
    "dataset[\"location\"].value_counts()"
   ]
  },
  {
   "cell_type": "markdown",
   "id": "c9a3f778",
   "metadata": {},
   "source": [
    "And there we go. We reduced the number of unique values in this column by almost 90%!"
   ]
  },
  {
   "cell_type": "markdown",
   "id": "64931b87",
   "metadata": {},
   "source": [
    "#### Tag column\n",
    "The tag has some missing values. Let's remove them first."
   ]
  },
  {
   "cell_type": "code",
   "execution_count": 29,
   "id": "d805020b",
   "metadata": {},
   "outputs": [],
   "source": [
    "dataset[\"tag\"].fillna(\"Unknown\",inplace=True)"
   ]
  },
  {
   "cell_type": "code",
   "execution_count": 30,
   "id": "85116db2",
   "metadata": {},
   "outputs": [
    {
     "data": {
      "text/plain": [
       "Full Stack                            11382\n",
       "Distributed Systems (Back-End)        10838\n",
       "API Development (Back-End)             6277\n",
       "ML / AI                                4204\n",
       "Web Development (Front-End)            2971\n",
       "                                      ...  \n",
       "Corporate Services                        1\n",
       "chip design                               1\n",
       "Data and Insights                         1\n",
       "Manage Team of Software Developers        1\n",
       "Cloud, IoT                                1\n",
       "Name: tag, Length: 3271, dtype: int64"
      ]
     },
     "execution_count": 30,
     "metadata": {},
     "output_type": "execute_result"
    }
   ],
   "source": [
    "dataset[\"tag\"].value_counts()"
   ]
  },
  {
   "cell_type": "markdown",
   "id": "8816aa3e",
   "metadata": {},
   "source": [
    "The first thing we notice is that backend is decoded in many different ways. Let's remove the hypons and turn all tags to lower case."
   ]
  },
  {
   "cell_type": "code",
   "execution_count": 31,
   "id": "5a6beb23",
   "metadata": {},
   "outputs": [],
   "source": [
    "dataset[\"tag\"] = dataset[\"tag\"].str.lower()\n",
    "dataset[\"tag\"] = dataset[\"tag\"].str.replace(\"-\",\"\")"
   ]
  },
  {
   "cell_type": "code",
   "execution_count": 32,
   "id": "7e57fac3",
   "metadata": {
    "scrolled": true
   },
   "outputs": [
    {
     "data": {
      "text/plain": [
       "full stack                       11383\n",
       "distributed systems (backend)    10838\n",
       "api development (backend)         6277\n",
       "ml / ai                           4204\n",
       "web development (frontend)        2971\n",
       "                                 ...  \n",
       "whs                                  1\n",
       "operations finance                   1\n",
       "native/lowlevel sw                   1\n",
       "tools development                    1\n",
       "hardware apps                        1\n",
       "Name: tag, Length: 2827, dtype: int64"
      ]
     },
     "execution_count": 32,
     "metadata": {},
     "output_type": "execute_result"
    }
   ],
   "source": [
    "dataset[\"tag\"].value_counts()"
   ]
  },
  {
   "cell_type": "markdown",
   "id": "b8e6fb37",
   "metadata": {},
   "source": [
    "Seems like we already reduce the number of unique values by ~450. Let's group all the people in backend together and do the same with all frontend devs."
   ]
  },
  {
   "cell_type": "code",
   "execution_count": 33,
   "id": "dbdb4293",
   "metadata": {},
   "outputs": [],
   "source": [
    "dataset[\"tag\"].where(~dataset[\"tag\"].str.contains(\"backend\"),\"backend\", inplace=True)\n",
    "dataset[\"tag\"].where(~dataset[\"tag\"].str.contains(\"frontend\"),\"frontend\", inplace=True)"
   ]
  },
  {
   "cell_type": "code",
   "execution_count": 34,
   "id": "380d5ba2",
   "metadata": {},
   "outputs": [
    {
     "data": {
      "text/plain": [
       "backend                       17202\n",
       "full stack                    11383\n",
       "ml / ai                        4204\n",
       "frontend                       2973\n",
       "product                        1805\n",
       "                              ...  \n",
       "admin and supportive roles        1\n",
       "pm for iot                        1\n",
       "software enabling                 1\n",
       "rpa+chatbot                       1\n",
       "hardware apps                     1\n",
       "Name: tag, Length: 2806, dtype: int64"
      ]
     },
     "execution_count": 34,
     "metadata": {},
     "output_type": "execute_result"
    }
   ],
   "source": [
    "dataset[\"tag\"].value_counts()"
   ]
  },
  {
   "cell_type": "markdown",
   "id": "9ca4d153",
   "metadata": {},
   "source": [
    "We haven't reduced the number of unique values by much but we have grouped a lot of similar big groups to one even bigger group, namely all backend developers."
   ]
  },
  {
   "cell_type": "markdown",
   "id": "fccf5041",
   "metadata": {},
   "source": [
    "<a id=\"cleaning_timestamp\"></a>\n",
    "### Data cleaning: Timestamp column\n",
    "[Back to start of chapter](#data_cleaning) <br/>\n",
    "It's time to convert the timestamp to a proper unix timestamp. From the output of dataset.describe() we can see that the top value is 2/25/2020, meaning that the format is month/day/year."
   ]
  },
  {
   "cell_type": "code",
   "execution_count": 35,
   "id": "dde0b66e",
   "metadata": {},
   "outputs": [
    {
     "data": {
      "text/plain": [
       "'11/3/2020 10:26:30'"
      ]
     },
     "execution_count": 35,
     "metadata": {},
     "output_type": "execute_result"
    }
   ],
   "source": [
    "dataset[\"timestamp\"][0]"
   ]
  },
  {
   "cell_type": "code",
   "execution_count": 36,
   "id": "1e22aeab",
   "metadata": {},
   "outputs": [],
   "source": [
    "def to_timestamp(string_rep: str) -> datetime.datetime.timestamp:\n",
    "    day = string_rep.split()[0]\n",
    "    return datetime.datetime.strptime(day, \"%m/%d/%Y\").timestamp()"
   ]
  },
  {
   "cell_type": "code",
   "execution_count": 37,
   "id": "4700a45a",
   "metadata": {},
   "outputs": [],
   "source": [
    "dataset[\"timestamp\"] = dataset[\"timestamp\"].apply(lambda x: to_timestamp(x))"
   ]
  },
  {
   "cell_type": "markdown",
   "id": "5fce723e",
   "metadata": {},
   "source": [
    "<a id=\"cleaning_compensation\"></a>\n",
    "### Data cleaning: Compensation\n",
    "[Back to start of chapter](#data_cleaning) <br/>\n",
    "Since the base salary data is messed up, check what's wrong with it and fix it"
   ]
  },
  {
   "cell_type": "code",
   "execution_count": 38,
   "id": "72d4306e",
   "metadata": {
    "scrolled": true
   },
   "outputs": [
    {
     "data": {
      "image/png": "[encoded data removed]",
      "text/plain": [
       "<Figure size 432x288 with 1 Axes>"
      ]
     },
     "metadata": {
      "needs_background": "light"
     },
     "output_type": "display_data"
    }
   ],
   "source": [
    "plt.hist(dataset[\"basesalary\"],bins=50,log=True)\n",
    "plt.show()"
   ]
  },
  {
   "cell_type": "markdown",
   "id": "dff17fbb",
   "metadata": {},
   "source": [
    "For the base salary it is clear to see that most values are in thousands of dollars and therefore below 1000. We will multiply those values by 1000 to have a uniform unit of compensation."
   ]
  },
  {
   "cell_type": "code",
   "execution_count": 39,
   "id": "35fa82a7",
   "metadata": {},
   "outputs": [],
   "source": [
    "def correct_salary(salary: int) -> int:\n",
    "    if salary < 1000:\n",
    "        return salary * 1000\n",
    "    return salary"
   ]
  },
  {
   "cell_type": "code",
   "execution_count": 40,
   "id": "105900a6",
   "metadata": {},
   "outputs": [],
   "source": [
    "dataset[\"basesalary\"] = dataset[\"basesalary\"].apply(lambda x: correct_salary(x))"
   ]
  },
  {
   "cell_type": "code",
   "execution_count": 41,
   "id": "e861ad17",
   "metadata": {},
   "outputs": [
    {
     "data": {
      "image/png": "[encoded data removed]",
      "text/plain": [
       "<Figure size 432x288 with 1 Axes>"
      ]
     },
     "metadata": {
      "needs_background": "light"
     },
     "output_type": "display_data"
    }
   ],
   "source": [
    "plt.hist(dataset[\"basesalary\"],bins=50,log=True)\n",
    "plt.show()"
   ]
  },
  {
   "cell_type": "markdown",
   "id": "7f35dde9",
   "metadata": {},
   "source": [
    "Now the distribution looks a lot more realistic. Let's check if we missed anything"
   ]
  },
  {
   "cell_type": "code",
   "execution_count": 42,
   "id": "1f923627",
   "metadata": {
    "scrolled": true
   },
   "outputs": [
    {
     "data": {
      "text/html": [
       "<div>\n",
       "<style scoped>\n",
       "    .dataframe tbody tr th:only-of-type {\n",
       "        vertical-align: middle;\n",
       "    }\n",
       "\n",
       "    .dataframe tbody tr th {\n",
       "        vertical-align: top;\n",
       "    }\n",
       "\n",
       "    .dataframe thead th {\n",
       "        text-align: right;\n",
       "    }\n",
       "</style>\n",
       "<table border=\"1\" class=\"dataframe\">\n",
       "  <thead>\n",
       "    <tr style=\"text-align: right;\">\n",
       "      <th></th>\n",
       "      <th>timestamp</th>\n",
       "      <th>company</th>\n",
       "      <th>level</th>\n",
       "      <th>title</th>\n",
       "      <th>totalyearlycompensation</th>\n",
       "      <th>location</th>\n",
       "      <th>yearsofexperience</th>\n",
       "      <th>yearsatcompany</th>\n",
       "      <th>tag</th>\n",
       "      <th>basesalary</th>\n",
       "      <th>stockgrantvalue</th>\n",
       "      <th>bonus</th>\n",
       "      <th>gender</th>\n",
       "      <th>otherdetails</th>\n",
       "      <th>cityid</th>\n",
       "      <th>dmaid</th>\n",
       "      <th>rowNumber</th>\n",
       "    </tr>\n",
       "  </thead>\n",
       "  <tbody>\n",
       "    <tr>\n",
       "      <th>5183</th>\n",
       "      <td>1.615766e+09</td>\n",
       "      <td>pwc</td>\n",
       "      <td>Partner / Principal</td>\n",
       "      <td>Management Consultant</td>\n",
       "      <td>1057</td>\n",
       "      <td>NC</td>\n",
       "      <td>21</td>\n",
       "      <td>5</td>\n",
       "      <td>cloud, iot</td>\n",
       "      <td>1057</td>\n",
       "      <td>0</td>\n",
       "      <td>0</td>\n",
       "      <td>Male</td>\n",
       "      <td>priows schwuierly huoght hypaorm rault mcfuiep...</td>\n",
       "      <td>1317</td>\n",
       "      <td>560.0</td>\n",
       "      <td>61610</td>\n",
       "    </tr>\n",
       "    <tr>\n",
       "      <th>5784</th>\n",
       "      <td>1.606090e+09</td>\n",
       "      <td>netflix</td>\n",
       "      <td>Only one level across Netflix</td>\n",
       "      <td>Data Scientist</td>\n",
       "      <td>1034</td>\n",
       "      <td>CA</td>\n",
       "      <td>11</td>\n",
       "      <td>4</td>\n",
       "      <td>ml / ai</td>\n",
       "      <td>1034</td>\n",
       "      <td>0</td>\n",
       "      <td>0</td>\n",
       "      <td>NaN</td>\n",
       "      <td>scieusts kliod pheirk jieurly joitz twoeth qua...</td>\n",
       "      <td>7275</td>\n",
       "      <td>803.0</td>\n",
       "      <td>49361</td>\n",
       "    </tr>\n",
       "    <tr>\n",
       "      <th>12092</th>\n",
       "      <td>1.625440e+09</td>\n",
       "      <td>tataconsultancyservices</td>\n",
       "      <td>L1</td>\n",
       "      <td>Software Engineer</td>\n",
       "      <td>8</td>\n",
       "      <td>India</td>\n",
       "      <td>2</td>\n",
       "      <td>2</td>\n",
       "      <td>database admin</td>\n",
       "      <td>3000</td>\n",
       "      <td>1</td>\n",
       "      <td>4</td>\n",
       "      <td>Female</td>\n",
       "      <td>cleust mccriich flouft hydriaony kwaibs typeeh...</td>\n",
       "      <td>42631</td>\n",
       "      <td>0.0</td>\n",
       "      <td>76854</td>\n",
       "    </tr>\n",
       "    <tr>\n",
       "      <th>19075</th>\n",
       "      <td>1.600729e+09</td>\n",
       "      <td>netflix</td>\n",
       "      <td>Director</td>\n",
       "      <td>Marketing</td>\n",
       "      <td>1045</td>\n",
       "      <td>CA</td>\n",
       "      <td>13</td>\n",
       "      <td>0</td>\n",
       "      <td>marketing</td>\n",
       "      <td>1013</td>\n",
       "      <td>32</td>\n",
       "      <td>0</td>\n",
       "      <td>NaN</td>\n",
       "      <td>NaN</td>\n",
       "      <td>42909</td>\n",
       "      <td>0.0</td>\n",
       "      <td>42258</td>\n",
       "    </tr>\n",
       "    <tr>\n",
       "      <th>20773</th>\n",
       "      <td>1.589929e+09</td>\n",
       "      <td>accenture</td>\n",
       "      <td>Software Engineer Analyst</td>\n",
       "      <td>Software Engineer</td>\n",
       "      <td>4</td>\n",
       "      <td>India</td>\n",
       "      <td>2</td>\n",
       "      <td>1</td>\n",
       "      <td>frontend</td>\n",
       "      <td>3000</td>\n",
       "      <td>0</td>\n",
       "      <td>1</td>\n",
       "      <td>Male</td>\n",
       "      <td>NaN</td>\n",
       "      <td>4058</td>\n",
       "      <td>0.0</td>\n",
       "      <td>29059</td>\n",
       "    </tr>\n",
       "    <tr>\n",
       "      <th>20898</th>\n",
       "      <td>1.611274e+09</td>\n",
       "      <td>infosys</td>\n",
       "      <td>Senior Systems Engineer</td>\n",
       "      <td>Software Engineer</td>\n",
       "      <td>3</td>\n",
       "      <td>India</td>\n",
       "      <td>2</td>\n",
       "      <td>1</td>\n",
       "      <td>production</td>\n",
       "      <td>3000</td>\n",
       "      <td>0</td>\n",
       "      <td>0</td>\n",
       "      <td>Male</td>\n",
       "      <td>fearth shriourds gioubly blill grios wromp jor...</td>\n",
       "      <td>4058</td>\n",
       "      <td>0.0</td>\n",
       "      <td>55002</td>\n",
       "    </tr>\n",
       "    <tr>\n",
       "      <th>21286</th>\n",
       "      <td>1.624835e+09</td>\n",
       "      <td>tataconsultancyservices</td>\n",
       "      <td>l1</td>\n",
       "      <td>Software Engineer</td>\n",
       "      <td>9</td>\n",
       "      <td>India</td>\n",
       "      <td>2</td>\n",
       "      <td>1</td>\n",
       "      <td>devops</td>\n",
       "      <td>3000</td>\n",
       "      <td>3</td>\n",
       "      <td>3</td>\n",
       "      <td>Male</td>\n",
       "      <td>kaurs skaurth mccleark weiangly splaamp scoitt...</td>\n",
       "      <td>6457</td>\n",
       "      <td>0.0</td>\n",
       "      <td>75696</td>\n",
       "    </tr>\n",
       "    <tr>\n",
       "      <th>21624</th>\n",
       "      <td>1.626217e+09</td>\n",
       "      <td>netflix</td>\n",
       "      <td>Senior Software Engineer</td>\n",
       "      <td>Software Engineer</td>\n",
       "      <td>1287</td>\n",
       "      <td>CA</td>\n",
       "      <td>13</td>\n",
       "      <td>7</td>\n",
       "      <td>video</td>\n",
       "      <td>1287</td>\n",
       "      <td>0</td>\n",
       "      <td>0</td>\n",
       "      <td>Male</td>\n",
       "      <td>crongly mcloiarst jaight shreills jaegy kwuoff...</td>\n",
       "      <td>7277</td>\n",
       "      <td>807.0</td>\n",
       "      <td>78180</td>\n",
       "    </tr>\n",
       "    <tr>\n",
       "      <th>22097</th>\n",
       "      <td>1.566256e+09</td>\n",
       "      <td>microsoft</td>\n",
       "      <td>80</td>\n",
       "      <td>Software Engineering Manager</td>\n",
       "      <td>3695</td>\n",
       "      <td>WA</td>\n",
       "      <td>14</td>\n",
       "      <td>11</td>\n",
       "      <td>ml / ai</td>\n",
       "      <td>1021</td>\n",
       "      <td>2426</td>\n",
       "      <td>248</td>\n",
       "      <td>Male</td>\n",
       "      <td>froirty tsuew gruieg cycloisly kootts mieucs t...</td>\n",
       "      <td>11521</td>\n",
       "      <td>819.0</td>\n",
       "      <td>13451</td>\n",
       "    </tr>\n",
       "    <tr>\n",
       "      <th>24045</th>\n",
       "      <td>1.625008e+09</td>\n",
       "      <td>netflix</td>\n",
       "      <td>Senior Software Engineer</td>\n",
       "      <td>Software Engineer</td>\n",
       "      <td>1230</td>\n",
       "      <td>CA</td>\n",
       "      <td>23</td>\n",
       "      <td>11</td>\n",
       "      <td>platform</td>\n",
       "      <td>1230</td>\n",
       "      <td>0</td>\n",
       "      <td>0</td>\n",
       "      <td>Male</td>\n",
       "      <td>yoiss mckoiasts dynieusm skiarry scharf bleahl...</td>\n",
       "      <td>7277</td>\n",
       "      <td>807.0</td>\n",
       "      <td>76169</td>\n",
       "    </tr>\n",
       "    <tr>\n",
       "      <th>28283</th>\n",
       "      <td>1.624230e+09</td>\n",
       "      <td>airbnb</td>\n",
       "      <td>L9</td>\n",
       "      <td>Technical Program Manager</td>\n",
       "      <td>40</td>\n",
       "      <td>India</td>\n",
       "      <td>8</td>\n",
       "      <td>1</td>\n",
       "      <td>software engineering</td>\n",
       "      <td>3000</td>\n",
       "      <td>36</td>\n",
       "      <td>1</td>\n",
       "      <td>Female</td>\n",
       "      <td>symbuer kuangly soiasp sahn dynooz slaiolls do...</td>\n",
       "      <td>4058</td>\n",
       "      <td>0.0</td>\n",
       "      <td>74661</td>\n",
       "    </tr>\n",
       "    <tr>\n",
       "      <th>34860</th>\n",
       "      <td>1.615853e+09</td>\n",
       "      <td>heretechnologies</td>\n",
       "      <td>11</td>\n",
       "      <td>Product Manager</td>\n",
       "      <td>1100</td>\n",
       "      <td>IL</td>\n",
       "      <td>18</td>\n",
       "      <td>5</td>\n",
       "      <td>product</td>\n",
       "      <td>1092</td>\n",
       "      <td>0</td>\n",
       "      <td>8</td>\n",
       "      <td>NaN</td>\n",
       "      <td>mcdaect yed</td>\n",
       "      <td>8198</td>\n",
       "      <td>602.0</td>\n",
       "      <td>61798</td>\n",
       "    </tr>\n",
       "    <tr>\n",
       "      <th>54180</th>\n",
       "      <td>1.604707e+09</td>\n",
       "      <td>netflix</td>\n",
       "      <td>Senior Software Engineer</td>\n",
       "      <td>Software Engineer</td>\n",
       "      <td>1017</td>\n",
       "      <td>CA</td>\n",
       "      <td>12</td>\n",
       "      <td>4</td>\n",
       "      <td>backend</td>\n",
       "      <td>1017</td>\n",
       "      <td>0</td>\n",
       "      <td>0</td>\n",
       "      <td>Female</td>\n",
       "      <td>wraemp swiist strawn kiitz suorm mccrung scauengs</td>\n",
       "      <td>7277</td>\n",
       "      <td>807.0</td>\n",
       "      <td>47884</td>\n",
       "    </tr>\n",
       "    <tr>\n",
       "      <th>61368</th>\n",
       "      <td>1.568588e+09</td>\n",
       "      <td>microsoft</td>\n",
       "      <td>SDE I</td>\n",
       "      <td>Software Engineer</td>\n",
       "      <td>7</td>\n",
       "      <td>India</td>\n",
       "      <td>0</td>\n",
       "      <td>1</td>\n",
       "      <td>frontend</td>\n",
       "      <td>1000</td>\n",
       "      <td>1</td>\n",
       "      <td>5</td>\n",
       "      <td>NaN</td>\n",
       "      <td>NaN</td>\n",
       "      <td>13147</td>\n",
       "      <td>0.0</td>\n",
       "      <td>14967</td>\n",
       "    </tr>\n",
       "    <tr>\n",
       "      <th>61645</th>\n",
       "      <td>1.574899e+09</td>\n",
       "      <td>andela</td>\n",
       "      <td>E1</td>\n",
       "      <td>Software Engineer</td>\n",
       "      <td>3</td>\n",
       "      <td>Nigeria</td>\n",
       "      <td>6</td>\n",
       "      <td>1</td>\n",
       "      <td>full stack</td>\n",
       "      <td>3000</td>\n",
       "      <td>0</td>\n",
       "      <td>0</td>\n",
       "      <td>Male</td>\n",
       "      <td>NaN</td>\n",
       "      <td>4533</td>\n",
       "      <td>0.0</td>\n",
       "      <td>18235</td>\n",
       "    </tr>\n",
       "  </tbody>\n",
       "</table>\n",
       "</div>"
      ],
      "text/plain": [
       "          timestamp                  company                          level  \\\n",
       "5183   1.615766e+09                      pwc            Partner / Principal   \n",
       "5784   1.606090e+09                  netflix  Only one level across Netflix   \n",
       "12092  1.625440e+09  tataconsultancyservices                             L1   \n",
       "19075  1.600729e+09                  netflix                       Director   \n",
       "20773  1.589929e+09                accenture      Software Engineer Analyst   \n",
       "20898  1.611274e+09                  infosys        Senior Systems Engineer   \n",
       "21286  1.624835e+09  tataconsultancyservices                             l1   \n",
       "21624  1.626217e+09                  netflix       Senior Software Engineer   \n",
       "22097  1.566256e+09                microsoft                             80   \n",
       "24045  1.625008e+09                  netflix       Senior Software Engineer   \n",
       "28283  1.624230e+09                   airbnb                             L9   \n",
       "34860  1.615853e+09         heretechnologies                             11   \n",
       "54180  1.604707e+09                  netflix       Senior Software Engineer   \n",
       "61368  1.568588e+09                microsoft                          SDE I   \n",
       "61645  1.574899e+09                   andela                             E1   \n",
       "\n",
       "                              title  totalyearlycompensation location  \\\n",
       "5183          Management Consultant                     1057       NC   \n",
       "5784                 Data Scientist                     1034       CA   \n",
       "12092             Software Engineer                        8    India   \n",
       "19075                     Marketing                     1045       CA   \n",
       "20773             Software Engineer                        4    India   \n",
       "20898             Software Engineer                        3    India   \n",
       "21286             Software Engineer                        9    India   \n",
       "21624             Software Engineer                     1287       CA   \n",
       "22097  Software Engineering Manager                     3695       WA   \n",
       "24045             Software Engineer                     1230       CA   \n",
       "28283     Technical Program Manager                       40    India   \n",
       "34860               Product Manager                     1100       IL   \n",
       "54180             Software Engineer                     1017       CA   \n",
       "61368             Software Engineer                        7    India   \n",
       "61645             Software Engineer                        3  Nigeria   \n",
       "\n",
       "       yearsofexperience  yearsatcompany                   tag  basesalary  \\\n",
       "5183                  21               5            cloud, iot        1057   \n",
       "5784                  11               4               ml / ai        1034   \n",
       "12092                  2               2        database admin        3000   \n",
       "19075                 13               0             marketing        1013   \n",
       "20773                  2               1              frontend        3000   \n",
       "20898                  2               1            production        3000   \n",
       "21286                  2               1                devops        3000   \n",
       "21624                 13               7                 video        1287   \n",
       "22097                 14              11               ml / ai        1021   \n",
       "24045                 23              11             platform         1230   \n",
       "28283                  8               1  software engineering        3000   \n",
       "34860                 18               5               product        1092   \n",
       "54180                 12               4               backend        1017   \n",
       "61368                  0               1              frontend        1000   \n",
       "61645                  6               1            full stack        3000   \n",
       "\n",
       "       stockgrantvalue  bonus  gender  \\\n",
       "5183                 0      0    Male   \n",
       "5784                 0      0     NaN   \n",
       "12092                1      4  Female   \n",
       "19075               32      0     NaN   \n",
       "20773                0      1    Male   \n",
       "20898                0      0    Male   \n",
       "21286                3      3    Male   \n",
       "21624                0      0    Male   \n",
       "22097             2426    248    Male   \n",
       "24045                0      0    Male   \n",
       "28283               36      1  Female   \n",
       "34860                0      8     NaN   \n",
       "54180                0      0  Female   \n",
       "61368                1      5     NaN   \n",
       "61645                0      0    Male   \n",
       "\n",
       "                                            otherdetails  cityid  dmaid  \\\n",
       "5183   priows schwuierly huoght hypaorm rault mcfuiep...    1317  560.0   \n",
       "5784   scieusts kliod pheirk jieurly joitz twoeth qua...    7275  803.0   \n",
       "12092  cleust mccriich flouft hydriaony kwaibs typeeh...   42631    0.0   \n",
       "19075                                                NaN   42909    0.0   \n",
       "20773                                                NaN    4058    0.0   \n",
       "20898  fearth shriourds gioubly blill grios wromp jor...    4058    0.0   \n",
       "21286  kaurs skaurth mccleark weiangly splaamp scoitt...    6457    0.0   \n",
       "21624  crongly mcloiarst jaight shreills jaegy kwuoff...    7277  807.0   \n",
       "22097  froirty tsuew gruieg cycloisly kootts mieucs t...   11521  819.0   \n",
       "24045  yoiss mckoiasts dynieusm skiarry scharf bleahl...    7277  807.0   \n",
       "28283  symbuer kuangly soiasp sahn dynooz slaiolls do...    4058    0.0   \n",
       "34860                                        mcdaect yed    8198  602.0   \n",
       "54180  wraemp swiist strawn kiitz suorm mccrung scauengs    7277  807.0   \n",
       "61368                                                NaN   13147    0.0   \n",
       "61645                                                NaN    4533    0.0   \n",
       "\n",
       "       rowNumber  \n",
       "5183       61610  \n",
       "5784       49361  \n",
       "12092      76854  \n",
       "19075      42258  \n",
       "20773      29059  \n",
       "20898      55002  \n",
       "21286      75696  \n",
       "21624      78180  \n",
       "22097      13451  \n",
       "24045      76169  \n",
       "28283      74661  \n",
       "34860      61798  \n",
       "54180      47884  \n",
       "61368      14967  \n",
       "61645      18235  "
      ]
     },
     "execution_count": 42,
     "metadata": {},
     "output_type": "execute_result"
    }
   ],
   "source": [
    "dataset[(dataset[\"basesalary\"] < 4000) & (dataset[\"basesalary\"] > 0)]"
   ]
  },
  {
   "cell_type": "markdown",
   "id": "0629db01",
   "metadata": {},
   "source": [
    "Apparently we missed some people who have a base salary of over 1 million. For those people who live in India I believe the salary is realistic though."
   ]
  },
  {
   "cell_type": "code",
   "execution_count": 43,
   "id": "885cd6c4",
   "metadata": {},
   "outputs": [],
   "source": [
    "rows_to_correct = [61610,49361,42258,78180,13451,76169,61798,47884]"
   ]
  },
  {
   "cell_type": "code",
   "execution_count": 44,
   "id": "b48e37e4",
   "metadata": {},
   "outputs": [],
   "source": [
    "dataset.loc[dataset[\"rowNumber\"].isin(rows_to_correct), \"basesalary\"] *= 1000"
   ]
  },
  {
   "cell_type": "markdown",
   "id": "31282fcc",
   "metadata": {},
   "source": [
    "Now let's have a look at the poor people who are not compensated at all"
   ]
  },
  {
   "cell_type": "code",
   "execution_count": 45,
   "id": "6fcb3a2e",
   "metadata": {},
   "outputs": [
    {
     "data": {
      "text/html": [
       "<div>\n",
       "<style scoped>\n",
       "    .dataframe tbody tr th:only-of-type {\n",
       "        vertical-align: middle;\n",
       "    }\n",
       "\n",
       "    .dataframe tbody tr th {\n",
       "        vertical-align: top;\n",
       "    }\n",
       "\n",
       "    .dataframe thead th {\n",
       "        text-align: right;\n",
       "    }\n",
       "</style>\n",
       "<table border=\"1\" class=\"dataframe\">\n",
       "  <thead>\n",
       "    <tr style=\"text-align: right;\">\n",
       "      <th></th>\n",
       "      <th>timestamp</th>\n",
       "      <th>company</th>\n",
       "      <th>level</th>\n",
       "      <th>title</th>\n",
       "      <th>totalyearlycompensation</th>\n",
       "      <th>location</th>\n",
       "      <th>yearsofexperience</th>\n",
       "      <th>yearsatcompany</th>\n",
       "      <th>tag</th>\n",
       "      <th>basesalary</th>\n",
       "      <th>stockgrantvalue</th>\n",
       "      <th>bonus</th>\n",
       "      <th>gender</th>\n",
       "      <th>otherdetails</th>\n",
       "      <th>cityid</th>\n",
       "      <th>dmaid</th>\n",
       "      <th>rowNumber</th>\n",
       "    </tr>\n",
       "  </thead>\n",
       "  <tbody>\n",
       "    <tr>\n",
       "      <th>count</th>\n",
       "      <td>2.304000e+03</td>\n",
       "      <td>2304</td>\n",
       "      <td>2300</td>\n",
       "      <td>2304</td>\n",
       "      <td>2304.000000</td>\n",
       "      <td>2304</td>\n",
       "      <td>2304.000000</td>\n",
       "      <td>2304.000000</td>\n",
       "      <td>2304</td>\n",
       "      <td>2304.0</td>\n",
       "      <td>2304.000000</td>\n",
       "      <td>2304.000000</td>\n",
       "      <td>989</td>\n",
       "      <td>36</td>\n",
       "      <td>2304.000000</td>\n",
       "      <td>2304.000000</td>\n",
       "      <td>2304.000000</td>\n",
       "    </tr>\n",
       "    <tr>\n",
       "      <th>unique</th>\n",
       "      <td>NaN</td>\n",
       "      <td>318</td>\n",
       "      <td>407</td>\n",
       "      <td>14</td>\n",
       "      <td>NaN</td>\n",
       "      <td>65</td>\n",
       "      <td>NaN</td>\n",
       "      <td>NaN</td>\n",
       "      <td>186</td>\n",
       "      <td>NaN</td>\n",
       "      <td>NaN</td>\n",
       "      <td>NaN</td>\n",
       "      <td>3</td>\n",
       "      <td>36</td>\n",
       "      <td>NaN</td>\n",
       "      <td>NaN</td>\n",
       "      <td>NaN</td>\n",
       "    </tr>\n",
       "    <tr>\n",
       "      <th>top</th>\n",
       "      <td>NaN</td>\n",
       "      <td>amazon</td>\n",
       "      <td>L5</td>\n",
       "      <td>Software Engineer</td>\n",
       "      <td>NaN</td>\n",
       "      <td>CA</td>\n",
       "      <td>NaN</td>\n",
       "      <td>NaN</td>\n",
       "      <td>backend</td>\n",
       "      <td>NaN</td>\n",
       "      <td>NaN</td>\n",
       "      <td>NaN</td>\n",
       "      <td>Male</td>\n",
       "      <td>swoehn scruiew broiath hydreups</td>\n",
       "      <td>NaN</td>\n",
       "      <td>NaN</td>\n",
       "      <td>NaN</td>\n",
       "    </tr>\n",
       "    <tr>\n",
       "      <th>freq</th>\n",
       "      <td>NaN</td>\n",
       "      <td>470</td>\n",
       "      <td>167</td>\n",
       "      <td>1536</td>\n",
       "      <td>NaN</td>\n",
       "      <td>1004</td>\n",
       "      <td>NaN</td>\n",
       "      <td>NaN</td>\n",
       "      <td>692</td>\n",
       "      <td>NaN</td>\n",
       "      <td>NaN</td>\n",
       "      <td>NaN</td>\n",
       "      <td>807</td>\n",
       "      <td>1</td>\n",
       "      <td>NaN</td>\n",
       "      <td>NaN</td>\n",
       "      <td>NaN</td>\n",
       "    </tr>\n",
       "    <tr>\n",
       "      <th>mean</th>\n",
       "      <td>1.551606e+09</td>\n",
       "      <td>NaN</td>\n",
       "      <td>NaN</td>\n",
       "      <td>NaN</td>\n",
       "      <td>0.136285</td>\n",
       "      <td>NaN</td>\n",
       "      <td>7.646267</td>\n",
       "      <td>3.248264</td>\n",
       "      <td>NaN</td>\n",
       "      <td>0.0</td>\n",
       "      <td>0.097656</td>\n",
       "      <td>0.038628</td>\n",
       "      <td>NaN</td>\n",
       "      <td>NaN</td>\n",
       "      <td>9409.953993</td>\n",
       "      <td>675.450087</td>\n",
       "      <td>7403.980035</td>\n",
       "    </tr>\n",
       "    <tr>\n",
       "      <th>std</th>\n",
       "      <td>1.248849e+07</td>\n",
       "      <td>NaN</td>\n",
       "      <td>NaN</td>\n",
       "      <td>NaN</td>\n",
       "      <td>4.499781</td>\n",
       "      <td>NaN</td>\n",
       "      <td>6.543508</td>\n",
       "      <td>3.608500</td>\n",
       "      <td>NaN</td>\n",
       "      <td>0.0</td>\n",
       "      <td>4.000490</td>\n",
       "      <td>0.842211</td>\n",
       "      <td>NaN</td>\n",
       "      <td>NaN</td>\n",
       "      <td>5232.009914</td>\n",
       "      <td>255.482256</td>\n",
       "      <td>4162.936387</td>\n",
       "    </tr>\n",
       "    <tr>\n",
       "      <th>min</th>\n",
       "      <td>1.497049e+09</td>\n",
       "      <td>NaN</td>\n",
       "      <td>NaN</td>\n",
       "      <td>NaN</td>\n",
       "      <td>0.000000</td>\n",
       "      <td>NaN</td>\n",
       "      <td>0.000000</td>\n",
       "      <td>0.000000</td>\n",
       "      <td>NaN</td>\n",
       "      <td>0.0</td>\n",
       "      <td>0.000000</td>\n",
       "      <td>0.000000</td>\n",
       "      <td>NaN</td>\n",
       "      <td>NaN</td>\n",
       "      <td>1180.000000</td>\n",
       "      <td>0.000000</td>\n",
       "      <td>2.000000</td>\n",
       "    </tr>\n",
       "    <tr>\n",
       "      <th>25%</th>\n",
       "      <td>1.541981e+09</td>\n",
       "      <td>NaN</td>\n",
       "      <td>NaN</td>\n",
       "      <td>NaN</td>\n",
       "      <td>0.000000</td>\n",
       "      <td>NaN</td>\n",
       "      <td>3.000000</td>\n",
       "      <td>1.000000</td>\n",
       "      <td>NaN</td>\n",
       "      <td>0.0</td>\n",
       "      <td>0.000000</td>\n",
       "      <td>0.000000</td>\n",
       "      <td>NaN</td>\n",
       "      <td>NaN</td>\n",
       "      <td>7392.000000</td>\n",
       "      <td>612.000000</td>\n",
       "      <td>3874.750000</td>\n",
       "    </tr>\n",
       "    <tr>\n",
       "      <th>50%</th>\n",
       "      <td>1.553558e+09</td>\n",
       "      <td>NaN</td>\n",
       "      <td>NaN</td>\n",
       "      <td>NaN</td>\n",
       "      <td>0.000000</td>\n",
       "      <td>NaN</td>\n",
       "      <td>6.000000</td>\n",
       "      <td>2.000000</td>\n",
       "      <td>NaN</td>\n",
       "      <td>0.0</td>\n",
       "      <td>0.000000</td>\n",
       "      <td>0.000000</td>\n",
       "      <td>NaN</td>\n",
       "      <td>NaN</td>\n",
       "      <td>7472.000000</td>\n",
       "      <td>807.000000</td>\n",
       "      <td>7087.500000</td>\n",
       "    </tr>\n",
       "    <tr>\n",
       "      <th>75%</th>\n",
       "      <td>1.561417e+09</td>\n",
       "      <td>NaN</td>\n",
       "      <td>NaN</td>\n",
       "      <td>NaN</td>\n",
       "      <td>0.000000</td>\n",
       "      <td>NaN</td>\n",
       "      <td>11.000000</td>\n",
       "      <td>4.000000</td>\n",
       "      <td>NaN</td>\n",
       "      <td>0.0</td>\n",
       "      <td>0.000000</td>\n",
       "      <td>0.000000</td>\n",
       "      <td>NaN</td>\n",
       "      <td>NaN</td>\n",
       "      <td>11521.000000</td>\n",
       "      <td>819.000000</td>\n",
       "      <td>11074.750000</td>\n",
       "    </tr>\n",
       "    <tr>\n",
       "      <th>max</th>\n",
       "      <td>1.579046e+09</td>\n",
       "      <td>NaN</td>\n",
       "      <td>NaN</td>\n",
       "      <td>NaN</td>\n",
       "      <td>210.000000</td>\n",
       "      <td>NaN</td>\n",
       "      <td>45.000000</td>\n",
       "      <td>34.000000</td>\n",
       "      <td>NaN</td>\n",
       "      <td>0.0</td>\n",
       "      <td>191.000000</td>\n",
       "      <td>27.000000</td>\n",
       "      <td>NaN</td>\n",
       "      <td>NaN</td>\n",
       "      <td>47926.000000</td>\n",
       "      <td>862.000000</td>\n",
       "      <td>20278.000000</td>\n",
       "    </tr>\n",
       "  </tbody>\n",
       "</table>\n",
       "</div>"
      ],
      "text/plain": [
       "           timestamp company level              title  \\\n",
       "count   2.304000e+03    2304  2300               2304   \n",
       "unique           NaN     318   407                 14   \n",
       "top              NaN  amazon    L5  Software Engineer   \n",
       "freq             NaN     470   167               1536   \n",
       "mean    1.551606e+09     NaN   NaN                NaN   \n",
       "std     1.248849e+07     NaN   NaN                NaN   \n",
       "min     1.497049e+09     NaN   NaN                NaN   \n",
       "25%     1.541981e+09     NaN   NaN                NaN   \n",
       "50%     1.553558e+09     NaN   NaN                NaN   \n",
       "75%     1.561417e+09     NaN   NaN                NaN   \n",
       "max     1.579046e+09     NaN   NaN                NaN   \n",
       "\n",
       "        totalyearlycompensation location  yearsofexperience  yearsatcompany  \\\n",
       "count               2304.000000     2304        2304.000000     2304.000000   \n",
       "unique                      NaN       65                NaN             NaN   \n",
       "top                         NaN       CA                NaN             NaN   \n",
       "freq                        NaN     1004                NaN             NaN   \n",
       "mean                   0.136285      NaN           7.646267        3.248264   \n",
       "std                    4.499781      NaN           6.543508        3.608500   \n",
       "min                    0.000000      NaN           0.000000        0.000000   \n",
       "25%                    0.000000      NaN           3.000000        1.000000   \n",
       "50%                    0.000000      NaN           6.000000        2.000000   \n",
       "75%                    0.000000      NaN          11.000000        4.000000   \n",
       "max                  210.000000      NaN          45.000000       34.000000   \n",
       "\n",
       "            tag  basesalary  stockgrantvalue        bonus gender  \\\n",
       "count      2304      2304.0      2304.000000  2304.000000    989   \n",
       "unique      186         NaN              NaN          NaN      3   \n",
       "top     backend         NaN              NaN          NaN   Male   \n",
       "freq        692         NaN              NaN          NaN    807   \n",
       "mean        NaN         0.0         0.097656     0.038628    NaN   \n",
       "std         NaN         0.0         4.000490     0.842211    NaN   \n",
       "min         NaN         0.0         0.000000     0.000000    NaN   \n",
       "25%         NaN         0.0         0.000000     0.000000    NaN   \n",
       "50%         NaN         0.0         0.000000     0.000000    NaN   \n",
       "75%         NaN         0.0         0.000000     0.000000    NaN   \n",
       "max         NaN         0.0       191.000000    27.000000    NaN   \n",
       "\n",
       "                           otherdetails        cityid        dmaid  \\\n",
       "count                                36   2304.000000  2304.000000   \n",
       "unique                               36           NaN          NaN   \n",
       "top     swoehn scruiew broiath hydreups           NaN          NaN   \n",
       "freq                                  1           NaN          NaN   \n",
       "mean                                NaN   9409.953993   675.450087   \n",
       "std                                 NaN   5232.009914   255.482256   \n",
       "min                                 NaN   1180.000000     0.000000   \n",
       "25%                                 NaN   7392.000000   612.000000   \n",
       "50%                                 NaN   7472.000000   807.000000   \n",
       "75%                                 NaN  11521.000000   819.000000   \n",
       "max                                 NaN  47926.000000   862.000000   \n",
       "\n",
       "           rowNumber  \n",
       "count    2304.000000  \n",
       "unique           NaN  \n",
       "top              NaN  \n",
       "freq             NaN  \n",
       "mean     7403.980035  \n",
       "std      4162.936387  \n",
       "min         2.000000  \n",
       "25%      3874.750000  \n",
       "50%      7087.500000  \n",
       "75%     11074.750000  \n",
       "max     20278.000000  "
      ]
     },
     "execution_count": 45,
     "metadata": {},
     "output_type": "execute_result"
    }
   ],
   "source": [
    "dataset[dataset[\"basesalary\"] == 0].describe(include=\"all\")"
   ]
  },
  {
   "cell_type": "markdown",
   "id": "675f8f50",
   "metadata": {},
   "source": [
    "Since these are way too many people we cannot treat them all! We will delete them since there seems to be no pattern to the data. We could impute the values by replacing them with the mean base salary (or use a more sophisticated way of imputation), however since this is the target value we are changing here the risk of making a model learn wrong connections is too high for me."
   ]
  },
  {
   "cell_type": "code",
   "execution_count": 46,
   "id": "b1113eba",
   "metadata": {},
   "outputs": [],
   "source": [
    "dataset = dataset[dataset[\"basesalary\"] > 0]"
   ]
  },
  {
   "cell_type": "markdown",
   "id": "285d45b6",
   "metadata": {},
   "source": [
    "<a id=\"cleaning_experience\"></a>\n",
    "### Data cleaning: Experience\n",
    "[Back to start of chapter](#data_cleaning) <br/>\n",
    "We noticed that there were some odd values for the years of experience. Let's dig deeper into that"
   ]
  },
  {
   "cell_type": "code",
   "execution_count": 47,
   "id": "b1df4983",
   "metadata": {
    "scrolled": true
   },
   "outputs": [
    {
     "data": {
      "image/png": "[encoded data removed]",
      "text/plain": [
       "<Figure size 432x288 with 1 Axes>"
      ]
     },
     "metadata": {
      "needs_background": "light"
     },
     "output_type": "display_data"
    }
   ],
   "source": [
    "plt.hist(dataset[\"yearsofexperience\"],bins=50,log=True)\n",
    "plt.show()"
   ]
  },
  {
   "cell_type": "code",
   "execution_count": 48,
   "id": "f06a82f5",
   "metadata": {
    "scrolled": true
   },
   "outputs": [
    {
     "data": {
      "text/html": [
       "<div>\n",
       "<style scoped>\n",
       "    .dataframe tbody tr th:only-of-type {\n",
       "        vertical-align: middle;\n",
       "    }\n",
       "\n",
       "    .dataframe tbody tr th {\n",
       "        vertical-align: top;\n",
       "    }\n",
       "\n",
       "    .dataframe thead th {\n",
       "        text-align: right;\n",
       "    }\n",
       "</style>\n",
       "<table border=\"1\" class=\"dataframe\">\n",
       "  <thead>\n",
       "    <tr style=\"text-align: right;\">\n",
       "      <th></th>\n",
       "      <th>timestamp</th>\n",
       "      <th>company</th>\n",
       "      <th>level</th>\n",
       "      <th>title</th>\n",
       "      <th>totalyearlycompensation</th>\n",
       "      <th>location</th>\n",
       "      <th>yearsofexperience</th>\n",
       "      <th>yearsatcompany</th>\n",
       "      <th>tag</th>\n",
       "      <th>basesalary</th>\n",
       "      <th>stockgrantvalue</th>\n",
       "      <th>bonus</th>\n",
       "      <th>gender</th>\n",
       "      <th>otherdetails</th>\n",
       "      <th>cityid</th>\n",
       "      <th>dmaid</th>\n",
       "      <th>rowNumber</th>\n",
       "    </tr>\n",
       "  </thead>\n",
       "  <tbody>\n",
       "    <tr>\n",
       "      <th>2941</th>\n",
       "      <td>1.570057e+09</td>\n",
       "      <td>microsoft</td>\n",
       "      <td>66</td>\n",
       "      <td>Software Engineer</td>\n",
       "      <td>146</td>\n",
       "      <td>WA</td>\n",
       "      <td>48</td>\n",
       "      <td>23</td>\n",
       "      <td>full stack</td>\n",
       "      <td>117000</td>\n",
       "      <td>0</td>\n",
       "      <td>29</td>\n",
       "      <td>Male</td>\n",
       "      <td>NaN</td>\n",
       "      <td>11521</td>\n",
       "      <td>819.0</td>\n",
       "      <td>15766</td>\n",
       "    </tr>\n",
       "    <tr>\n",
       "      <th>9548</th>\n",
       "      <td>1.560985e+09</td>\n",
       "      <td>oracle</td>\n",
       "      <td>IC-5</td>\n",
       "      <td>Software Engineer</td>\n",
       "      <td>457</td>\n",
       "      <td>WA</td>\n",
       "      <td>47</td>\n",
       "      <td>3</td>\n",
       "      <td>backend</td>\n",
       "      <td>181000</td>\n",
       "      <td>276</td>\n",
       "      <td>0</td>\n",
       "      <td>Male</td>\n",
       "      <td>NaN</td>\n",
       "      <td>11527</td>\n",
       "      <td>819.0</td>\n",
       "      <td>10847</td>\n",
       "    </tr>\n",
       "    <tr>\n",
       "      <th>10601</th>\n",
       "      <td>1.619046e+09</td>\n",
       "      <td>generalmotors</td>\n",
       "      <td>7</td>\n",
       "      <td>Software Engineer</td>\n",
       "      <td>155</td>\n",
       "      <td>TX</td>\n",
       "      <td>47</td>\n",
       "      <td>6</td>\n",
       "      <td>data</td>\n",
       "      <td>137000</td>\n",
       "      <td>0</td>\n",
       "      <td>18</td>\n",
       "      <td>Male</td>\n",
       "      <td>treiarly gloegy zeort fleutz luct mcduess symb...</td>\n",
       "      <td>10965</td>\n",
       "      <td>635.0</td>\n",
       "      <td>66935</td>\n",
       "    </tr>\n",
       "    <tr>\n",
       "      <th>12415</th>\n",
       "      <td>1.617404e+09</td>\n",
       "      <td>disney</td>\n",
       "      <td>5</td>\n",
       "      <td>Product Designer</td>\n",
       "      <td>141</td>\n",
       "      <td>MD</td>\n",
       "      <td>90</td>\n",
       "      <td>90</td>\n",
       "      <td>interaction design</td>\n",
       "      <td>139000</td>\n",
       "      <td>2</td>\n",
       "      <td>0</td>\n",
       "      <td>NaN</td>\n",
       "      <td>bruarry druably hriaold</td>\n",
       "      <td>23596</td>\n",
       "      <td>512.0</td>\n",
       "      <td>64028</td>\n",
       "    </tr>\n",
       "    <tr>\n",
       "      <th>12889</th>\n",
       "      <td>1.601334e+09</td>\n",
       "      <td>intel</td>\n",
       "      <td>Grade 8</td>\n",
       "      <td>Mechanical Engineer</td>\n",
       "      <td>115</td>\n",
       "      <td>OR</td>\n",
       "      <td>48</td>\n",
       "      <td>5</td>\n",
       "      <td>networking</td>\n",
       "      <td>77000</td>\n",
       "      <td>15</td>\n",
       "      <td>23</td>\n",
       "      <td>Male</td>\n",
       "      <td>mcmoacts spliahl floahn jantz duey thaiw khiun...</td>\n",
       "      <td>10500</td>\n",
       "      <td>820.0</td>\n",
       "      <td>43177</td>\n",
       "    </tr>\n",
       "    <tr>\n",
       "      <th>15024</th>\n",
       "      <td>1.560726e+09</td>\n",
       "      <td>oracle</td>\n",
       "      <td>IC-5</td>\n",
       "      <td>Software Engineer</td>\n",
       "      <td>341</td>\n",
       "      <td>CA</td>\n",
       "      <td>57</td>\n",
       "      <td>12</td>\n",
       "      <td>backend</td>\n",
       "      <td>292000</td>\n",
       "      <td>49</td>\n",
       "      <td>0</td>\n",
       "      <td>NaN</td>\n",
       "      <td>NaN</td>\n",
       "      <td>7392</td>\n",
       "      <td>807.0</td>\n",
       "      <td>10432</td>\n",
       "    </tr>\n",
       "    <tr>\n",
       "      <th>25156</th>\n",
       "      <td>1.603062e+09</td>\n",
       "      <td>ibm</td>\n",
       "      <td>Band 9</td>\n",
       "      <td>Software Engineer</td>\n",
       "      <td>151</td>\n",
       "      <td>NY</td>\n",
       "      <td>51</td>\n",
       "      <td>8</td>\n",
       "      <td>mainframe</td>\n",
       "      <td>147000</td>\n",
       "      <td>4</td>\n",
       "      <td>0</td>\n",
       "      <td>Male</td>\n",
       "      <td>cruest strierty khincy zauv schnaars tsiints h...</td>\n",
       "      <td>10182</td>\n",
       "      <td>501.0</td>\n",
       "      <td>45706</td>\n",
       "    </tr>\n",
       "    <tr>\n",
       "      <th>32382</th>\n",
       "      <td>1.524870e+09</td>\n",
       "      <td>catechnologies</td>\n",
       "      <td>Senior Director - I Band</td>\n",
       "      <td>Product Manager</td>\n",
       "      <td>184</td>\n",
       "      <td>NY</td>\n",
       "      <td>57</td>\n",
       "      <td>7</td>\n",
       "      <td>unknown</td>\n",
       "      <td>115000</td>\n",
       "      <td>0</td>\n",
       "      <td>69</td>\n",
       "      <td>Male</td>\n",
       "      <td>NaN</td>\n",
       "      <td>10182</td>\n",
       "      <td>501.0</td>\n",
       "      <td>549</td>\n",
       "    </tr>\n",
       "    <tr>\n",
       "      <th>32579</th>\n",
       "      <td>1.599692e+09</td>\n",
       "      <td>google</td>\n",
       "      <td>L7</td>\n",
       "      <td>Software Engineering Manager</td>\n",
       "      <td>646</td>\n",
       "      <td>CA</td>\n",
       "      <td>53</td>\n",
       "      <td>2</td>\n",
       "      <td>production</td>\n",
       "      <td>344000</td>\n",
       "      <td>253</td>\n",
       "      <td>49</td>\n",
       "      <td>Male</td>\n",
       "      <td>mcgaerm schrieul cliirn mcneaw mccreofy scruet...</td>\n",
       "      <td>7472</td>\n",
       "      <td>807.0</td>\n",
       "      <td>40598</td>\n",
       "    </tr>\n",
       "    <tr>\n",
       "      <th>32644</th>\n",
       "      <td>1.611187e+09</td>\n",
       "      <td>ibm</td>\n",
       "      <td>Band 9</td>\n",
       "      <td>Business Analyst</td>\n",
       "      <td>142</td>\n",
       "      <td>CA</td>\n",
       "      <td>57</td>\n",
       "      <td>20</td>\n",
       "      <td>internal</td>\n",
       "      <td>142000</td>\n",
       "      <td>0</td>\n",
       "      <td>0</td>\n",
       "      <td>Female</td>\n",
       "      <td>scueft yiif xoidy</td>\n",
       "      <td>7422</td>\n",
       "      <td>807.0</td>\n",
       "      <td>54897</td>\n",
       "    </tr>\n",
       "    <tr>\n",
       "      <th>34732</th>\n",
       "      <td>1.600729e+09</td>\n",
       "      <td>microsoft</td>\n",
       "      <td>67</td>\n",
       "      <td>Software Engineer</td>\n",
       "      <td>339</td>\n",
       "      <td>WA</td>\n",
       "      <td>46</td>\n",
       "      <td>16</td>\n",
       "      <td>backend</td>\n",
       "      <td>228000</td>\n",
       "      <td>56</td>\n",
       "      <td>55</td>\n",
       "      <td>NaN</td>\n",
       "      <td>NaN</td>\n",
       "      <td>11521</td>\n",
       "      <td>819.0</td>\n",
       "      <td>42246</td>\n",
       "    </tr>\n",
       "    <tr>\n",
       "      <th>36078</th>\n",
       "      <td>1.597360e+09</td>\n",
       "      <td>google</td>\n",
       "      <td>Manager (L6)</td>\n",
       "      <td>Software Engineering Manager</td>\n",
       "      <td>601</td>\n",
       "      <td>CA</td>\n",
       "      <td>49</td>\n",
       "      <td>10</td>\n",
       "      <td>android</td>\n",
       "      <td>323000</td>\n",
       "      <td>210</td>\n",
       "      <td>68</td>\n",
       "      <td>NaN</td>\n",
       "      <td>NaN</td>\n",
       "      <td>7322</td>\n",
       "      <td>807.0</td>\n",
       "      <td>36505</td>\n",
       "    </tr>\n",
       "    <tr>\n",
       "      <th>44129</th>\n",
       "      <td>1.604534e+09</td>\n",
       "      <td>intel</td>\n",
       "      <td>Grade 8</td>\n",
       "      <td>Mechanical Engineer</td>\n",
       "      <td>142</td>\n",
       "      <td>OR</td>\n",
       "      <td>48</td>\n",
       "      <td>4</td>\n",
       "      <td>enterprise</td>\n",
       "      <td>105000</td>\n",
       "      <td>18</td>\n",
       "      <td>19</td>\n",
       "      <td>Male</td>\n",
       "      <td>rhaasly breunds seins hyiich sniarm hydruoll h...</td>\n",
       "      <td>10500</td>\n",
       "      <td>820.0</td>\n",
       "      <td>47714</td>\n",
       "    </tr>\n",
       "    <tr>\n",
       "      <th>45847</th>\n",
       "      <td>1.601939e+09</td>\n",
       "      <td>amazon</td>\n",
       "      <td>L6</td>\n",
       "      <td>Software Engineer</td>\n",
       "      <td>336</td>\n",
       "      <td>WA</td>\n",
       "      <td>48</td>\n",
       "      <td>18</td>\n",
       "      <td>backend</td>\n",
       "      <td>188000</td>\n",
       "      <td>148</td>\n",
       "      <td>0</td>\n",
       "      <td>Male</td>\n",
       "      <td>sqaians</td>\n",
       "      <td>11527</td>\n",
       "      <td>819.0</td>\n",
       "      <td>44076</td>\n",
       "    </tr>\n",
       "    <tr>\n",
       "      <th>47953</th>\n",
       "      <td>1.601680e+09</td>\n",
       "      <td>cisco</td>\n",
       "      <td>Technical Leader 2</td>\n",
       "      <td>Solution Architect</td>\n",
       "      <td>111</td>\n",
       "      <td>MI</td>\n",
       "      <td>51</td>\n",
       "      <td>2</td>\n",
       "      <td>backend</td>\n",
       "      <td>91000</td>\n",
       "      <td>4</td>\n",
       "      <td>16</td>\n",
       "      <td>Male</td>\n",
       "      <td>strious mcclol mcfiont fraiok rhoirf naantz sy...</td>\n",
       "      <td>9026</td>\n",
       "      <td>505.0</td>\n",
       "      <td>43785</td>\n",
       "    </tr>\n",
       "    <tr>\n",
       "      <th>52354</th>\n",
       "      <td>1.602198e+09</td>\n",
       "      <td>arm</td>\n",
       "      <td>Grade 6</td>\n",
       "      <td>Hardware Engineer</td>\n",
       "      <td>296</td>\n",
       "      <td>CA</td>\n",
       "      <td>58</td>\n",
       "      <td>2</td>\n",
       "      <td>computer architecture</td>\n",
       "      <td>224000</td>\n",
       "      <td>0</td>\n",
       "      <td>72</td>\n",
       "      <td>Male</td>\n",
       "      <td>typeetz smiihn brioft glirr brools baiks thruo...</td>\n",
       "      <td>7422</td>\n",
       "      <td>807.0</td>\n",
       "      <td>44539</td>\n",
       "    </tr>\n",
       "    <tr>\n",
       "      <th>52701</th>\n",
       "      <td>1.611619e+09</td>\n",
       "      <td>intel</td>\n",
       "      <td>L9</td>\n",
       "      <td>Software Engineer</td>\n",
       "      <td>170</td>\n",
       "      <td>OR</td>\n",
       "      <td>53</td>\n",
       "      <td>30</td>\n",
       "      <td>devops</td>\n",
       "      <td>94000</td>\n",
       "      <td>28</td>\n",
       "      <td>48</td>\n",
       "      <td>Male</td>\n",
       "      <td>spluiebs schmiousp</td>\n",
       "      <td>10500</td>\n",
       "      <td>820.0</td>\n",
       "      <td>55506</td>\n",
       "    </tr>\n",
       "    <tr>\n",
       "      <th>53313</th>\n",
       "      <td>1.588720e+09</td>\n",
       "      <td>amazon</td>\n",
       "      <td>L7</td>\n",
       "      <td>Software Engineering Manager</td>\n",
       "      <td>591</td>\n",
       "      <td>WA</td>\n",
       "      <td>50</td>\n",
       "      <td>2</td>\n",
       "      <td>full stack</td>\n",
       "      <td>179000</td>\n",
       "      <td>412</td>\n",
       "      <td>0</td>\n",
       "      <td>Male</td>\n",
       "      <td>poz rheesly mcneov</td>\n",
       "      <td>11527</td>\n",
       "      <td>819.0</td>\n",
       "      <td>28042</td>\n",
       "    </tr>\n",
       "    <tr>\n",
       "      <th>53354</th>\n",
       "      <td>1.620947e+09</td>\n",
       "      <td>lockheedmartin</td>\n",
       "      <td>E5</td>\n",
       "      <td>Software Engineer</td>\n",
       "      <td>94</td>\n",
       "      <td>CO</td>\n",
       "      <td>49</td>\n",
       "      <td>27</td>\n",
       "      <td>embedded, spacecraft</td>\n",
       "      <td>88000</td>\n",
       "      <td>0</td>\n",
       "      <td>6</td>\n",
       "      <td>Male</td>\n",
       "      <td>teiably pfeuhl druah symbix twoit siep ghiemp ...</td>\n",
       "      <td>7574</td>\n",
       "      <td>751.0</td>\n",
       "      <td>69827</td>\n",
       "    </tr>\n",
       "    <tr>\n",
       "      <th>54595</th>\n",
       "      <td>1.559948e+09</td>\n",
       "      <td>google</td>\n",
       "      <td>L5</td>\n",
       "      <td>Software Engineer</td>\n",
       "      <td>280</td>\n",
       "      <td>CA</td>\n",
       "      <td>50</td>\n",
       "      <td>8</td>\n",
       "      <td>backend</td>\n",
       "      <td>214000</td>\n",
       "      <td>38</td>\n",
       "      <td>28</td>\n",
       "      <td>Male</td>\n",
       "      <td>NaN</td>\n",
       "      <td>7322</td>\n",
       "      <td>807.0</td>\n",
       "      <td>9567</td>\n",
       "    </tr>\n",
       "    <tr>\n",
       "      <th>58297</th>\n",
       "      <td>1.560553e+09</td>\n",
       "      <td>wolterskluwer</td>\n",
       "      <td>M2</td>\n",
       "      <td>Software Engineering Manager</td>\n",
       "      <td>231</td>\n",
       "      <td>MA</td>\n",
       "      <td>49</td>\n",
       "      <td>1</td>\n",
       "      <td>backend</td>\n",
       "      <td>196000</td>\n",
       "      <td>0</td>\n",
       "      <td>35</td>\n",
       "      <td>Male</td>\n",
       "      <td>NaN</td>\n",
       "      <td>8893</td>\n",
       "      <td>506.0</td>\n",
       "      <td>10057</td>\n",
       "    </tr>\n",
       "    <tr>\n",
       "      <th>61619</th>\n",
       "      <td>1.599088e+09</td>\n",
       "      <td>wellsfargo</td>\n",
       "      <td>Associate Engineering Manager</td>\n",
       "      <td>Software Engineering Manager</td>\n",
       "      <td>181</td>\n",
       "      <td>CA</td>\n",
       "      <td>48</td>\n",
       "      <td>10</td>\n",
       "      <td>backend</td>\n",
       "      <td>170000</td>\n",
       "      <td>0</td>\n",
       "      <td>11</td>\n",
       "      <td>Male</td>\n",
       "      <td>teaurg mcceigy plaiafy spliubs friaong khoilt ...</td>\n",
       "      <td>7419</td>\n",
       "      <td>807.0</td>\n",
       "      <td>39459</td>\n",
       "    </tr>\n",
       "  </tbody>\n",
       "</table>\n",
       "</div>"
      ],
      "text/plain": [
       "          timestamp         company                          level  \\\n",
       "2941   1.570057e+09       microsoft                             66   \n",
       "9548   1.560985e+09          oracle                           IC-5   \n",
       "10601  1.619046e+09   generalmotors                              7   \n",
       "12415  1.617404e+09          disney                              5   \n",
       "12889  1.601334e+09           intel                        Grade 8   \n",
       "15024  1.560726e+09          oracle                           IC-5   \n",
       "25156  1.603062e+09             ibm                         Band 9   \n",
       "32382  1.524870e+09  catechnologies       Senior Director - I Band   \n",
       "32579  1.599692e+09          google                             L7   \n",
       "32644  1.611187e+09             ibm                         Band 9   \n",
       "34732  1.600729e+09       microsoft                             67   \n",
       "36078  1.597360e+09          google                   Manager (L6)   \n",
       "44129  1.604534e+09           intel                        Grade 8   \n",
       "45847  1.601939e+09          amazon                             L6   \n",
       "47953  1.601680e+09           cisco             Technical Leader 2   \n",
       "52354  1.602198e+09             arm                        Grade 6   \n",
       "52701  1.611619e+09           intel                             L9   \n",
       "53313  1.588720e+09          amazon                             L7   \n",
       "53354  1.620947e+09  lockheedmartin                             E5   \n",
       "54595  1.559948e+09          google                             L5   \n",
       "58297  1.560553e+09   wolterskluwer                             M2   \n",
       "61619  1.599088e+09      wellsfargo  Associate Engineering Manager   \n",
       "\n",
       "                              title  totalyearlycompensation location  \\\n",
       "2941              Software Engineer                      146       WA   \n",
       "9548              Software Engineer                      457       WA   \n",
       "10601             Software Engineer                      155       TX   \n",
       "12415              Product Designer                      141       MD   \n",
       "12889           Mechanical Engineer                      115       OR   \n",
       "15024             Software Engineer                      341       CA   \n",
       "25156             Software Engineer                      151       NY   \n",
       "32382               Product Manager                      184       NY   \n",
       "32579  Software Engineering Manager                      646       CA   \n",
       "32644              Business Analyst                      142       CA   \n",
       "34732             Software Engineer                      339       WA   \n",
       "36078  Software Engineering Manager                      601       CA   \n",
       "44129           Mechanical Engineer                      142       OR   \n",
       "45847             Software Engineer                      336       WA   \n",
       "47953            Solution Architect                      111       MI   \n",
       "52354             Hardware Engineer                      296       CA   \n",
       "52701             Software Engineer                      170       OR   \n",
       "53313  Software Engineering Manager                      591       WA   \n",
       "53354             Software Engineer                       94       CO   \n",
       "54595             Software Engineer                      280       CA   \n",
       "58297  Software Engineering Manager                      231       MA   \n",
       "61619  Software Engineering Manager                      181       CA   \n",
       "\n",
       "       yearsofexperience  yearsatcompany                    tag  basesalary  \\\n",
       "2941                  48              23             full stack      117000   \n",
       "9548                  47               3                backend      181000   \n",
       "10601                 47               6                   data      137000   \n",
       "12415                 90              90     interaction design      139000   \n",
       "12889                 48               5             networking       77000   \n",
       "15024                 57              12                backend      292000   \n",
       "25156                 51               8             mainframe       147000   \n",
       "32382                 57               7                unknown      115000   \n",
       "32579                 53               2             production      344000   \n",
       "32644                 57              20               internal      142000   \n",
       "34732                 46              16                backend      228000   \n",
       "36078                 49              10                android      323000   \n",
       "44129                 48               4             enterprise      105000   \n",
       "45847                 48              18                backend      188000   \n",
       "47953                 51               2                backend       91000   \n",
       "52354                 58               2  computer architecture      224000   \n",
       "52701                 53              30                 devops       94000   \n",
       "53313                 50               2             full stack      179000   \n",
       "53354                 49              27   embedded, spacecraft       88000   \n",
       "54595                 50               8                backend      214000   \n",
       "58297                 49               1                backend      196000   \n",
       "61619                 48              10                backend      170000   \n",
       "\n",
       "       stockgrantvalue  bonus  gender  \\\n",
       "2941                 0     29    Male   \n",
       "9548               276      0    Male   \n",
       "10601                0     18    Male   \n",
       "12415                2      0     NaN   \n",
       "12889               15     23    Male   \n",
       "15024               49      0     NaN   \n",
       "25156                4      0    Male   \n",
       "32382                0     69    Male   \n",
       "32579              253     49    Male   \n",
       "32644                0      0  Female   \n",
       "34732               56     55     NaN   \n",
       "36078              210     68     NaN   \n",
       "44129               18     19    Male   \n",
       "45847              148      0    Male   \n",
       "47953                4     16    Male   \n",
       "52354                0     72    Male   \n",
       "52701               28     48    Male   \n",
       "53313              412      0    Male   \n",
       "53354                0      6    Male   \n",
       "54595               38     28    Male   \n",
       "58297                0     35    Male   \n",
       "61619                0     11    Male   \n",
       "\n",
       "                                            otherdetails  cityid  dmaid  \\\n",
       "2941                                                 NaN   11521  819.0   \n",
       "9548                                                 NaN   11527  819.0   \n",
       "10601  treiarly gloegy zeort fleutz luct mcduess symb...   10965  635.0   \n",
       "12415                            bruarry druably hriaold   23596  512.0   \n",
       "12889  mcmoacts spliahl floahn jantz duey thaiw khiun...   10500  820.0   \n",
       "15024                                                NaN    7392  807.0   \n",
       "25156  cruest strierty khincy zauv schnaars tsiints h...   10182  501.0   \n",
       "32382                                                NaN   10182  501.0   \n",
       "32579  mcgaerm schrieul cliirn mcneaw mccreofy scruet...    7472  807.0   \n",
       "32644                                  scueft yiif xoidy    7422  807.0   \n",
       "34732                                                NaN   11521  819.0   \n",
       "36078                                                NaN    7322  807.0   \n",
       "44129  rhaasly breunds seins hyiich sniarm hydruoll h...   10500  820.0   \n",
       "45847                                            sqaians   11527  819.0   \n",
       "47953  strious mcclol mcfiont fraiok rhoirf naantz sy...    9026  505.0   \n",
       "52354  typeetz smiihn brioft glirr brools baiks thruo...    7422  807.0   \n",
       "52701                                 spluiebs schmiousp   10500  820.0   \n",
       "53313                                 poz rheesly mcneov   11527  819.0   \n",
       "53354  teiably pfeuhl druah symbix twoit siep ghiemp ...    7574  751.0   \n",
       "54595                                                NaN    7322  807.0   \n",
       "58297                                                NaN    8893  506.0   \n",
       "61619  teaurg mcceigy plaiafy spliubs friaong khoilt ...    7419  807.0   \n",
       "\n",
       "       rowNumber  \n",
       "2941       15766  \n",
       "9548       10847  \n",
       "10601      66935  \n",
       "12415      64028  \n",
       "12889      43177  \n",
       "15024      10432  \n",
       "25156      45706  \n",
       "32382        549  \n",
       "32579      40598  \n",
       "32644      54897  \n",
       "34732      42246  \n",
       "36078      36505  \n",
       "44129      47714  \n",
       "45847      44076  \n",
       "47953      43785  \n",
       "52354      44539  \n",
       "52701      55506  \n",
       "53313      28042  \n",
       "53354      69827  \n",
       "54595       9567  \n",
       "58297      10057  \n",
       "61619      39459  "
      ]
     },
     "execution_count": 48,
     "metadata": {},
     "output_type": "execute_result"
    }
   ],
   "source": [
    "dataset[dataset[\"yearsofexperience\"] > 45]"
   ]
  },
  {
   "cell_type": "markdown",
   "id": "4b6d5d47",
   "metadata": {},
   "source": [
    "The only person that we can rule out is rowNumber 64028 with 90 years of experience. The rest can be somewhat plausible. It seems reasonable that the 90 is intended to be a 9 but because the rest of the features of this data point does not fit to other [product designers at Disney](https://www.levels.fyi/companies/disney/salaries/product-designer?offset=0) we will delete it"
   ]
  },
  {
   "cell_type": "code",
   "execution_count": 49,
   "id": "47af3b29",
   "metadata": {},
   "outputs": [],
   "source": [
    "dataset = dataset[dataset[\"rowNumber\"] != 64028]"
   ]
  },
  {
   "cell_type": "code",
   "execution_count": 50,
   "id": "e1a6c4f0",
   "metadata": {},
   "outputs": [
    {
     "data": {
      "image/png": "[encoded data removed]",
      "text/plain": [
       "<Figure size 432x288 with 1 Axes>"
      ]
     },
     "metadata": {
      "needs_background": "light"
     },
     "output_type": "display_data"
    }
   ],
   "source": [
    "plt.hist(dataset[\"yearsatcompany\"],bins=50,log=True)\n",
    "plt.show()"
   ]
  },
  {
   "cell_type": "markdown",
   "id": "0175401f",
   "metadata": {},
   "source": [
    "Next, let's have a look at all the people who have worked at their company longer that they have experience in total. "
   ]
  },
  {
   "cell_type": "code",
   "execution_count": 51,
   "id": "91094d97",
   "metadata": {
    "scrolled": true
   },
   "outputs": [
    {
     "data": {
      "text/html": [
       "<div>\n",
       "<style scoped>\n",
       "    .dataframe tbody tr th:only-of-type {\n",
       "        vertical-align: middle;\n",
       "    }\n",
       "\n",
       "    .dataframe tbody tr th {\n",
       "        vertical-align: top;\n",
       "    }\n",
       "\n",
       "    .dataframe thead th {\n",
       "        text-align: right;\n",
       "    }\n",
       "</style>\n",
       "<table border=\"1\" class=\"dataframe\">\n",
       "  <thead>\n",
       "    <tr style=\"text-align: right;\">\n",
       "      <th></th>\n",
       "      <th>timestamp</th>\n",
       "      <th>company</th>\n",
       "      <th>level</th>\n",
       "      <th>title</th>\n",
       "      <th>totalyearlycompensation</th>\n",
       "      <th>location</th>\n",
       "      <th>yearsofexperience</th>\n",
       "      <th>yearsatcompany</th>\n",
       "      <th>tag</th>\n",
       "      <th>basesalary</th>\n",
       "      <th>stockgrantvalue</th>\n",
       "      <th>bonus</th>\n",
       "      <th>gender</th>\n",
       "      <th>otherdetails</th>\n",
       "      <th>cityid</th>\n",
       "      <th>dmaid</th>\n",
       "      <th>rowNumber</th>\n",
       "    </tr>\n",
       "  </thead>\n",
       "  <tbody>\n",
       "    <tr>\n",
       "      <th>15</th>\n",
       "      <td>1.622156e+09</td>\n",
       "      <td>amazon</td>\n",
       "      <td>L5</td>\n",
       "      <td>Software Engineer</td>\n",
       "      <td>60</td>\n",
       "      <td>India</td>\n",
       "      <td>5</td>\n",
       "      <td>6</td>\n",
       "      <td>testing (sdet)</td>\n",
       "      <td>41000</td>\n",
       "      <td>19</td>\n",
       "      <td>0</td>\n",
       "      <td>Male</td>\n",
       "      <td>viaocy phaofy</td>\n",
       "      <td>13147</td>\n",
       "      <td>0.0</td>\n",
       "      <td>71422</td>\n",
       "    </tr>\n",
       "    <tr>\n",
       "      <th>20</th>\n",
       "      <td>1.627427e+09</td>\n",
       "      <td>texasinstruments</td>\n",
       "      <td>L1</td>\n",
       "      <td>Hardware Engineer</td>\n",
       "      <td>131</td>\n",
       "      <td>CA</td>\n",
       "      <td>3</td>\n",
       "      <td>4</td>\n",
       "      <td>quality assurance</td>\n",
       "      <td>120000</td>\n",
       "      <td>0</td>\n",
       "      <td>11</td>\n",
       "      <td>NaN</td>\n",
       "      <td>hroiaks segh xaic creolly diak</td>\n",
       "      <td>7434</td>\n",
       "      <td>807.0</td>\n",
       "      <td>80394</td>\n",
       "    </tr>\n",
       "    <tr>\n",
       "      <th>50</th>\n",
       "      <td>1.554937e+09</td>\n",
       "      <td>microsoft</td>\n",
       "      <td>62</td>\n",
       "      <td>Solution Architect</td>\n",
       "      <td>96</td>\n",
       "      <td>WA</td>\n",
       "      <td>7</td>\n",
       "      <td>15</td>\n",
       "      <td>frontend</td>\n",
       "      <td>70000</td>\n",
       "      <td>12</td>\n",
       "      <td>14</td>\n",
       "      <td>Male</td>\n",
       "      <td>NaN</td>\n",
       "      <td>11521</td>\n",
       "      <td>819.0</td>\n",
       "      <td>7691</td>\n",
       "    </tr>\n",
       "    <tr>\n",
       "      <th>68</th>\n",
       "      <td>1.624403e+09</td>\n",
       "      <td>westerndigital</td>\n",
       "      <td>Senior</td>\n",
       "      <td>Software Engineer</td>\n",
       "      <td>97</td>\n",
       "      <td>CA</td>\n",
       "      <td>3</td>\n",
       "      <td>6</td>\n",
       "      <td>embedded</td>\n",
       "      <td>64000</td>\n",
       "      <td>20</td>\n",
       "      <td>13</td>\n",
       "      <td>NaN</td>\n",
       "      <td>mckuend speeys traf thioully raink kluont schr...</td>\n",
       "      <td>7229</td>\n",
       "      <td>803.0</td>\n",
       "      <td>75044</td>\n",
       "    </tr>\n",
       "    <tr>\n",
       "      <th>75</th>\n",
       "      <td>1.561504e+09</td>\n",
       "      <td>veritastechnologies</td>\n",
       "      <td>Senior SWE</td>\n",
       "      <td>Software Engineer</td>\n",
       "      <td>169</td>\n",
       "      <td>CA</td>\n",
       "      <td>3</td>\n",
       "      <td>5</td>\n",
       "      <td>backend</td>\n",
       "      <td>160000</td>\n",
       "      <td>0</td>\n",
       "      <td>9</td>\n",
       "      <td>Male</td>\n",
       "      <td>NaN</td>\n",
       "      <td>7434</td>\n",
       "      <td>807.0</td>\n",
       "      <td>11152</td>\n",
       "    </tr>\n",
       "    <tr>\n",
       "      <th>...</th>\n",
       "      <td>...</td>\n",
       "      <td>...</td>\n",
       "      <td>...</td>\n",
       "      <td>...</td>\n",
       "      <td>...</td>\n",
       "      <td>...</td>\n",
       "      <td>...</td>\n",
       "      <td>...</td>\n",
       "      <td>...</td>\n",
       "      <td>...</td>\n",
       "      <td>...</td>\n",
       "      <td>...</td>\n",
       "      <td>...</td>\n",
       "      <td>...</td>\n",
       "      <td>...</td>\n",
       "      <td>...</td>\n",
       "      <td>...</td>\n",
       "    </tr>\n",
       "    <tr>\n",
       "      <th>62561</th>\n",
       "      <td>1.608250e+09</td>\n",
       "      <td>ibm</td>\n",
       "      <td>Band 7</td>\n",
       "      <td>Software Engineer</td>\n",
       "      <td>159</td>\n",
       "      <td>TX</td>\n",
       "      <td>1</td>\n",
       "      <td>3</td>\n",
       "      <td>frontend</td>\n",
       "      <td>159000</td>\n",
       "      <td>0</td>\n",
       "      <td>0</td>\n",
       "      <td>Female</td>\n",
       "      <td>swiosts</td>\n",
       "      <td>10965</td>\n",
       "      <td>635.0</td>\n",
       "      <td>51730</td>\n",
       "    </tr>\n",
       "    <tr>\n",
       "      <th>62568</th>\n",
       "      <td>1.590448e+09</td>\n",
       "      <td>intel</td>\n",
       "      <td>Grade 6</td>\n",
       "      <td>Hardware Engineer</td>\n",
       "      <td>133</td>\n",
       "      <td>CA</td>\n",
       "      <td>2</td>\n",
       "      <td>4</td>\n",
       "      <td>verification engineer</td>\n",
       "      <td>122000</td>\n",
       "      <td>4</td>\n",
       "      <td>7</td>\n",
       "      <td>Male</td>\n",
       "      <td>sluld khauecks schnuerty sweiaf chaiancy thuad...</td>\n",
       "      <td>7434</td>\n",
       "      <td>807.0</td>\n",
       "      <td>29484</td>\n",
       "    </tr>\n",
       "    <tr>\n",
       "      <th>62596</th>\n",
       "      <td>1.623712e+09</td>\n",
       "      <td>facebook</td>\n",
       "      <td>E5</td>\n",
       "      <td>Software Engineer</td>\n",
       "      <td>323</td>\n",
       "      <td>CA</td>\n",
       "      <td>4</td>\n",
       "      <td>6</td>\n",
       "      <td>ml / ai</td>\n",
       "      <td>203000</td>\n",
       "      <td>85</td>\n",
       "      <td>35</td>\n",
       "      <td>Female</td>\n",
       "      <td>feonds mckeep spuols sqeirn sraord shroig cria...</td>\n",
       "      <td>7300</td>\n",
       "      <td>807.0</td>\n",
       "      <td>74029</td>\n",
       "    </tr>\n",
       "    <tr>\n",
       "      <th>62620</th>\n",
       "      <td>1.586387e+09</td>\n",
       "      <td>vmware</td>\n",
       "      <td>P7</td>\n",
       "      <td>Software Engineer</td>\n",
       "      <td>321</td>\n",
       "      <td>UnitedKingdom</td>\n",
       "      <td>17</td>\n",
       "      <td>18</td>\n",
       "      <td>backend</td>\n",
       "      <td>157000</td>\n",
       "      <td>120</td>\n",
       "      <td>44</td>\n",
       "      <td>Male</td>\n",
       "      <td>pfueys rhept tweiny physaasts phiary flal paiarr</td>\n",
       "      <td>12008</td>\n",
       "      <td>0.0</td>\n",
       "      <td>26286</td>\n",
       "    </tr>\n",
       "    <tr>\n",
       "      <th>62634</th>\n",
       "      <td>1.602976e+09</td>\n",
       "      <td>cadencedesignsystems</td>\n",
       "      <td>T4</td>\n",
       "      <td>Software Engineer</td>\n",
       "      <td>209</td>\n",
       "      <td>CA</td>\n",
       "      <td>7</td>\n",
       "      <td>10</td>\n",
       "      <td>production</td>\n",
       "      <td>181000</td>\n",
       "      <td>7</td>\n",
       "      <td>21</td>\n",
       "      <td>Male</td>\n",
       "      <td>juor tsurth pfeett schauety cycloerf tec frour...</td>\n",
       "      <td>7422</td>\n",
       "      <td>807.0</td>\n",
       "      <td>45594</td>\n",
       "    </tr>\n",
       "  </tbody>\n",
       "</table>\n",
       "<p>5592 rows × 17 columns</p>\n",
       "</div>"
      ],
      "text/plain": [
       "          timestamp               company       level               title  \\\n",
       "15     1.622156e+09                amazon          L5   Software Engineer   \n",
       "20     1.627427e+09      texasinstruments          L1   Hardware Engineer   \n",
       "50     1.554937e+09             microsoft          62  Solution Architect   \n",
       "68     1.624403e+09        westerndigital      Senior   Software Engineer   \n",
       "75     1.561504e+09   veritastechnologies  Senior SWE   Software Engineer   \n",
       "...             ...                   ...         ...                 ...   \n",
       "62561  1.608250e+09                   ibm      Band 7   Software Engineer   \n",
       "62568  1.590448e+09                 intel     Grade 6   Hardware Engineer   \n",
       "62596  1.623712e+09              facebook          E5   Software Engineer   \n",
       "62620  1.586387e+09                vmware          P7   Software Engineer   \n",
       "62634  1.602976e+09  cadencedesignsystems          T4   Software Engineer   \n",
       "\n",
       "       totalyearlycompensation       location  yearsofexperience  \\\n",
       "15                          60          India                  5   \n",
       "20                         131             CA                  3   \n",
       "50                          96             WA                  7   \n",
       "68                          97             CA                  3   \n",
       "75                         169             CA                  3   \n",
       "...                        ...            ...                ...   \n",
       "62561                      159             TX                  1   \n",
       "62568                      133             CA                  2   \n",
       "62596                      323             CA                  4   \n",
       "62620                      321  UnitedKingdom                 17   \n",
       "62634                      209             CA                  7   \n",
       "\n",
       "       yearsatcompany                    tag  basesalary  stockgrantvalue  \\\n",
       "15                  6         testing (sdet)       41000               19   \n",
       "20                  4      quality assurance      120000                0   \n",
       "50                 15               frontend       70000               12   \n",
       "68                  6               embedded       64000               20   \n",
       "75                  5                backend      160000                0   \n",
       "...               ...                    ...         ...              ...   \n",
       "62561               3               frontend      159000                0   \n",
       "62568               4  verification engineer      122000                4   \n",
       "62596               6                ml / ai      203000               85   \n",
       "62620              18                backend      157000              120   \n",
       "62634              10             production      181000                7   \n",
       "\n",
       "       bonus  gender                                       otherdetails  \\\n",
       "15         0    Male                                      viaocy phaofy   \n",
       "20        11     NaN                     hroiaks segh xaic creolly diak   \n",
       "50        14    Male                                                NaN   \n",
       "68        13     NaN  mckuend speeys traf thioully raink kluont schr...   \n",
       "75         9    Male                                                NaN   \n",
       "...      ...     ...                                                ...   \n",
       "62561      0  Female                                            swiosts   \n",
       "62568      7    Male  sluld khauecks schnuerty sweiaf chaiancy thuad...   \n",
       "62596     35  Female  feonds mckeep spuols sqeirn sraord shroig cria...   \n",
       "62620     44    Male   pfueys rhept tweiny physaasts phiary flal paiarr   \n",
       "62634     21    Male  juor tsurth pfeett schauety cycloerf tec frour...   \n",
       "\n",
       "       cityid  dmaid  rowNumber  \n",
       "15      13147    0.0      71422  \n",
       "20       7434  807.0      80394  \n",
       "50      11521  819.0       7691  \n",
       "68       7229  803.0      75044  \n",
       "75       7434  807.0      11152  \n",
       "...       ...    ...        ...  \n",
       "62561   10965  635.0      51730  \n",
       "62568    7434  807.0      29484  \n",
       "62596    7300  807.0      74029  \n",
       "62620   12008    0.0      26286  \n",
       "62634    7422  807.0      45594  \n",
       "\n",
       "[5592 rows x 17 columns]"
      ]
     },
     "execution_count": 51,
     "metadata": {},
     "output_type": "execute_result"
    }
   ],
   "source": [
    "wrong_experience = dataset[dataset[\"yearsatcompany\"] > dataset[\"yearsofexperience\"]]\n",
    "wrong_experience"
   ]
  },
  {
   "cell_type": "code",
   "execution_count": 52,
   "id": "e43e6466",
   "metadata": {},
   "outputs": [
    {
     "data": {
      "image/png": "[encoded data removed]",
      "text/plain": [
       "<Figure size 432x288 with 1 Axes>"
      ]
     },
     "metadata": {
      "needs_background": "light"
     },
     "output_type": "display_data"
    }
   ],
   "source": [
    "plt.hist(wrong_experience[\"yearsatcompany\"] - wrong_experience[\"yearsofexperience\"],bins=50,log=True)\n",
    "plt.show()"
   ]
  },
  {
   "cell_type": "markdown",
   "id": "4a717e97",
   "metadata": {},
   "source": [
    "That's quite a lot! More than 5500 people. We can see that most of these people have just a little more experience at the company than they have overall so we will assume that they mixed up those two fields."
   ]
  },
  {
   "cell_type": "code",
   "execution_count": 53,
   "id": "feb80960",
   "metadata": {},
   "outputs": [],
   "source": [
    "condition = dataset[\"yearsatcompany\"] > dataset[\"yearsofexperience\"]\n",
    "\n",
    "dataset.loc[condition,['yearsofexperience', 'yearsatcompany']] = dataset.loc[condition,['yearsatcompany', 'yearsofexperience']].values"
   ]
  },
  {
   "cell_type": "code",
   "execution_count": 54,
   "id": "df68cceb",
   "metadata": {
    "scrolled": true
   },
   "outputs": [
    {
     "data": {
      "text/html": [
       "<div>\n",
       "<style scoped>\n",
       "    .dataframe tbody tr th:only-of-type {\n",
       "        vertical-align: middle;\n",
       "    }\n",
       "\n",
       "    .dataframe tbody tr th {\n",
       "        vertical-align: top;\n",
       "    }\n",
       "\n",
       "    .dataframe thead th {\n",
       "        text-align: right;\n",
       "    }\n",
       "</style>\n",
       "<table border=\"1\" class=\"dataframe\">\n",
       "  <thead>\n",
       "    <tr style=\"text-align: right;\">\n",
       "      <th></th>\n",
       "      <th>timestamp</th>\n",
       "      <th>company</th>\n",
       "      <th>level</th>\n",
       "      <th>title</th>\n",
       "      <th>totalyearlycompensation</th>\n",
       "      <th>location</th>\n",
       "      <th>yearsofexperience</th>\n",
       "      <th>yearsatcompany</th>\n",
       "      <th>tag</th>\n",
       "      <th>basesalary</th>\n",
       "      <th>stockgrantvalue</th>\n",
       "      <th>bonus</th>\n",
       "      <th>gender</th>\n",
       "      <th>otherdetails</th>\n",
       "      <th>cityid</th>\n",
       "      <th>dmaid</th>\n",
       "      <th>rowNumber</th>\n",
       "    </tr>\n",
       "  </thead>\n",
       "  <tbody>\n",
       "    <tr>\n",
       "      <th>349</th>\n",
       "      <td>1.540944e+09</td>\n",
       "      <td>microsoft</td>\n",
       "      <td>65</td>\n",
       "      <td>Software Engineer</td>\n",
       "      <td>294</td>\n",
       "      <td>WA</td>\n",
       "      <td>31</td>\n",
       "      <td>29</td>\n",
       "      <td>platform tools</td>\n",
       "      <td>173000</td>\n",
       "      <td>68</td>\n",
       "      <td>53</td>\n",
       "      <td>NaN</td>\n",
       "      <td>NaN</td>\n",
       "      <td>11521</td>\n",
       "      <td>819.0</td>\n",
       "      <td>3303</td>\n",
       "    </tr>\n",
       "    <tr>\n",
       "      <th>2435</th>\n",
       "      <td>1.543450e+09</td>\n",
       "      <td>intel</td>\n",
       "      <td>Grade 9</td>\n",
       "      <td>Product Manager</td>\n",
       "      <td>258</td>\n",
       "      <td>CA</td>\n",
       "      <td>29</td>\n",
       "      <td>28</td>\n",
       "      <td>android</td>\n",
       "      <td>206000</td>\n",
       "      <td>10</td>\n",
       "      <td>42</td>\n",
       "      <td>Male</td>\n",
       "      <td>NaN</td>\n",
       "      <td>7434</td>\n",
       "      <td>807.0</td>\n",
       "      <td>4150</td>\n",
       "    </tr>\n",
       "    <tr>\n",
       "      <th>3171</th>\n",
       "      <td>1.601852e+09</td>\n",
       "      <td>cisco</td>\n",
       "      <td>Technical Leader 1</td>\n",
       "      <td>Software Engineer</td>\n",
       "      <td>172</td>\n",
       "      <td>TX</td>\n",
       "      <td>36</td>\n",
       "      <td>28</td>\n",
       "      <td>backend</td>\n",
       "      <td>149000</td>\n",
       "      <td>12</td>\n",
       "      <td>11</td>\n",
       "      <td>Male</td>\n",
       "      <td>brauenk</td>\n",
       "      <td>11217</td>\n",
       "      <td>623.0</td>\n",
       "      <td>43965</td>\n",
       "    </tr>\n",
       "    <tr>\n",
       "      <th>3591</th>\n",
       "      <td>1.611706e+09</td>\n",
       "      <td>trimble</td>\n",
       "      <td>SE4</td>\n",
       "      <td>Software Engineer</td>\n",
       "      <td>84</td>\n",
       "      <td>OH</td>\n",
       "      <td>37</td>\n",
       "      <td>32</td>\n",
       "      <td>full stack</td>\n",
       "      <td>84000</td>\n",
       "      <td>0</td>\n",
       "      <td>0</td>\n",
       "      <td>Male</td>\n",
       "      <td>dynauny kaehn scield mcmors feiaty</td>\n",
       "      <td>10276</td>\n",
       "      <td>510.0</td>\n",
       "      <td>55598</td>\n",
       "    </tr>\n",
       "    <tr>\n",
       "      <th>4163</th>\n",
       "      <td>1.580170e+09</td>\n",
       "      <td>intel</td>\n",
       "      <td>Grade 10</td>\n",
       "      <td>Hardware Engineer</td>\n",
       "      <td>265</td>\n",
       "      <td>CA</td>\n",
       "      <td>29</td>\n",
       "      <td>27</td>\n",
       "      <td>hardware</td>\n",
       "      <td>158000</td>\n",
       "      <td>42</td>\n",
       "      <td>65</td>\n",
       "      <td>Male</td>\n",
       "      <td>NaN</td>\n",
       "      <td>7193</td>\n",
       "      <td>862.0</td>\n",
       "      <td>21246</td>\n",
       "    </tr>\n",
       "    <tr>\n",
       "      <th>7757</th>\n",
       "      <td>1.627945e+09</td>\n",
       "      <td>siemens</td>\n",
       "      <td>L3</td>\n",
       "      <td>Marketing</td>\n",
       "      <td>97</td>\n",
       "      <td>NY</td>\n",
       "      <td>29</td>\n",
       "      <td>26</td>\n",
       "      <td>technical marketing</td>\n",
       "      <td>97000</td>\n",
       "      <td>0</td>\n",
       "      <td>0</td>\n",
       "      <td>Male</td>\n",
       "      <td>mccloently sreency thusch vews zav typoiaw mcc...</td>\n",
       "      <td>10209</td>\n",
       "      <td>538.0</td>\n",
       "      <td>81249</td>\n",
       "    </tr>\n",
       "    <tr>\n",
       "      <th>7790</th>\n",
       "      <td>1.615075e+09</td>\n",
       "      <td>apple</td>\n",
       "      <td>IC6</td>\n",
       "      <td>Product Manager</td>\n",
       "      <td>1169</td>\n",
       "      <td>CA</td>\n",
       "      <td>38</td>\n",
       "      <td>31</td>\n",
       "      <td>product</td>\n",
       "      <td>343000</td>\n",
       "      <td>756</td>\n",
       "      <td>70</td>\n",
       "      <td>Male</td>\n",
       "      <td>yaepp schwaosh shreon psychalls</td>\n",
       "      <td>7158</td>\n",
       "      <td>807.0</td>\n",
       "      <td>60412</td>\n",
       "    </tr>\n",
       "    <tr>\n",
       "      <th>8605</th>\n",
       "      <td>1.626131e+09</td>\n",
       "      <td>intelcorporation</td>\n",
       "      <td>Grade 9</td>\n",
       "      <td>Hardware Engineer</td>\n",
       "      <td>392</td>\n",
       "      <td>CA</td>\n",
       "      <td>30</td>\n",
       "      <td>28</td>\n",
       "      <td>soc design</td>\n",
       "      <td>246000</td>\n",
       "      <td>66</td>\n",
       "      <td>80</td>\n",
       "      <td>Male</td>\n",
       "      <td>srieucy</td>\n",
       "      <td>7434</td>\n",
       "      <td>807.0</td>\n",
       "      <td>77988</td>\n",
       "    </tr>\n",
       "    <tr>\n",
       "      <th>8885</th>\n",
       "      <td>1.569712e+09</td>\n",
       "      <td>cerner</td>\n",
       "      <td>32 (associate principal)</td>\n",
       "      <td>Software Engineer</td>\n",
       "      <td>265</td>\n",
       "      <td>MO</td>\n",
       "      <td>36</td>\n",
       "      <td>28</td>\n",
       "      <td>full stack</td>\n",
       "      <td>265000</td>\n",
       "      <td>0</td>\n",
       "      <td>0</td>\n",
       "      <td>NaN</td>\n",
       "      <td>shraek yoank gaorm gruings parth sruird psyche...</td>\n",
       "      <td>9364</td>\n",
       "      <td>616.0</td>\n",
       "      <td>15562</td>\n",
       "    </tr>\n",
       "    <tr>\n",
       "      <th>10496</th>\n",
       "      <td>1.626476e+09</td>\n",
       "      <td>cisco</td>\n",
       "      <td>Distinguished Engineer</td>\n",
       "      <td>Software Engineer</td>\n",
       "      <td>896</td>\n",
       "      <td>CA</td>\n",
       "      <td>29</td>\n",
       "      <td>26</td>\n",
       "      <td>networking</td>\n",
       "      <td>316000</td>\n",
       "      <td>478</td>\n",
       "      <td>102</td>\n",
       "      <td>Male</td>\n",
       "      <td>cubly mcmild groiabs thrails scraiors striiv</td>\n",
       "      <td>7422</td>\n",
       "      <td>807.0</td>\n",
       "      <td>78599</td>\n",
       "    </tr>\n",
       "    <tr>\n",
       "      <th>10773</th>\n",
       "      <td>1.583194e+09</td>\n",
       "      <td>sap</td>\n",
       "      <td>T4-2</td>\n",
       "      <td>Software Engineering Manager</td>\n",
       "      <td>244</td>\n",
       "      <td>WA</td>\n",
       "      <td>30</td>\n",
       "      <td>27</td>\n",
       "      <td>full stack</td>\n",
       "      <td>191000</td>\n",
       "      <td>12</td>\n",
       "      <td>41</td>\n",
       "      <td>Female</td>\n",
       "      <td>NaN</td>\n",
       "      <td>11470</td>\n",
       "      <td>819.0</td>\n",
       "      <td>24280</td>\n",
       "    </tr>\n",
       "    <tr>\n",
       "      <th>11163</th>\n",
       "      <td>1.575850e+09</td>\n",
       "      <td>intel</td>\n",
       "      <td>Grade 9</td>\n",
       "      <td>Hardware Engineer</td>\n",
       "      <td>273</td>\n",
       "      <td>CA</td>\n",
       "      <td>42</td>\n",
       "      <td>26</td>\n",
       "      <td>rtl &amp; fpga design engineer</td>\n",
       "      <td>172000</td>\n",
       "      <td>20</td>\n",
       "      <td>81</td>\n",
       "      <td>Male</td>\n",
       "      <td>wreant spals scealy droucs strult theisly</td>\n",
       "      <td>7434</td>\n",
       "      <td>807.0</td>\n",
       "      <td>18648</td>\n",
       "    </tr>\n",
       "    <tr>\n",
       "      <th>12357</th>\n",
       "      <td>1.619564e+09</td>\n",
       "      <td>oracle</td>\n",
       "      <td>M3</td>\n",
       "      <td>Product Manager</td>\n",
       "      <td>225</td>\n",
       "      <td>CA</td>\n",
       "      <td>26</td>\n",
       "      <td>26</td>\n",
       "      <td>enterprise</td>\n",
       "      <td>192000</td>\n",
       "      <td>29</td>\n",
       "      <td>4</td>\n",
       "      <td>Male</td>\n",
       "      <td>striinn dynauecks stiouct gigs trierd physuien...</td>\n",
       "      <td>7392</td>\n",
       "      <td>807.0</td>\n",
       "      <td>67813</td>\n",
       "    </tr>\n",
       "    <tr>\n",
       "      <th>16201</th>\n",
       "      <td>1.613347e+09</td>\n",
       "      <td>amadeus</td>\n",
       "      <td>L5</td>\n",
       "      <td>Product Manager</td>\n",
       "      <td>151</td>\n",
       "      <td>FL</td>\n",
       "      <td>31</td>\n",
       "      <td>27</td>\n",
       "      <td>product</td>\n",
       "      <td>139000</td>\n",
       "      <td>0</td>\n",
       "      <td>12</td>\n",
       "      <td>Female</td>\n",
       "      <td>mciegs scruont xioll mccliency mckoirds mcniux...</td>\n",
       "      <td>1242</td>\n",
       "      <td>528.0</td>\n",
       "      <td>57697</td>\n",
       "    </tr>\n",
       "    <tr>\n",
       "      <th>16859</th>\n",
       "      <td>1.619132e+09</td>\n",
       "      <td>ibm</td>\n",
       "      <td>Band 9</td>\n",
       "      <td>Software Engineer</td>\n",
       "      <td>96</td>\n",
       "      <td>NC</td>\n",
       "      <td>44</td>\n",
       "      <td>35</td>\n",
       "      <td>networking</td>\n",
       "      <td>95000</td>\n",
       "      <td>0</td>\n",
       "      <td>1</td>\n",
       "      <td>NaN</td>\n",
       "      <td>squasm synov blios pfeists scract mcnaeld mcku...</td>\n",
       "      <td>9606</td>\n",
       "      <td>560.0</td>\n",
       "      <td>67162</td>\n",
       "    </tr>\n",
       "    <tr>\n",
       "      <th>18031</th>\n",
       "      <td>1.560640e+09</td>\n",
       "      <td>ibm</td>\n",
       "      <td>Band 8 (Advisory)</td>\n",
       "      <td>Software Engineer</td>\n",
       "      <td>104</td>\n",
       "      <td>NC</td>\n",
       "      <td>42</td>\n",
       "      <td>27</td>\n",
       "      <td>backend</td>\n",
       "      <td>103000</td>\n",
       "      <td>0</td>\n",
       "      <td>1</td>\n",
       "      <td>Male</td>\n",
       "      <td>diaoc mccoiny kriit chruitch streasts dwiougs ...</td>\n",
       "      <td>9606</td>\n",
       "      <td>560.0</td>\n",
       "      <td>10203</td>\n",
       "    </tr>\n",
       "    <tr>\n",
       "      <th>18040</th>\n",
       "      <td>1.609718e+09</td>\n",
       "      <td>intel</td>\n",
       "      <td>Grade 10</td>\n",
       "      <td>Marketing</td>\n",
       "      <td>402</td>\n",
       "      <td>OR</td>\n",
       "      <td>29</td>\n",
       "      <td>27</td>\n",
       "      <td>technical</td>\n",
       "      <td>298000</td>\n",
       "      <td>27</td>\n",
       "      <td>77</td>\n",
       "      <td>Male</td>\n",
       "      <td>whearm fliung mcucs bluiess prouhl physoialt g...</td>\n",
       "      <td>10500</td>\n",
       "      <td>820.0</td>\n",
       "      <td>53142</td>\n",
       "    </tr>\n",
       "    <tr>\n",
       "      <th>18545</th>\n",
       "      <td>1.588892e+09</td>\n",
       "      <td>intel</td>\n",
       "      <td>Sr. Director</td>\n",
       "      <td>Product Manager</td>\n",
       "      <td>450</td>\n",
       "      <td>OR</td>\n",
       "      <td>43</td>\n",
       "      <td>26</td>\n",
       "      <td>systems</td>\n",
       "      <td>252000</td>\n",
       "      <td>84</td>\n",
       "      <td>114</td>\n",
       "      <td>NaN</td>\n",
       "      <td>NaN</td>\n",
       "      <td>10500</td>\n",
       "      <td>820.0</td>\n",
       "      <td>28197</td>\n",
       "    </tr>\n",
       "    <tr>\n",
       "      <th>20248</th>\n",
       "      <td>1.614211e+09</td>\n",
       "      <td>oracle</td>\n",
       "      <td>VP</td>\n",
       "      <td>Software Engineer</td>\n",
       "      <td>1132</td>\n",
       "      <td>CA</td>\n",
       "      <td>31</td>\n",
       "      <td>31</td>\n",
       "      <td>full stack</td>\n",
       "      <td>298000</td>\n",
       "      <td>834</td>\n",
       "      <td>0</td>\n",
       "      <td>Male</td>\n",
       "      <td>dwiast baacs spiaong bruonts frauetch sciaorr ...</td>\n",
       "      <td>7392</td>\n",
       "      <td>807.0</td>\n",
       "      <td>59087</td>\n",
       "    </tr>\n",
       "    <tr>\n",
       "      <th>20375</th>\n",
       "      <td>1.613606e+09</td>\n",
       "      <td>intel</td>\n",
       "      <td>Grade 9</td>\n",
       "      <td>Mechanical Engineer</td>\n",
       "      <td>163</td>\n",
       "      <td>OR</td>\n",
       "      <td>27</td>\n",
       "      <td>26</td>\n",
       "      <td>general</td>\n",
       "      <td>93000</td>\n",
       "      <td>26</td>\n",
       "      <td>44</td>\n",
       "      <td>Male</td>\n",
       "      <td>mcaesly tsiends rhuerg spaiolt sris spuirry mc...</td>\n",
       "      <td>10500</td>\n",
       "      <td>820.0</td>\n",
       "      <td>58208</td>\n",
       "    </tr>\n",
       "    <tr>\n",
       "      <th>20442</th>\n",
       "      <td>1.600470e+09</td>\n",
       "      <td>at&amp;t</td>\n",
       "      <td>Lead Member of Tehnical Staff</td>\n",
       "      <td>Software Engineer</td>\n",
       "      <td>261</td>\n",
       "      <td>TX</td>\n",
       "      <td>28</td>\n",
       "      <td>27</td>\n",
       "      <td>networking</td>\n",
       "      <td>217000</td>\n",
       "      <td>9</td>\n",
       "      <td>35</td>\n",
       "      <td>NaN</td>\n",
       "      <td>mcfuierty pliourn toum bleentz mccrirg gnoect</td>\n",
       "      <td>11039</td>\n",
       "      <td>623.0</td>\n",
       "      <td>41810</td>\n",
       "    </tr>\n",
       "    <tr>\n",
       "      <th>20769</th>\n",
       "      <td>1.534633e+09</td>\n",
       "      <td>intel</td>\n",
       "      <td>Grade 8</td>\n",
       "      <td>Software Engineer</td>\n",
       "      <td>223</td>\n",
       "      <td>CA</td>\n",
       "      <td>27</td>\n",
       "      <td>27</td>\n",
       "      <td>design verification</td>\n",
       "      <td>191000</td>\n",
       "      <td>19</td>\n",
       "      <td>13</td>\n",
       "      <td>NaN</td>\n",
       "      <td>NaN</td>\n",
       "      <td>7434</td>\n",
       "      <td>807.0</td>\n",
       "      <td>1560</td>\n",
       "    </tr>\n",
       "    <tr>\n",
       "      <th>22019</th>\n",
       "      <td>1.597792e+09</td>\n",
       "      <td>oracle</td>\n",
       "      <td>M3</td>\n",
       "      <td>Software Engineering Manager</td>\n",
       "      <td>117</td>\n",
       "      <td>CA</td>\n",
       "      <td>27</td>\n",
       "      <td>26</td>\n",
       "      <td>mobile (ios + android)</td>\n",
       "      <td>83000</td>\n",
       "      <td>34</td>\n",
       "      <td>0</td>\n",
       "      <td>NaN</td>\n",
       "      <td>syneaff plaiang mcmoops jaiv jiory schnuiess s...</td>\n",
       "      <td>7419</td>\n",
       "      <td>807.0</td>\n",
       "      <td>37233</td>\n",
       "    </tr>\n",
       "    <tr>\n",
       "      <th>23386</th>\n",
       "      <td>1.599606e+09</td>\n",
       "      <td>microsoft</td>\n",
       "      <td>67</td>\n",
       "      <td>Software Engineering Manager</td>\n",
       "      <td>612</td>\n",
       "      <td>WA</td>\n",
       "      <td>36</td>\n",
       "      <td>35</td>\n",
       "      <td>data</td>\n",
       "      <td>301000</td>\n",
       "      <td>84</td>\n",
       "      <td>227</td>\n",
       "      <td>NaN</td>\n",
       "      <td>NaN</td>\n",
       "      <td>11521</td>\n",
       "      <td>819.0</td>\n",
       "      <td>40476</td>\n",
       "    </tr>\n",
       "    <tr>\n",
       "      <th>31330</th>\n",
       "      <td>1.624489e+09</td>\n",
       "      <td>cisco</td>\n",
       "      <td>Grade 12</td>\n",
       "      <td>Hardware Engineer</td>\n",
       "      <td>243</td>\n",
       "      <td>CA</td>\n",
       "      <td>36</td>\n",
       "      <td>28</td>\n",
       "      <td>embedded systems</td>\n",
       "      <td>138000</td>\n",
       "      <td>30</td>\n",
       "      <td>75</td>\n",
       "      <td>Male</td>\n",
       "      <td>mcnuocs skieucts</td>\n",
       "      <td>7422</td>\n",
       "      <td>807.0</td>\n",
       "      <td>75205</td>\n",
       "    </tr>\n",
       "    <tr>\n",
       "      <th>31464</th>\n",
       "      <td>1.617491e+09</td>\n",
       "      <td>ibm</td>\n",
       "      <td>Band 10</td>\n",
       "      <td>Technical Program Manager</td>\n",
       "      <td>247</td>\n",
       "      <td>UnitedArabEmirates</td>\n",
       "      <td>29</td>\n",
       "      <td>27</td>\n",
       "      <td>customer success</td>\n",
       "      <td>247000</td>\n",
       "      <td>0</td>\n",
       "      <td>0</td>\n",
       "      <td>Male</td>\n",
       "      <td>cauem draig mcneihl meur czeaurd glaesm mcceon...</td>\n",
       "      <td>6765</td>\n",
       "      <td>0.0</td>\n",
       "      <td>64119</td>\n",
       "    </tr>\n",
       "    <tr>\n",
       "      <th>32190</th>\n",
       "      <td>1.593126e+09</td>\n",
       "      <td>oracle</td>\n",
       "      <td>Senior Manager</td>\n",
       "      <td>Software Engineering Manager</td>\n",
       "      <td>112</td>\n",
       "      <td>CA</td>\n",
       "      <td>29</td>\n",
       "      <td>27</td>\n",
       "      <td>backend</td>\n",
       "      <td>106000</td>\n",
       "      <td>6</td>\n",
       "      <td>0</td>\n",
       "      <td>Male</td>\n",
       "      <td>dreun mcuerm shreath phouncy sqitt tausts</td>\n",
       "      <td>7392</td>\n",
       "      <td>807.0</td>\n",
       "      <td>31673</td>\n",
       "    </tr>\n",
       "    <tr>\n",
       "      <th>33819</th>\n",
       "      <td>1.616371e+09</td>\n",
       "      <td>t-mobile</td>\n",
       "      <td>sr. Technical Architect</td>\n",
       "      <td>Solution Architect</td>\n",
       "      <td>137</td>\n",
       "      <td>KS</td>\n",
       "      <td>34</td>\n",
       "      <td>30</td>\n",
       "      <td>backend</td>\n",
       "      <td>128000</td>\n",
       "      <td>0</td>\n",
       "      <td>9</td>\n",
       "      <td>Female</td>\n",
       "      <td>czuofy brius schliintly xoonk psychaiaty xaol ...</td>\n",
       "      <td>41930</td>\n",
       "      <td>616.0</td>\n",
       "      <td>62394</td>\n",
       "    </tr>\n",
       "    <tr>\n",
       "      <th>33866</th>\n",
       "      <td>1.583453e+09</td>\n",
       "      <td>at&amp;t</td>\n",
       "      <td>Senior</td>\n",
       "      <td>Software Engineer</td>\n",
       "      <td>78</td>\n",
       "      <td>CA</td>\n",
       "      <td>28</td>\n",
       "      <td>26</td>\n",
       "      <td>full stack</td>\n",
       "      <td>59000</td>\n",
       "      <td>0</td>\n",
       "      <td>19</td>\n",
       "      <td>Male</td>\n",
       "      <td>dwarr twooch zieund braud kwuiefy traars biegy...</td>\n",
       "      <td>13027</td>\n",
       "      <td>803.0</td>\n",
       "      <td>24505</td>\n",
       "    </tr>\n",
       "    <tr>\n",
       "      <th>36351</th>\n",
       "      <td>1.606090e+09</td>\n",
       "      <td>intel</td>\n",
       "      <td>Fellow</td>\n",
       "      <td>Product Designer</td>\n",
       "      <td>643</td>\n",
       "      <td>OR</td>\n",
       "      <td>36</td>\n",
       "      <td>29</td>\n",
       "      <td>product engineer</td>\n",
       "      <td>197000</td>\n",
       "      <td>309</td>\n",
       "      <td>137</td>\n",
       "      <td>Male</td>\n",
       "      <td>cziengly kreagy hypiy psychoutt gnoatz</td>\n",
       "      <td>10522</td>\n",
       "      <td>820.0</td>\n",
       "      <td>49332</td>\n",
       "    </tr>\n",
       "    <tr>\n",
       "      <th>37987</th>\n",
       "      <td>1.535670e+09</td>\n",
       "      <td>intel</td>\n",
       "      <td>Grade 9</td>\n",
       "      <td>Software Engineering Manager</td>\n",
       "      <td>352</td>\n",
       "      <td>OR</td>\n",
       "      <td>43</td>\n",
       "      <td>32</td>\n",
       "      <td>devops</td>\n",
       "      <td>190000</td>\n",
       "      <td>64</td>\n",
       "      <td>98</td>\n",
       "      <td>NaN</td>\n",
       "      <td>NaN</td>\n",
       "      <td>10522</td>\n",
       "      <td>820.0</td>\n",
       "      <td>1780</td>\n",
       "    </tr>\n",
       "    <tr>\n",
       "      <th>38396</th>\n",
       "      <td>1.619824e+09</td>\n",
       "      <td>intel</td>\n",
       "      <td>l9</td>\n",
       "      <td>Hardware Engineer</td>\n",
       "      <td>266</td>\n",
       "      <td>AZ</td>\n",
       "      <td>39</td>\n",
       "      <td>28</td>\n",
       "      <td>asic design</td>\n",
       "      <td>185000</td>\n",
       "      <td>14</td>\n",
       "      <td>67</td>\n",
       "      <td>NaN</td>\n",
       "      <td>shrauern sweol pheads giaonk sneim hiirly</td>\n",
       "      <td>7012</td>\n",
       "      <td>753.0</td>\n",
       "      <td>68090</td>\n",
       "    </tr>\n",
       "    <tr>\n",
       "      <th>49295</th>\n",
       "      <td>1.581725e+09</td>\n",
       "      <td>ibm</td>\n",
       "      <td>9</td>\n",
       "      <td>Software Engineer</td>\n",
       "      <td>108</td>\n",
       "      <td>NC</td>\n",
       "      <td>32</td>\n",
       "      <td>27</td>\n",
       "      <td>backend</td>\n",
       "      <td>107000</td>\n",
       "      <td>0</td>\n",
       "      <td>1</td>\n",
       "      <td>Male</td>\n",
       "      <td>NaN</td>\n",
       "      <td>1317</td>\n",
       "      <td>560.0</td>\n",
       "      <td>22874</td>\n",
       "    </tr>\n",
       "    <tr>\n",
       "      <th>50022</th>\n",
       "      <td>1.598915e+09</td>\n",
       "      <td>oracle</td>\n",
       "      <td>IC5</td>\n",
       "      <td>Product Manager</td>\n",
       "      <td>137</td>\n",
       "      <td>CA</td>\n",
       "      <td>31</td>\n",
       "      <td>27</td>\n",
       "      <td>saas product management</td>\n",
       "      <td>128000</td>\n",
       "      <td>3</td>\n",
       "      <td>6</td>\n",
       "      <td>Male</td>\n",
       "      <td>kruiedly trooth slogh wruobs shreauts buiesh k...</td>\n",
       "      <td>7369</td>\n",
       "      <td>807.0</td>\n",
       "      <td>39109</td>\n",
       "    </tr>\n",
       "    <tr>\n",
       "      <th>50281</th>\n",
       "      <td>1.593299e+09</td>\n",
       "      <td>nxp</td>\n",
       "      <td>E3</td>\n",
       "      <td>Hardware Engineer</td>\n",
       "      <td>99</td>\n",
       "      <td>TX</td>\n",
       "      <td>31</td>\n",
       "      <td>27</td>\n",
       "      <td>product engineer</td>\n",
       "      <td>87000</td>\n",
       "      <td>12</td>\n",
       "      <td>0</td>\n",
       "      <td>Male</td>\n",
       "      <td>NaN</td>\n",
       "      <td>11259</td>\n",
       "      <td>618.0</td>\n",
       "      <td>31730</td>\n",
       "    </tr>\n",
       "    <tr>\n",
       "      <th>51227</th>\n",
       "      <td>1.621811e+09</td>\n",
       "      <td>amd</td>\n",
       "      <td>L9</td>\n",
       "      <td>Hardware Engineer</td>\n",
       "      <td>350</td>\n",
       "      <td>TX</td>\n",
       "      <td>30</td>\n",
       "      <td>29</td>\n",
       "      <td>asic design</td>\n",
       "      <td>265000</td>\n",
       "      <td>42</td>\n",
       "      <td>43</td>\n",
       "      <td>NaN</td>\n",
       "      <td>wheint hyaonn heets</td>\n",
       "      <td>10965</td>\n",
       "      <td>635.0</td>\n",
       "      <td>70875</td>\n",
       "    </tr>\n",
       "    <tr>\n",
       "      <th>52701</th>\n",
       "      <td>1.611619e+09</td>\n",
       "      <td>intel</td>\n",
       "      <td>L9</td>\n",
       "      <td>Software Engineer</td>\n",
       "      <td>170</td>\n",
       "      <td>OR</td>\n",
       "      <td>53</td>\n",
       "      <td>30</td>\n",
       "      <td>devops</td>\n",
       "      <td>94000</td>\n",
       "      <td>28</td>\n",
       "      <td>48</td>\n",
       "      <td>Male</td>\n",
       "      <td>spluiebs schmiousp</td>\n",
       "      <td>10500</td>\n",
       "      <td>820.0</td>\n",
       "      <td>55506</td>\n",
       "    </tr>\n",
       "    <tr>\n",
       "      <th>53354</th>\n",
       "      <td>1.620947e+09</td>\n",
       "      <td>lockheedmartin</td>\n",
       "      <td>E5</td>\n",
       "      <td>Software Engineer</td>\n",
       "      <td>94</td>\n",
       "      <td>CO</td>\n",
       "      <td>49</td>\n",
       "      <td>27</td>\n",
       "      <td>embedded, spacecraft</td>\n",
       "      <td>88000</td>\n",
       "      <td>0</td>\n",
       "      <td>6</td>\n",
       "      <td>Male</td>\n",
       "      <td>teiably pfeuhl druah symbix twoit siep ghiemp ...</td>\n",
       "      <td>7574</td>\n",
       "      <td>751.0</td>\n",
       "      <td>69827</td>\n",
       "    </tr>\n",
       "    <tr>\n",
       "      <th>54163</th>\n",
       "      <td>1.582675e+09</td>\n",
       "      <td>microsoft</td>\n",
       "      <td>64</td>\n",
       "      <td>Software Engineer</td>\n",
       "      <td>320</td>\n",
       "      <td>WA</td>\n",
       "      <td>28</td>\n",
       "      <td>27</td>\n",
       "      <td>backend</td>\n",
       "      <td>264000</td>\n",
       "      <td>30</td>\n",
       "      <td>26</td>\n",
       "      <td>Male</td>\n",
       "      <td>NaN</td>\n",
       "      <td>11521</td>\n",
       "      <td>819.0</td>\n",
       "      <td>23822</td>\n",
       "    </tr>\n",
       "    <tr>\n",
       "      <th>55116</th>\n",
       "      <td>1.609891e+09</td>\n",
       "      <td>microsoft</td>\n",
       "      <td>66</td>\n",
       "      <td>Software Engineer</td>\n",
       "      <td>312</td>\n",
       "      <td>WA</td>\n",
       "      <td>36</td>\n",
       "      <td>27</td>\n",
       "      <td>data</td>\n",
       "      <td>282000</td>\n",
       "      <td>0</td>\n",
       "      <td>30</td>\n",
       "      <td>Male</td>\n",
       "      <td>mcfiurty chrounts flaiast rhuant gnoapt</td>\n",
       "      <td>11521</td>\n",
       "      <td>819.0</td>\n",
       "      <td>53333</td>\n",
       "    </tr>\n",
       "    <tr>\n",
       "      <th>55734</th>\n",
       "      <td>1.602630e+09</td>\n",
       "      <td>at&amp;t</td>\n",
       "      <td>M2</td>\n",
       "      <td>Technical Program Manager</td>\n",
       "      <td>91</td>\n",
       "      <td>GA</td>\n",
       "      <td>35</td>\n",
       "      <td>27</td>\n",
       "      <td>networking</td>\n",
       "      <td>69000</td>\n",
       "      <td>0</td>\n",
       "      <td>22</td>\n",
       "      <td>Male</td>\n",
       "      <td>schaopp mccool seords mccraand steoc mcgaosch ...</td>\n",
       "      <td>7839</td>\n",
       "      <td>524.0</td>\n",
       "      <td>45076</td>\n",
       "    </tr>\n",
       "  </tbody>\n",
       "</table>\n",
       "</div>"
      ],
      "text/plain": [
       "          timestamp           company                          level  \\\n",
       "349    1.540944e+09         microsoft                             65   \n",
       "2435   1.543450e+09             intel                        Grade 9   \n",
       "3171   1.601852e+09             cisco             Technical Leader 1   \n",
       "3591   1.611706e+09           trimble                            SE4   \n",
       "4163   1.580170e+09             intel                       Grade 10   \n",
       "7757   1.627945e+09           siemens                             L3   \n",
       "7790   1.615075e+09             apple                            IC6   \n",
       "8605   1.626131e+09  intelcorporation                        Grade 9   \n",
       "8885   1.569712e+09            cerner       32 (associate principal)   \n",
       "10496  1.626476e+09             cisco         Distinguished Engineer   \n",
       "10773  1.583194e+09               sap                           T4-2   \n",
       "11163  1.575850e+09             intel                        Grade 9   \n",
       "12357  1.619564e+09            oracle                             M3   \n",
       "16201  1.613347e+09           amadeus                             L5   \n",
       "16859  1.619132e+09               ibm                         Band 9   \n",
       "18031  1.560640e+09               ibm              Band 8 (Advisory)   \n",
       "18040  1.609718e+09             intel                       Grade 10   \n",
       "18545  1.588892e+09             intel                   Sr. Director   \n",
       "20248  1.614211e+09            oracle                             VP   \n",
       "20375  1.613606e+09             intel                        Grade 9   \n",
       "20442  1.600470e+09              at&t  Lead Member of Tehnical Staff   \n",
       "20769  1.534633e+09             intel                        Grade 8   \n",
       "22019  1.597792e+09            oracle                             M3   \n",
       "23386  1.599606e+09         microsoft                             67   \n",
       "31330  1.624489e+09             cisco                       Grade 12   \n",
       "31464  1.617491e+09               ibm                        Band 10   \n",
       "32190  1.593126e+09            oracle                 Senior Manager   \n",
       "33819  1.616371e+09          t-mobile        sr. Technical Architect   \n",
       "33866  1.583453e+09              at&t                         Senior   \n",
       "36351  1.606090e+09             intel                         Fellow   \n",
       "37987  1.535670e+09             intel                        Grade 9   \n",
       "38396  1.619824e+09             intel                             l9   \n",
       "49295  1.581725e+09               ibm                              9   \n",
       "50022  1.598915e+09            oracle                            IC5   \n",
       "50281  1.593299e+09               nxp                             E3   \n",
       "51227  1.621811e+09               amd                             L9   \n",
       "52701  1.611619e+09             intel                             L9   \n",
       "53354  1.620947e+09    lockheedmartin                             E5   \n",
       "54163  1.582675e+09         microsoft                             64   \n",
       "55116  1.609891e+09         microsoft                             66   \n",
       "55734  1.602630e+09              at&t                             M2   \n",
       "\n",
       "                              title  totalyearlycompensation  \\\n",
       "349               Software Engineer                      294   \n",
       "2435                Product Manager                      258   \n",
       "3171              Software Engineer                      172   \n",
       "3591              Software Engineer                       84   \n",
       "4163              Hardware Engineer                      265   \n",
       "7757                      Marketing                       97   \n",
       "7790                Product Manager                     1169   \n",
       "8605              Hardware Engineer                      392   \n",
       "8885              Software Engineer                      265   \n",
       "10496             Software Engineer                      896   \n",
       "10773  Software Engineering Manager                      244   \n",
       "11163             Hardware Engineer                      273   \n",
       "12357               Product Manager                      225   \n",
       "16201               Product Manager                      151   \n",
       "16859             Software Engineer                       96   \n",
       "18031             Software Engineer                      104   \n",
       "18040                     Marketing                      402   \n",
       "18545               Product Manager                      450   \n",
       "20248             Software Engineer                     1132   \n",
       "20375           Mechanical Engineer                      163   \n",
       "20442             Software Engineer                      261   \n",
       "20769             Software Engineer                      223   \n",
       "22019  Software Engineering Manager                      117   \n",
       "23386  Software Engineering Manager                      612   \n",
       "31330             Hardware Engineer                      243   \n",
       "31464     Technical Program Manager                      247   \n",
       "32190  Software Engineering Manager                      112   \n",
       "33819            Solution Architect                      137   \n",
       "33866             Software Engineer                       78   \n",
       "36351              Product Designer                      643   \n",
       "37987  Software Engineering Manager                      352   \n",
       "38396             Hardware Engineer                      266   \n",
       "49295             Software Engineer                      108   \n",
       "50022               Product Manager                      137   \n",
       "50281             Hardware Engineer                       99   \n",
       "51227             Hardware Engineer                      350   \n",
       "52701             Software Engineer                      170   \n",
       "53354             Software Engineer                       94   \n",
       "54163             Software Engineer                      320   \n",
       "55116             Software Engineer                      312   \n",
       "55734     Technical Program Manager                       91   \n",
       "\n",
       "                 location  yearsofexperience  yearsatcompany  \\\n",
       "349                    WA                 31              29   \n",
       "2435                   CA                 29              28   \n",
       "3171                   TX                 36              28   \n",
       "3591                   OH                 37              32   \n",
       "4163                   CA                 29              27   \n",
       "7757                   NY                 29              26   \n",
       "7790                   CA                 38              31   \n",
       "8605                   CA                 30              28   \n",
       "8885                   MO                 36              28   \n",
       "10496                  CA                 29              26   \n",
       "10773                  WA                 30              27   \n",
       "11163                  CA                 42              26   \n",
       "12357                  CA                 26              26   \n",
       "16201                  FL                 31              27   \n",
       "16859                  NC                 44              35   \n",
       "18031                  NC                 42              27   \n",
       "18040                  OR                 29              27   \n",
       "18545                  OR                 43              26   \n",
       "20248                  CA                 31              31   \n",
       "20375                  OR                 27              26   \n",
       "20442                  TX                 28              27   \n",
       "20769                  CA                 27              27   \n",
       "22019                  CA                 27              26   \n",
       "23386                  WA                 36              35   \n",
       "31330                  CA                 36              28   \n",
       "31464  UnitedArabEmirates                 29              27   \n",
       "32190                  CA                 29              27   \n",
       "33819                  KS                 34              30   \n",
       "33866                  CA                 28              26   \n",
       "36351                  OR                 36              29   \n",
       "37987                  OR                 43              32   \n",
       "38396                  AZ                 39              28   \n",
       "49295                  NC                 32              27   \n",
       "50022                  CA                 31              27   \n",
       "50281                  TX                 31              27   \n",
       "51227                  TX                 30              29   \n",
       "52701                  OR                 53              30   \n",
       "53354                  CO                 49              27   \n",
       "54163                  WA                 28              27   \n",
       "55116                  WA                 36              27   \n",
       "55734                  GA                 35              27   \n",
       "\n",
       "                               tag  basesalary  stockgrantvalue  bonus  \\\n",
       "349                 platform tools      173000               68     53   \n",
       "2435                       android      206000               10     42   \n",
       "3171                       backend      149000               12     11   \n",
       "3591                    full stack       84000                0      0   \n",
       "4163                     hardware       158000               42     65   \n",
       "7757          technical marketing        97000                0      0   \n",
       "7790                       product      343000              756     70   \n",
       "8605                    soc design      246000               66     80   \n",
       "8885                    full stack      265000                0      0   \n",
       "10496                   networking      316000              478    102   \n",
       "10773                   full stack      191000               12     41   \n",
       "11163  rtl & fpga design engineer       172000               20     81   \n",
       "12357                   enterprise      192000               29      4   \n",
       "16201                      product      139000                0     12   \n",
       "16859                   networking       95000                0      1   \n",
       "18031                      backend      103000                0      1   \n",
       "18040                    technical      298000               27     77   \n",
       "18545                     systems       252000               84    114   \n",
       "20248                   full stack      298000              834      0   \n",
       "20375                      general       93000               26     44   \n",
       "20442                   networking      217000                9     35   \n",
       "20769          design verification      191000               19     13   \n",
       "22019       mobile (ios + android)       83000               34      0   \n",
       "23386                         data      301000               84    227   \n",
       "31330             embedded systems      138000               30     75   \n",
       "31464             customer success      247000                0      0   \n",
       "32190                      backend      106000                6      0   \n",
       "33819                      backend      128000                0      9   \n",
       "33866                   full stack       59000                0     19   \n",
       "36351             product engineer      197000              309    137   \n",
       "37987                       devops      190000               64     98   \n",
       "38396                  asic design      185000               14     67   \n",
       "49295                      backend      107000                0      1   \n",
       "50022      saas product management      128000                3      6   \n",
       "50281             product engineer       87000               12      0   \n",
       "51227                  asic design      265000               42     43   \n",
       "52701                       devops       94000               28     48   \n",
       "53354         embedded, spacecraft       88000                0      6   \n",
       "54163                      backend      264000               30     26   \n",
       "55116                         data      282000                0     30   \n",
       "55734                   networking       69000                0     22   \n",
       "\n",
       "       gender                                       otherdetails  cityid  \\\n",
       "349       NaN                                                NaN   11521   \n",
       "2435     Male                                                NaN    7434   \n",
       "3171     Male                                            brauenk   11217   \n",
       "3591     Male                 dynauny kaehn scield mcmors feiaty   10276   \n",
       "4163     Male                                                NaN    7193   \n",
       "7757     Male  mccloently sreency thusch vews zav typoiaw mcc...   10209   \n",
       "7790     Male                    yaepp schwaosh shreon psychalls    7158   \n",
       "8605     Male                                            srieucy    7434   \n",
       "8885      NaN  shraek yoank gaorm gruings parth sruird psyche...    9364   \n",
       "10496    Male       cubly mcmild groiabs thrails scraiors striiv    7422   \n",
       "10773  Female                                                NaN   11470   \n",
       "11163    Male          wreant spals scealy droucs strult theisly    7434   \n",
       "12357    Male  striinn dynauecks stiouct gigs trierd physuien...    7392   \n",
       "16201  Female  mciegs scruont xioll mccliency mckoirds mcniux...    1242   \n",
       "16859     NaN  squasm synov blios pfeists scract mcnaeld mcku...    9606   \n",
       "18031    Male  diaoc mccoiny kriit chruitch streasts dwiougs ...    9606   \n",
       "18040    Male  whearm fliung mcucs bluiess prouhl physoialt g...   10500   \n",
       "18545     NaN                                                NaN   10500   \n",
       "20248    Male  dwiast baacs spiaong bruonts frauetch sciaorr ...    7392   \n",
       "20375    Male  mcaesly tsiends rhuerg spaiolt sris spuirry mc...   10500   \n",
       "20442     NaN      mcfuierty pliourn toum bleentz mccrirg gnoect   11039   \n",
       "20769     NaN                                                NaN    7434   \n",
       "22019     NaN  syneaff plaiang mcmoops jaiv jiory schnuiess s...    7419   \n",
       "23386     NaN                                                NaN   11521   \n",
       "31330    Male                                   mcnuocs skieucts    7422   \n",
       "31464    Male  cauem draig mcneihl meur czeaurd glaesm mcceon...    6765   \n",
       "32190    Male          dreun mcuerm shreath phouncy sqitt tausts    7392   \n",
       "33819  Female  czuofy brius schliintly xoonk psychaiaty xaol ...   41930   \n",
       "33866    Male  dwarr twooch zieund braud kwuiefy traars biegy...   13027   \n",
       "36351    Male             cziengly kreagy hypiy psychoutt gnoatz   10522   \n",
       "37987     NaN                                                NaN   10522   \n",
       "38396     NaN          shrauern sweol pheads giaonk sneim hiirly    7012   \n",
       "49295    Male                                                NaN    1317   \n",
       "50022    Male  kruiedly trooth slogh wruobs shreauts buiesh k...    7369   \n",
       "50281    Male                                                NaN   11259   \n",
       "51227     NaN                                wheint hyaonn heets   10965   \n",
       "52701    Male                                 spluiebs schmiousp   10500   \n",
       "53354    Male  teiably pfeuhl druah symbix twoit siep ghiemp ...    7574   \n",
       "54163    Male                                                NaN   11521   \n",
       "55116    Male            mcfiurty chrounts flaiast rhuant gnoapt   11521   \n",
       "55734    Male  schaopp mccool seords mccraand steoc mcgaosch ...    7839   \n",
       "\n",
       "       dmaid  rowNumber  \n",
       "349    819.0       3303  \n",
       "2435   807.0       4150  \n",
       "3171   623.0      43965  \n",
       "3591   510.0      55598  \n",
       "4163   862.0      21246  \n",
       "7757   538.0      81249  \n",
       "7790   807.0      60412  \n",
       "8605   807.0      77988  \n",
       "8885   616.0      15562  \n",
       "10496  807.0      78599  \n",
       "10773  819.0      24280  \n",
       "11163  807.0      18648  \n",
       "12357  807.0      67813  \n",
       "16201  528.0      57697  \n",
       "16859  560.0      67162  \n",
       "18031  560.0      10203  \n",
       "18040  820.0      53142  \n",
       "18545  820.0      28197  \n",
       "20248  807.0      59087  \n",
       "20375  820.0      58208  \n",
       "20442  623.0      41810  \n",
       "20769  807.0       1560  \n",
       "22019  807.0      37233  \n",
       "23386  819.0      40476  \n",
       "31330  807.0      75205  \n",
       "31464    0.0      64119  \n",
       "32190  807.0      31673  \n",
       "33819  616.0      62394  \n",
       "33866  803.0      24505  \n",
       "36351  820.0      49332  \n",
       "37987  820.0       1780  \n",
       "38396  753.0      68090  \n",
       "49295  560.0      22874  \n",
       "50022  807.0      39109  \n",
       "50281  618.0      31730  \n",
       "51227  635.0      70875  \n",
       "52701  820.0      55506  \n",
       "53354  751.0      69827  \n",
       "54163  819.0      23822  \n",
       "55116  819.0      53333  \n",
       "55734  524.0      45076  "
      ]
     },
     "execution_count": 54,
     "metadata": {},
     "output_type": "execute_result"
    }
   ],
   "source": [
    "dataset[dataset[\"yearsatcompany\"] > 25]"
   ]
  },
  {
   "cell_type": "markdown",
   "id": "b826d59f",
   "metadata": {},
   "source": [
    "After checking all people with long experience their value seems plausible. So I believe we are done with cleaning regarding experience"
   ]
  },
  {
   "cell_type": "markdown",
   "id": "6b20cd11",
   "metadata": {},
   "source": [
    "<a id=\"cleaning_gender\"></a>\n",
    "### Data cleaning: Gender\n",
    "[Back to start of chapter](#data_cleaning)<br/>\n",
    "Before we move over to data exploration let's fix the problem of people having a missing gender"
   ]
  },
  {
   "cell_type": "code",
   "execution_count": 55,
   "id": "29412b2c",
   "metadata": {},
   "outputs": [
    {
     "data": {
      "text/plain": [
       "Male                               34895\n",
       "Female                              6843\n",
       "Other                                374\n",
       "Title: Senior Software Engineer        1\n",
       "Name: gender, dtype: int64"
      ]
     },
     "execution_count": 55,
     "metadata": {},
     "output_type": "execute_result"
    }
   ],
   "source": [
    "dataset[\"gender\"].value_counts()"
   ]
  },
  {
   "cell_type": "code",
   "execution_count": 56,
   "id": "d92f75d7",
   "metadata": {
    "scrolled": false
   },
   "outputs": [
    {
     "data": {
      "text/html": [
       "<div>\n",
       "<style scoped>\n",
       "    .dataframe tbody tr th:only-of-type {\n",
       "        vertical-align: middle;\n",
       "    }\n",
       "\n",
       "    .dataframe tbody tr th {\n",
       "        vertical-align: top;\n",
       "    }\n",
       "\n",
       "    .dataframe thead th {\n",
       "        text-align: right;\n",
       "    }\n",
       "</style>\n",
       "<table border=\"1\" class=\"dataframe\">\n",
       "  <thead>\n",
       "    <tr style=\"text-align: right;\">\n",
       "      <th></th>\n",
       "      <th>timestamp</th>\n",
       "      <th>company</th>\n",
       "      <th>level</th>\n",
       "      <th>title</th>\n",
       "      <th>totalyearlycompensation</th>\n",
       "      <th>location</th>\n",
       "      <th>yearsofexperience</th>\n",
       "      <th>yearsatcompany</th>\n",
       "      <th>tag</th>\n",
       "      <th>basesalary</th>\n",
       "      <th>stockgrantvalue</th>\n",
       "      <th>bonus</th>\n",
       "      <th>gender</th>\n",
       "      <th>otherdetails</th>\n",
       "      <th>cityid</th>\n",
       "      <th>dmaid</th>\n",
       "      <th>rowNumber</th>\n",
       "    </tr>\n",
       "  </thead>\n",
       "  <tbody>\n",
       "    <tr>\n",
       "      <th>14857</th>\n",
       "      <td>1.568675e+09</td>\n",
       "      <td>github</td>\n",
       "      <td>E4</td>\n",
       "      <td>Software Engineer</td>\n",
       "      <td>217</td>\n",
       "      <td>TX</td>\n",
       "      <td>14</td>\n",
       "      <td>6</td>\n",
       "      <td>backend</td>\n",
       "      <td>200000</td>\n",
       "      <td>16</td>\n",
       "      <td>1</td>\n",
       "      <td>Title: Senior Software Engineer</td>\n",
       "      <td>NaN</td>\n",
       "      <td>12858</td>\n",
       "      <td>635.0</td>\n",
       "      <td>14977</td>\n",
       "    </tr>\n",
       "  </tbody>\n",
       "</table>\n",
       "</div>"
      ],
      "text/plain": [
       "          timestamp company level              title  totalyearlycompensation  \\\n",
       "14857  1.568675e+09  github    E4  Software Engineer                      217   \n",
       "\n",
       "      location  yearsofexperience  yearsatcompany      tag  basesalary  \\\n",
       "14857       TX                 14               6  backend      200000   \n",
       "\n",
       "       stockgrantvalue  bonus                           gender otherdetails  \\\n",
       "14857               16      1  Title: Senior Software Engineer          NaN   \n",
       "\n",
       "       cityid  dmaid  rowNumber  \n",
       "14857   12858  635.0      14977  "
      ]
     },
     "execution_count": 56,
     "metadata": {},
     "output_type": "execute_result"
    }
   ],
   "source": [
    "dataset[dataset[\"gender\"] == \"Title: Senior Software Engineer\"]"
   ]
  },
  {
   "cell_type": "markdown",
   "id": "eacdb6bb",
   "metadata": {},
   "source": [
    "Let's change the person who's gender is \"Title: Senior Software Engineer\" to a correct one and fill the Nan values."
   ]
  },
  {
   "cell_type": "code",
   "execution_count": 57,
   "id": "c422f074",
   "metadata": {},
   "outputs": [],
   "source": [
    "dataset.loc[dataset[\"gender\"] == \"Title: Senior Software Engineer\",\"gender\"] = \"Undisclosed\""
   ]
  },
  {
   "cell_type": "code",
   "execution_count": 58,
   "id": "43a1e9bb",
   "metadata": {},
   "outputs": [],
   "source": [
    "dataset[\"gender\"].fillna(\"Undisclosed\",inplace=True)"
   ]
  },
  {
   "cell_type": "code",
   "execution_count": 59,
   "id": "94fb5247",
   "metadata": {
    "scrolled": false
   },
   "outputs": [
    {
     "data": {
      "text/plain": [
       "Male           34895\n",
       "Undisclosed    18225\n",
       "Female          6843\n",
       "Other            374\n",
       "Name: gender, dtype: int64"
      ]
     },
     "execution_count": 59,
     "metadata": {},
     "output_type": "execute_result"
    }
   ],
   "source": [
    "dataset[\"gender\"].value_counts()"
   ]
  },
  {
   "cell_type": "code",
   "execution_count": 60,
   "id": "cfacfaea",
   "metadata": {
    "scrolled": true
   },
   "outputs": [
    {
     "data": {
      "text/html": [
       "<div>\n",
       "<style scoped>\n",
       "    .dataframe tbody tr th:only-of-type {\n",
       "        vertical-align: middle;\n",
       "    }\n",
       "\n",
       "    .dataframe tbody tr th {\n",
       "        vertical-align: top;\n",
       "    }\n",
       "\n",
       "    .dataframe thead th {\n",
       "        text-align: right;\n",
       "    }\n",
       "</style>\n",
       "<table border=\"1\" class=\"dataframe\">\n",
       "  <thead>\n",
       "    <tr style=\"text-align: right;\">\n",
       "      <th></th>\n",
       "      <th>timestamp</th>\n",
       "      <th>company</th>\n",
       "      <th>level</th>\n",
       "      <th>title</th>\n",
       "      <th>totalyearlycompensation</th>\n",
       "      <th>location</th>\n",
       "      <th>yearsofexperience</th>\n",
       "      <th>yearsatcompany</th>\n",
       "      <th>tag</th>\n",
       "      <th>basesalary</th>\n",
       "      <th>stockgrantvalue</th>\n",
       "      <th>bonus</th>\n",
       "      <th>gender</th>\n",
       "      <th>otherdetails</th>\n",
       "      <th>cityid</th>\n",
       "      <th>dmaid</th>\n",
       "      <th>rowNumber</th>\n",
       "    </tr>\n",
       "  </thead>\n",
       "  <tbody>\n",
       "    <tr>\n",
       "      <th>count</th>\n",
       "      <td>6.033700e+04</td>\n",
       "      <td>60337</td>\n",
       "      <td>60226</td>\n",
       "      <td>60337</td>\n",
       "      <td>6.033700e+04</td>\n",
       "      <td>60337</td>\n",
       "      <td>60337.000000</td>\n",
       "      <td>60337.000000</td>\n",
       "      <td>60337</td>\n",
       "      <td>6.033700e+04</td>\n",
       "      <td>6.033700e+04</td>\n",
       "      <td>60337.000000</td>\n",
       "      <td>60337</td>\n",
       "      <td>40102</td>\n",
       "      <td>60337.000000</td>\n",
       "      <td>60335.000000</td>\n",
       "      <td>60337.000000</td>\n",
       "    </tr>\n",
       "    <tr>\n",
       "      <th>unique</th>\n",
       "      <td>NaN</td>\n",
       "      <td>1100</td>\n",
       "      <td>3019</td>\n",
       "      <td>15</td>\n",
       "      <td>NaN</td>\n",
       "      <td>129</td>\n",
       "      <td>NaN</td>\n",
       "      <td>NaN</td>\n",
       "      <td>2762</td>\n",
       "      <td>NaN</td>\n",
       "      <td>NaN</td>\n",
       "      <td>NaN</td>\n",
       "      <td>4</td>\n",
       "      <td>40095</td>\n",
       "      <td>NaN</td>\n",
       "      <td>NaN</td>\n",
       "      <td>NaN</td>\n",
       "    </tr>\n",
       "    <tr>\n",
       "      <th>top</th>\n",
       "      <td>NaN</td>\n",
       "      <td>amazon</td>\n",
       "      <td>L4</td>\n",
       "      <td>Software Engineer</td>\n",
       "      <td>NaN</td>\n",
       "      <td>CA</td>\n",
       "      <td>NaN</td>\n",
       "      <td>NaN</td>\n",
       "      <td>backend</td>\n",
       "      <td>NaN</td>\n",
       "      <td>NaN</td>\n",
       "      <td>NaN</td>\n",
       "      <td>Male</td>\n",
       "      <td>noilly</td>\n",
       "      <td>NaN</td>\n",
       "      <td>NaN</td>\n",
       "      <td>NaN</td>\n",
       "    </tr>\n",
       "    <tr>\n",
       "      <th>freq</th>\n",
       "      <td>NaN</td>\n",
       "      <td>7729</td>\n",
       "      <td>4852</td>\n",
       "      <td>39695</td>\n",
       "      <td>NaN</td>\n",
       "      <td>21820</td>\n",
       "      <td>NaN</td>\n",
       "      <td>NaN</td>\n",
       "      <td>16510</td>\n",
       "      <td>NaN</td>\n",
       "      <td>NaN</td>\n",
       "      <td>NaN</td>\n",
       "      <td>34895</td>\n",
       "      <td>2</td>\n",
       "      <td>NaN</td>\n",
       "      <td>NaN</td>\n",
       "      <td>NaN</td>\n",
       "    </tr>\n",
       "    <tr>\n",
       "      <th>mean</th>\n",
       "      <td>1.596557e+09</td>\n",
       "      <td>NaN</td>\n",
       "      <td>NaN</td>\n",
       "      <td>NaN</td>\n",
       "      <td>3.296624e+03</td>\n",
       "      <td>NaN</td>\n",
       "      <td>7.392413</td>\n",
       "      <td>2.458143</td>\n",
       "      <td>NaN</td>\n",
       "      <td>1.417487e+05</td>\n",
       "      <td>1.178216e+03</td>\n",
       "      <td>251.572750</td>\n",
       "      <td>NaN</td>\n",
       "      <td>NaN</td>\n",
       "      <td>9873.014485</td>\n",
       "      <td>613.832452</td>\n",
       "      <td>43003.763628</td>\n",
       "    </tr>\n",
       "    <tr>\n",
       "      <th>std</th>\n",
       "      <td>2.550612e+07</td>\n",
       "      <td>NaN</td>\n",
       "      <td>NaN</td>\n",
       "      <td>NaN</td>\n",
       "      <td>3.950750e+04</td>\n",
       "      <td>NaN</td>\n",
       "      <td>6.466908</td>\n",
       "      <td>3.102473</td>\n",
       "      <td>NaN</td>\n",
       "      <td>7.190470e+04</td>\n",
       "      <td>2.568208e+04</td>\n",
       "      <td>3779.066181</td>\n",
       "      <td>NaN</td>\n",
       "      <td>NaN</td>\n",
       "      <td>6727.466916</td>\n",
       "      <td>290.839108</td>\n",
       "      <td>23986.040834</td>\n",
       "    </tr>\n",
       "    <tr>\n",
       "      <th>min</th>\n",
       "      <td>1.496790e+09</td>\n",
       "      <td>NaN</td>\n",
       "      <td>NaN</td>\n",
       "      <td>NaN</td>\n",
       "      <td>3.000000e+00</td>\n",
       "      <td>NaN</td>\n",
       "      <td>0.000000</td>\n",
       "      <td>0.000000</td>\n",
       "      <td>NaN</td>\n",
       "      <td>1.000000e+03</td>\n",
       "      <td>0.000000e+00</td>\n",
       "      <td>0.000000</td>\n",
       "      <td>NaN</td>\n",
       "      <td>NaN</td>\n",
       "      <td>0.000000</td>\n",
       "      <td>0.000000</td>\n",
       "      <td>1.000000</td>\n",
       "    </tr>\n",
       "    <tr>\n",
       "      <th>25%</th>\n",
       "      <td>1.581552e+09</td>\n",
       "      <td>NaN</td>\n",
       "      <td>NaN</td>\n",
       "      <td>NaN</td>\n",
       "      <td>1.240000e+02</td>\n",
       "      <td>NaN</td>\n",
       "      <td>3.000000</td>\n",
       "      <td>0.000000</td>\n",
       "      <td>NaN</td>\n",
       "      <td>9.300000e+04</td>\n",
       "      <td>1.000000e+00</td>\n",
       "      <td>3.000000</td>\n",
       "      <td>NaN</td>\n",
       "      <td>NaN</td>\n",
       "      <td>7369.000000</td>\n",
       "      <td>505.000000</td>\n",
       "      <td>22455.000000</td>\n",
       "    </tr>\n",
       "    <tr>\n",
       "      <th>50%</th>\n",
       "      <td>1.601593e+09</td>\n",
       "      <td>NaN</td>\n",
       "      <td>NaN</td>\n",
       "      <td>NaN</td>\n",
       "      <td>1.880000e+02</td>\n",
       "      <td>NaN</td>\n",
       "      <td>6.000000</td>\n",
       "      <td>1.000000</td>\n",
       "      <td>NaN</td>\n",
       "      <td>1.330000e+05</td>\n",
       "      <td>2.500000e+01</td>\n",
       "      <td>14.000000</td>\n",
       "      <td>NaN</td>\n",
       "      <td>NaN</td>\n",
       "      <td>7839.000000</td>\n",
       "      <td>807.000000</td>\n",
       "      <td>43694.000000</td>\n",
       "    </tr>\n",
       "    <tr>\n",
       "      <th>75%</th>\n",
       "      <td>1.617232e+09</td>\n",
       "      <td>NaN</td>\n",
       "      <td>NaN</td>\n",
       "      <td>NaN</td>\n",
       "      <td>2.740000e+02</td>\n",
       "      <td>NaN</td>\n",
       "      <td>10.000000</td>\n",
       "      <td>3.000000</td>\n",
       "      <td>NaN</td>\n",
       "      <td>1.810000e+05</td>\n",
       "      <td>6.700000e+01</td>\n",
       "      <td>27.000000</td>\n",
       "      <td>NaN</td>\n",
       "      <td>NaN</td>\n",
       "      <td>11521.000000</td>\n",
       "      <td>807.000000</td>\n",
       "      <td>63736.000000</td>\n",
       "    </tr>\n",
       "    <tr>\n",
       "      <th>max</th>\n",
       "      <td>1.629155e+09</td>\n",
       "      <td>NaN</td>\n",
       "      <td>NaN</td>\n",
       "      <td>NaN</td>\n",
       "      <td>3.386013e+06</td>\n",
       "      <td>NaN</td>\n",
       "      <td>58.000000</td>\n",
       "      <td>35.000000</td>\n",
       "      <td>NaN</td>\n",
       "      <td>2.057772e+06</td>\n",
       "      <td>3.140803e+06</td>\n",
       "      <td>384026.000000</td>\n",
       "      <td>NaN</td>\n",
       "      <td>NaN</td>\n",
       "      <td>47926.000000</td>\n",
       "      <td>881.000000</td>\n",
       "      <td>83875.000000</td>\n",
       "    </tr>\n",
       "  </tbody>\n",
       "</table>\n",
       "</div>"
      ],
      "text/plain": [
       "           timestamp company  level              title  \\\n",
       "count   6.033700e+04   60337  60226              60337   \n",
       "unique           NaN    1100   3019                 15   \n",
       "top              NaN  amazon     L4  Software Engineer   \n",
       "freq             NaN    7729   4852              39695   \n",
       "mean    1.596557e+09     NaN    NaN                NaN   \n",
       "std     2.550612e+07     NaN    NaN                NaN   \n",
       "min     1.496790e+09     NaN    NaN                NaN   \n",
       "25%     1.581552e+09     NaN    NaN                NaN   \n",
       "50%     1.601593e+09     NaN    NaN                NaN   \n",
       "75%     1.617232e+09     NaN    NaN                NaN   \n",
       "max     1.629155e+09     NaN    NaN                NaN   \n",
       "\n",
       "        totalyearlycompensation location  yearsofexperience  yearsatcompany  \\\n",
       "count              6.033700e+04    60337       60337.000000    60337.000000   \n",
       "unique                      NaN      129                NaN             NaN   \n",
       "top                         NaN       CA                NaN             NaN   \n",
       "freq                        NaN    21820                NaN             NaN   \n",
       "mean               3.296624e+03      NaN           7.392413        2.458143   \n",
       "std                3.950750e+04      NaN           6.466908        3.102473   \n",
       "min                3.000000e+00      NaN           0.000000        0.000000   \n",
       "25%                1.240000e+02      NaN           3.000000        0.000000   \n",
       "50%                1.880000e+02      NaN           6.000000        1.000000   \n",
       "75%                2.740000e+02      NaN          10.000000        3.000000   \n",
       "max                3.386013e+06      NaN          58.000000       35.000000   \n",
       "\n",
       "            tag    basesalary  stockgrantvalue          bonus gender  \\\n",
       "count     60337  6.033700e+04     6.033700e+04   60337.000000  60337   \n",
       "unique     2762           NaN              NaN            NaN      4   \n",
       "top     backend           NaN              NaN            NaN   Male   \n",
       "freq      16510           NaN              NaN            NaN  34895   \n",
       "mean        NaN  1.417487e+05     1.178216e+03     251.572750    NaN   \n",
       "std         NaN  7.190470e+04     2.568208e+04    3779.066181    NaN   \n",
       "min         NaN  1.000000e+03     0.000000e+00       0.000000    NaN   \n",
       "25%         NaN  9.300000e+04     1.000000e+00       3.000000    NaN   \n",
       "50%         NaN  1.330000e+05     2.500000e+01      14.000000    NaN   \n",
       "75%         NaN  1.810000e+05     6.700000e+01      27.000000    NaN   \n",
       "max         NaN  2.057772e+06     3.140803e+06  384026.000000    NaN   \n",
       "\n",
       "       otherdetails        cityid         dmaid     rowNumber  \n",
       "count         40102  60337.000000  60335.000000  60337.000000  \n",
       "unique        40095           NaN           NaN           NaN  \n",
       "top          noilly           NaN           NaN           NaN  \n",
       "freq              2           NaN           NaN           NaN  \n",
       "mean            NaN   9873.014485    613.832452  43003.763628  \n",
       "std             NaN   6727.466916    290.839108  23986.040834  \n",
       "min             NaN      0.000000      0.000000      1.000000  \n",
       "25%             NaN   7369.000000    505.000000  22455.000000  \n",
       "50%             NaN   7839.000000    807.000000  43694.000000  \n",
       "75%             NaN  11521.000000    807.000000  63736.000000  \n",
       "max             NaN  47926.000000    881.000000  83875.000000  "
      ]
     },
     "execution_count": 60,
     "metadata": {},
     "output_type": "execute_result"
    }
   ],
   "source": [
    "dataset.describe(include=\"all\")"
   ]
  },
  {
   "cell_type": "markdown",
   "id": "1d6cbd73",
   "metadata": {},
   "source": [
    "Seems like we are done cleaning. Let's remove the columns we would like to drop and continue with data exploration. We will drop the total yearly compensation because it is just the sum of base salary, bonus and stock grant. We will also drop the bonus because the bonus is often just a fixed percentage of the base salary (10-15% for most faang companies ([source](https://faangpath.com/blog/faang-companies-salary-bands/))). The stock grant will be removed as well because in a scenario where we want to predict the a compensation component it is not realistic that we already know a different compensation component. In other words: Either I know my whole compensation or I don't know any of it."
   ]
  },
  {
   "cell_type": "code",
   "execution_count": 61,
   "id": "64ebf662",
   "metadata": {},
   "outputs": [],
   "source": [
    "# dropping columns that were declared irrelevant before\n",
    "remaining_columns = ['timestamp', 'company', 'title','location', 'yearsofexperience', 'yearsatcompany', 'tag', 'basesalary', 'gender']\n",
    "dataset = dataset[remaining_columns]"
   ]
  },
  {
   "cell_type": "markdown",
   "id": "cc0043d4",
   "metadata": {},
   "source": [
    "<a id=\"test_set\"></a>\n",
    "## Creating a test set\n",
    "[Back to main table of contents](#table_of_contents)"
   ]
  },
  {
   "cell_type": "code",
   "execution_count": 62,
   "id": "6a2755a7",
   "metadata": {},
   "outputs": [],
   "source": [
    "features = ['timestamp', 'company', 'title','location', 'yearsofexperience', 'yearsatcompany', 'tag', 'gender']\n"
   ]
  },
  {
   "cell_type": "code",
   "execution_count": 63,
   "id": "46c619fd",
   "metadata": {},
   "outputs": [
    {
     "data": {
      "text/plain": [
       "(60337, 9)"
      ]
     },
     "execution_count": 63,
     "metadata": {},
     "output_type": "execute_result"
    }
   ],
   "source": [
    "dataset.shape"
   ]
  },
  {
   "cell_type": "code",
   "execution_count": 64,
   "id": "553ef86a",
   "metadata": {},
   "outputs": [],
   "source": [
    "# Split off the test set: 20% of the dataset.\n",
    "dev_df, test_df = train_test_split(dataset, train_size=0.8, random_state=42069)\n",
    "\n",
    "# Extract the features but leave as a DataFrame\n",
    "dev_X = dev_df[features]\n",
    "dev_y = dev_df[\"basesalary\"].values\n",
    "test_X = test_df[features]\n",
    "test_y = test_df[\"basesalary\"].values"
   ]
  },
  {
   "cell_type": "markdown",
   "id": "0a1ed497",
   "metadata": {},
   "source": [
    "<a id=\"data_exploration\"></a>\n",
    "## Data Exploration\n",
    "[Back to main table of contents](#table_of_contents)\n",
    "### Table of contents:\n",
    "1. [Company](#exploration_company)\n",
    "2. [Timestamp](#exploration_timestamp)\n",
    "3. [Title](#exploration_title)\n",
    "4. [Location](#exploration_location)\n",
    "5. [Years of experience and years at company](#exploration_yoe)\n",
    "6. [Tag](#exploration_tag)\n",
    "7. [Gender](#exploration_gender)\n",
    "8. [More advanced stuff](#exploration_advanced)"
   ]
  },
  {
   "cell_type": "code",
   "execution_count": 65,
   "id": "890ff255",
   "metadata": {},
   "outputs": [
    {
     "data": {
      "text/plain": [
       "(48269, 9)"
      ]
     },
     "execution_count": 65,
     "metadata": {},
     "output_type": "execute_result"
    }
   ],
   "source": [
    "dev_df.shape"
   ]
  },
  {
   "cell_type": "markdown",
   "id": "1999fb71",
   "metadata": {},
   "source": [
    "<a id=\"exploation_company\"></a>\n",
    "### Data Exploration: Company\n",
    "[Back to start of chapter](#data_exploration)"
   ]
  },
  {
   "cell_type": "code",
   "execution_count": 66,
   "id": "a520da87",
   "metadata": {
    "scrolled": true
   },
   "outputs": [
    {
     "data": {
      "text/plain": [
       "amazon       6137\n",
       "microsoft    3970\n",
       "google       3358\n",
       "facebook     2314\n",
       "apple        1588\n",
       "             ... \n",
       "headspace       2\n",
       "amzon           1\n",
       "zomato          1\n",
       " google         1\n",
       "tune            1\n",
       "Name: company, Length: 1100, dtype: int64"
      ]
     },
     "execution_count": 66,
     "metadata": {},
     "output_type": "execute_result"
    }
   ],
   "source": [
    "dev_df[\"company\"].value_counts()"
   ]
  },
  {
   "cell_type": "code",
   "execution_count": 67,
   "id": "4dcb329f",
   "metadata": {
    "scrolled": false
   },
   "outputs": [
    {
     "data": {
      "text/plain": [
       "25995"
      ]
     },
     "execution_count": 67,
     "metadata": {},
     "output_type": "execute_result"
    }
   ],
   "source": [
    "dev_df[\"company\"].value_counts()[:20].sum()"
   ]
  },
  {
   "cell_type": "code",
   "execution_count": 68,
   "id": "244947e5",
   "metadata": {},
   "outputs": [
    {
     "data": {
      "image/png": "[encoded data removed]",
      "text/plain": [
       "<Figure size 720x360 with 1 Axes>"
      ]
     },
     "metadata": {
      "needs_background": "light"
     },
     "output_type": "display_data"
    }
   ],
   "source": [
    "companies = list(dev_df[\"company\"].value_counts()[:20].index)\n",
    "salaries = []\n",
    "for elem in companies:\n",
    "    salaries.append(dev_df[dev_df[\"company\"] == elem][\"basesalary\"].mean())\n",
    "fig = plt.figure(figsize = (10, 5))\n",
    "plt.bar(companies,salaries)\n",
    "plt.xticks(rotation=45, ha=\"right\")\n",
    "plt.show()"
   ]
  },
  {
   "cell_type": "markdown",
   "id": "d5f92e91",
   "metadata": {},
   "source": [
    "Making use of the company will be difficult. However, over half of our dataset is only made up of approximately 20 companies. So one idea would be to encode the company names into numbers (e.g. through their average base salary as suggested [here](https://stackoverflow.com/questions/34007308/linear-regression-analysis-with-string-categorical-features-variables)). We will do this in the feature engineering part. As we can see by the barplot, there is evidence that this makes sense because the average base salary varies by company."
   ]
  },
  {
   "cell_type": "markdown",
   "id": "1db5370b",
   "metadata": {},
   "source": [
    "<a id=\"exploration_timestamp\"></a>\n",
    "### Data Exploration: Timestamp\n",
    "[Back to start of chapter](#data_exploration)"
   ]
  },
  {
   "cell_type": "code",
   "execution_count": 69,
   "id": "15c59deb",
   "metadata": {
    "scrolled": true
   },
   "outputs": [
    {
     "data": {
      "image/png": "[encoded data removed]",
      "text/plain": [
       "<Figure size 432x288 with 1 Axes>"
      ]
     },
     "metadata": {
      "needs_background": "light"
     },
     "output_type": "display_data"
    }
   ],
   "source": [
    "plt.hist(dev_df[\"timestamp\"], bins=50)\n",
    "plt.show()"
   ]
  },
  {
   "cell_type": "markdown",
   "id": "5d18f6ea",
   "metadata": {},
   "source": [
    "The distribution of the timestamp shows that there is a bias towards newer entries (which most likely have a higher salary on average)."
   ]
  },
  {
   "cell_type": "markdown",
   "id": "7d4cf9bd",
   "metadata": {},
   "source": [
    "<a id=\"exploration_title\"></a>\n",
    "### Data Exploration: Title\n",
    "[Back to start of chapter](#data_exploration)"
   ]
  },
  {
   "cell_type": "code",
   "execution_count": 70,
   "id": "a9f5de0b",
   "metadata": {
    "scrolled": true
   },
   "outputs": [
    {
     "data": {
      "text/plain": [
       "Software Engineer               31770\n",
       "Product Manager                  3490\n",
       "Software Engineering Manager     2648\n",
       "Data Scientist                   1986\n",
       "Hardware Engineer                1737\n",
       "Product Designer                 1167\n",
       "Technical Program Manager        1134\n",
       "Solution Architect                868\n",
       "Management Consultant             785\n",
       "Business Analyst                  716\n",
       "Marketing                         580\n",
       "Mechanical Engineer               395\n",
       "Recruiter                         352\n",
       "Sales                             348\n",
       "Human Resources                   293\n",
       "Name: title, dtype: int64"
      ]
     },
     "execution_count": 70,
     "metadata": {},
     "output_type": "execute_result"
    }
   ],
   "source": [
    "dev_df[\"title\"].value_counts()"
   ]
  },
  {
   "cell_type": "code",
   "execution_count": 71,
   "id": "3ba499a3",
   "metadata": {},
   "outputs": [
    {
     "data": {
      "image/png": "[encoded data removed]",
      "text/plain": [
       "<Figure size 720x360 with 1 Axes>"
      ]
     },
     "metadata": {
      "needs_background": "light"
     },
     "output_type": "display_data"
    }
   ],
   "source": [
    "companies = list(dev_df[\"title\"].value_counts().index)\n",
    "salaries = []\n",
    "for elem in companies:\n",
    "    salaries.append(dev_df[dev_df[\"title\"] == elem][\"basesalary\"].mean())\n",
    "fig = plt.figure(figsize = (10, 5))\n",
    "plt.bar(companies,salaries)\n",
    "plt.xticks(rotation=45, ha=\"right\")\n",
    "plt.show()"
   ]
  },
  {
   "cell_type": "markdown",
   "id": "28931757",
   "metadata": {},
   "source": [
    "It is clear to see that the dataset has a strong bias towards Software Engineers in terms of the job title. This makes sense given that levels.fyi is a platform mainly geared towards the software industry where most employees are software engineers. Feature engineering with this column will be tricky, too. But given the similarity to the company column it would make sense to take the average base salary for every role."
   ]
  },
  {
   "cell_type": "markdown",
   "id": "e955cb10",
   "metadata": {},
   "source": [
    "<a id=\"exploration_location\"></a>\n",
    "### Data Exploration: Location\n",
    "[Back to start of chapter](#data_exploration)"
   ]
  },
  {
   "cell_type": "code",
   "execution_count": 72,
   "id": "520db950",
   "metadata": {
    "scrolled": true
   },
   "outputs": [
    {
     "data": {
      "text/plain": [
       "CA                 17492\n",
       "WA                  9349\n",
       "NY                  3691\n",
       "India               2229\n",
       "TX                  2098\n",
       "                   ...  \n",
       "MarshallIslands        1\n",
       "Yugoslavia             1\n",
       "Armenia                1\n",
       "Iraq                   1\n",
       "Qatar                  1\n",
       "Name: location, Length: 127, dtype: int64"
      ]
     },
     "execution_count": 72,
     "metadata": {},
     "output_type": "execute_result"
    }
   ],
   "source": [
    "dev_df[\"location\"].value_counts()"
   ]
  },
  {
   "cell_type": "code",
   "execution_count": 73,
   "id": "02a3ef48",
   "metadata": {},
   "outputs": [
    {
     "data": {
      "text/plain": [
       "43996"
      ]
     },
     "execution_count": 73,
     "metadata": {},
     "output_type": "execute_result"
    }
   ],
   "source": [
    "dev_df[\"location\"].value_counts()[:20].sum()"
   ]
  },
  {
   "cell_type": "code",
   "execution_count": 74,
   "id": "3583226c",
   "metadata": {},
   "outputs": [
    {
     "data": {
      "image/png": "[encoded data removed]",
      "text/plain": [
       "<Figure size 720x360 with 1 Axes>"
      ]
     },
     "metadata": {
      "needs_background": "light"
     },
     "output_type": "display_data"
    }
   ],
   "source": [
    "locations = list(dev_df[\"location\"].value_counts()[:20].index)\n",
    "salaries = []\n",
    "for elem in locations:\n",
    "    salaries.append(dev_df[dev_df[\"location\"] == elem][\"basesalary\"].mean())\n",
    "fig = plt.figure(figsize = (10, 5))\n",
    "plt.bar(locations,salaries)\n",
    "plt.xticks(rotation=45, ha=\"right\")\n",
    "plt.show()"
   ]
  },
  {
   "cell_type": "markdown",
   "id": "3dc0d066",
   "metadata": {},
   "source": [
    "The location has an abundance of different values, however the 20 most frequented columns make up for about 90% of all entries. This makes is a similar case to the other title and company column."
   ]
  },
  {
   "cell_type": "markdown",
   "id": "0128b6d5",
   "metadata": {},
   "source": [
    "<a id=\"exploration_yoe\"></a>\n",
    "### Data Exploration: Years of Experience & Years at company\n",
    "[Back to start of chapter](#data_exploration)"
   ]
  },
  {
   "cell_type": "code",
   "execution_count": 75,
   "id": "56910a74",
   "metadata": {},
   "outputs": [
    {
     "data": {
      "text/plain": [
       "Text(0.5, 1.0, 'Years at company')"
      ]
     },
     "execution_count": 75,
     "metadata": {},
     "output_type": "execute_result"
    },
    {
     "data": {
      "image/png": "[encoded data removed]",
      "text/plain": [
       "<Figure size 432x288 with 2 Axes>"
      ]
     },
     "metadata": {
      "needs_background": "light"
     },
     "output_type": "display_data"
    }
   ],
   "source": [
    "fig, ax = plt.subplots(1, 2)\n",
    "fig.tight_layout()\n",
    "\n",
    "ax[0].hist(dev_df[\"yearsofexperience\"],bins=50)\n",
    "ax[0].set_title(\"Years of experience\")\n",
    "\n",
    "ax[1].hist(dev_df[\"yearsatcompany\"],bins=50)\n",
    "ax[1].set_title(\"Years at company\")"
   ]
  },
  {
   "cell_type": "markdown",
   "id": "62089bd7",
   "metadata": {},
   "source": [
    "These two columns have no extraordinary information. The only interesting thing is that the years of experience column has some spikes at around 5 years and 12 years which deviate from the pattern that there are less people the higher the experience is."
   ]
  },
  {
   "cell_type": "markdown",
   "id": "dd3a0c62",
   "metadata": {},
   "source": [
    "<a id=\"exploration_tag\"></a>\n",
    "### Data Exploration: Tag\n",
    "[Back to start of chapter](#data_exploration)"
   ]
  },
  {
   "cell_type": "code",
   "execution_count": 76,
   "id": "9f346cfd",
   "metadata": {
    "scrolled": true
   },
   "outputs": [
    {
     "data": {
      "text/plain": [
       "backend                                13188\n",
       "full stack                              8755\n",
       "ml / ai                                 3144\n",
       "frontend                                2272\n",
       "product                                 1410\n",
       "                                       ...  \n",
       "equipment                                  1\n",
       "engineer, customer product engineer        1\n",
       "supply chain product                       1\n",
       "system sw                                  1\n",
       "hardware apps                              1\n",
       "Name: tag, Length: 2350, dtype: int64"
      ]
     },
     "execution_count": 76,
     "metadata": {},
     "output_type": "execute_result"
    }
   ],
   "source": [
    "dev_df[\"tag\"].value_counts()"
   ]
  },
  {
   "cell_type": "code",
   "execution_count": 77,
   "id": "18f9fd5a",
   "metadata": {},
   "outputs": [
    {
     "data": {
      "text/plain": [
       "backend                   13188\n",
       "full stack                 8755\n",
       "ml / ai                    3144\n",
       "frontend                   2272\n",
       "product                    1410\n",
       "data                       1271\n",
       "devops                     1211\n",
       "networking                  914\n",
       "security                    909\n",
       "ios                         872\n",
       "android                     728\n",
       "mobile (ios + android)      691\n",
       "technical                   641\n",
       "unknown                     615\n",
       "testing (sdet)              608\n",
       "site reliability (sre)      592\n",
       "general                     573\n",
       "user experience (ux)        550\n",
       "production                  418\n",
       "operations                  279\n",
       "Name: tag, dtype: int64"
      ]
     },
     "execution_count": 77,
     "metadata": {},
     "output_type": "execute_result"
    }
   ],
   "source": [
    "dev_df[\"tag\"].value_counts()[:20]"
   ]
  },
  {
   "cell_type": "code",
   "execution_count": 78,
   "id": "c0441bd0",
   "metadata": {},
   "outputs": [
    {
     "data": {
      "text/plain": [
       "39641"
      ]
     },
     "execution_count": 78,
     "metadata": {},
     "output_type": "execute_result"
    }
   ],
   "source": [
    "dev_df[\"tag\"].value_counts()[:20].sum()"
   ]
  },
  {
   "cell_type": "code",
   "execution_count": 79,
   "id": "e1d295fc",
   "metadata": {},
   "outputs": [
    {
     "data": {
      "image/png": "[encoded data removed]",
      "text/plain": [
       "<Figure size 720x360 with 1 Axes>"
      ]
     },
     "metadata": {
      "needs_background": "light"
     },
     "output_type": "display_data"
    }
   ],
   "source": [
    "companies = list(dev_df[\"tag\"].value_counts()[:20].index)\n",
    "salaries = []\n",
    "for elem in companies:\n",
    "    salaries.append(dev_df[dev_df[\"tag\"] == elem][\"basesalary\"].mean())\n",
    "fig = plt.figure(figsize = (10, 5))\n",
    "plt.bar(companies,salaries)\n",
    "plt.xticks(rotation=45, ha=\"right\")\n",
    "plt.show()"
   ]
  },
  {
   "cell_type": "markdown",
   "id": "5bfed282",
   "metadata": {},
   "source": [
    "The tag is similar to the location column. There are many unique values but only a few make up for the majority of all data points. <br/>\n",
    "(Oh, and it is cool to see that ML/AI has the highest base salary. Seems like I chose the right field after all ;) )"
   ]
  },
  {
   "cell_type": "markdown",
   "id": "5eb0b593",
   "metadata": {},
   "source": [
    "<a id=\"exploration_gender\"></a>\n",
    "### Data Exploration: Gender\n",
    "[Back to start of chapter](#data_exploration)"
   ]
  },
  {
   "cell_type": "code",
   "execution_count": 80,
   "id": "4cee6d5f",
   "metadata": {},
   "outputs": [
    {
     "data": {
      "text/plain": [
       "Male           27860\n",
       "Undisclosed    14604\n",
       "Female          5505\n",
       "Other            300\n",
       "Name: gender, dtype: int64"
      ]
     },
     "execution_count": 80,
     "metadata": {},
     "output_type": "execute_result"
    }
   ],
   "source": [
    "dev_df[\"gender\"].value_counts()"
   ]
  },
  {
   "cell_type": "code",
   "execution_count": 81,
   "id": "cb28ec33",
   "metadata": {
    "scrolled": false
   },
   "outputs": [
    {
     "data": {
      "image/png": "[encoded data removed]",
      "text/plain": [
       "<Figure size 720x360 with 1 Axes>"
      ]
     },
     "metadata": {
      "needs_background": "light"
     },
     "output_type": "display_data"
    }
   ],
   "source": [
    "companies = list(dev_df[\"gender\"].value_counts().index)\n",
    "salaries = []\n",
    "for elem in companies:\n",
    "    salaries.append(dev_df[dev_df[\"gender\"] == elem][\"basesalary\"].mean())\n",
    "fig = plt.figure(figsize = (10, 5))\n",
    "plt.bar(companies,salaries)\n",
    "plt.xticks(rotation=45, ha=\"right\")\n",
    "plt.show()"
   ]
  },
  {
   "cell_type": "markdown",
   "id": "016d3950",
   "metadata": {},
   "source": [
    "As expected, the people in this dataset are predominantly male. Other than that there is not much to say here. The only interesting thing is that there is practically no difference between the base salary of Males and Females. Good to see that the tech industry is ahead of many other industries in terms of gender equality, at least when it comes to (base) salary."
   ]
  },
  {
   "cell_type": "markdown",
   "id": "18f669f6",
   "metadata": {},
   "source": [
    "<a id=\"exploration_advanced\"></a>\n",
    "### Data Exploration: More advanced stuff\n",
    "[Back to start of chapter](#data_exploration) <br/>\n",
    "Now that we have had a look at single columns let's explore the data even more (correlation between features)"
   ]
  },
  {
   "cell_type": "code",
   "execution_count": 82,
   "id": "406968be",
   "metadata": {
    "scrolled": true
   },
   "outputs": [
    {
     "data": {
      "text/html": [
       "<div>\n",
       "<style scoped>\n",
       "    .dataframe tbody tr th:only-of-type {\n",
       "        vertical-align: middle;\n",
       "    }\n",
       "\n",
       "    .dataframe tbody tr th {\n",
       "        vertical-align: top;\n",
       "    }\n",
       "\n",
       "    .dataframe thead th {\n",
       "        text-align: right;\n",
       "    }\n",
       "</style>\n",
       "<table border=\"1\" class=\"dataframe\">\n",
       "  <thead>\n",
       "    <tr style=\"text-align: right;\">\n",
       "      <th></th>\n",
       "      <th>timestamp</th>\n",
       "      <th>yearsofexperience</th>\n",
       "      <th>yearsatcompany</th>\n",
       "      <th>basesalary</th>\n",
       "    </tr>\n",
       "  </thead>\n",
       "  <tbody>\n",
       "    <tr>\n",
       "      <th>timestamp</th>\n",
       "      <td>1.000000</td>\n",
       "      <td>-0.004579</td>\n",
       "      <td>0.002300</td>\n",
       "      <td>-0.078465</td>\n",
       "    </tr>\n",
       "    <tr>\n",
       "      <th>yearsofexperience</th>\n",
       "      <td>-0.004579</td>\n",
       "      <td>1.000000</td>\n",
       "      <td>0.532538</td>\n",
       "      <td>0.300962</td>\n",
       "    </tr>\n",
       "    <tr>\n",
       "      <th>yearsatcompany</th>\n",
       "      <td>0.002300</td>\n",
       "      <td>0.532538</td>\n",
       "      <td>1.000000</td>\n",
       "      <td>0.144824</td>\n",
       "    </tr>\n",
       "    <tr>\n",
       "      <th>basesalary</th>\n",
       "      <td>-0.078465</td>\n",
       "      <td>0.300962</td>\n",
       "      <td>0.144824</td>\n",
       "      <td>1.000000</td>\n",
       "    </tr>\n",
       "  </tbody>\n",
       "</table>\n",
       "</div>"
      ],
      "text/plain": [
       "                   timestamp  yearsofexperience  yearsatcompany  basesalary\n",
       "timestamp           1.000000          -0.004579        0.002300   -0.078465\n",
       "yearsofexperience  -0.004579           1.000000        0.532538    0.300962\n",
       "yearsatcompany      0.002300           0.532538        1.000000    0.144824\n",
       "basesalary         -0.078465           0.300962        0.144824    1.000000"
      ]
     },
     "execution_count": 82,
     "metadata": {},
     "output_type": "execute_result"
    }
   ],
   "source": [
    "dev_df.corr()"
   ]
  },
  {
   "cell_type": "markdown",
   "id": "023468f2",
   "metadata": {},
   "source": [
    "### Analyzing the base salary progression of Males and Females"
   ]
  },
  {
   "cell_type": "code",
   "execution_count": 83,
   "id": "798aae1a",
   "metadata": {},
   "outputs": [
    {
     "data": {
      "text/plain": [
       "[]"
      ]
     },
     "execution_count": 83,
     "metadata": {},
     "output_type": "execute_result"
    },
    {
     "data": {
      "image/png": "[encoded data removed]",
      "text/plain": [
       "<Figure size 432x288 with 1 Axes>"
      ]
     },
     "metadata": {
      "needs_background": "light"
     },
     "output_type": "display_data"
    }
   ],
   "source": [
    "females = dev_df[dev_df[\"gender\"] == \"Female\"]\n",
    "plt.scatter(females[\"yearsofexperience\"],females[\"basesalary\"])\n",
    "plt.plot()"
   ]
  },
  {
   "cell_type": "code",
   "execution_count": 84,
   "id": "a64999ba",
   "metadata": {},
   "outputs": [
    {
     "data": {
      "text/plain": [
       "[]"
      ]
     },
     "execution_count": 84,
     "metadata": {},
     "output_type": "execute_result"
    },
    {
     "data": {
      "image/png": "[encoded data removed]",
      "text/plain": [
       "<Figure size 432x288 with 1 Axes>"
      ]
     },
     "metadata": {
      "needs_background": "light"
     },
     "output_type": "display_data"
    }
   ],
   "source": [
    "males = dev_df[dev_df[\"gender\"] == \"Male\"]\n",
    "plt.scatter(males[\"yearsofexperience\"],males[\"basesalary\"])\n",
    "plt.plot()"
   ]
  },
  {
   "cell_type": "markdown",
   "id": "0f51ae47",
   "metadata": {},
   "source": [
    "The base salary progression of Males and Females does not vary significantly. However, there are virtually no females with more than 30 years of experience while there are still a few men even with 45 years of experience"
   ]
  },
  {
   "cell_type": "markdown",
   "id": "dc8a353a",
   "metadata": {},
   "source": [
    "### Years of Experience by location"
   ]
  },
  {
   "cell_type": "code",
   "execution_count": 85,
   "id": "c4f2f5a9",
   "metadata": {},
   "outputs": [
    {
     "data": {
      "image/png": "[encoded data removed]",
      "text/plain": [
       "<Figure size 720x360 with 1 Axes>"
      ]
     },
     "metadata": {
      "needs_background": "light"
     },
     "output_type": "display_data"
    }
   ],
   "source": [
    "locations = list(dev_df[\"location\"].value_counts()[:20].index)\n",
    "yoe = []\n",
    "for elem in locations:\n",
    "    yoe.append(dev_df[dev_df[\"location\"] == elem][\"yearsofexperience\"].mean())\n",
    "fig = plt.figure(figsize = (10, 5))\n",
    "plt.bar(locations,yoe)\n",
    "plt.xticks(rotation=45, ha=\"right\")\n",
    "plt.show()"
   ]
  },
  {
   "cell_type": "markdown",
   "id": "d77d21ae",
   "metadata": {},
   "source": [
    "For some reason, Oregon stands out massively in terms of YOE. I looked up which [tech companies are located there](https://www.zippia.com/advice/largest-companies-in-oregon/) and still could not find a reason for this interesting finding. "
   ]
  },
  {
   "cell_type": "markdown",
   "id": "cee651bc",
   "metadata": {},
   "source": [
    "### Years at company by company"
   ]
  },
  {
   "cell_type": "code",
   "execution_count": 86,
   "id": "d3f84e54",
   "metadata": {},
   "outputs": [
    {
     "data": {
      "image/png": "[encoded data removed]",
      "text/plain": [
       "<Figure size 720x360 with 1 Axes>"
      ]
     },
     "metadata": {
      "needs_background": "light"
     },
     "output_type": "display_data"
    }
   ],
   "source": [
    "companies = list(dev_df[\"company\"].value_counts()[:20].index)\n",
    "yac = []\n",
    "for elem in companies:\n",
    "    yac.append(dev_df[dev_df[\"company\"] == elem][\"yearsatcompany\"].median())\n",
    "fig = plt.figure(figsize = (10, 5))\n",
    "plt.bar(companies,yac)\n",
    "plt.xticks(rotation=45, ha=\"right\")\n",
    "plt.show()"
   ]
  },
  {
   "cell_type": "markdown",
   "id": "186e9de5",
   "metadata": {},
   "source": [
    "Nothing unexpected here either. Almost all tech companies struggle with employee retention. To be fair, they have been growing tremendously in the past which could also explain the low values for most companies."
   ]
  },
  {
   "cell_type": "markdown",
   "id": "50d1b5fd",
   "metadata": {},
   "source": [
    "<a id=\"feature_engineering\"></a>\n",
    "## Feature engineering\n",
    "[Back to main table of contents](#table_of_contents) <br/>\n",
    "Now that we have cleaned the data and had a thorough look at it, it is time to do some feature engineering. Since we will be using the average base salary of given categorical features, we first need to split the development set into training set and validation set. That way, if we compute the average base salary of engineers in California for example, we will only compute the average base salary of engineers in California <i>who are in the test set</i>. If we did not do that we would have leakage. If we encounter a new categorial value during prediction, then we will just use the mean of all entries in the training data. That way we won't assume anything about the given value for this column (due to scaling the value will be 0 and the column won't have any effect on the prediction).\n",
    "Since the dataset is large enough (tens of thousands of entries), we need not use cross validation but can rather use <b>holdout</b>."
   ]
  },
  {
   "cell_type": "code",
   "execution_count": 87,
   "id": "d800e9c9",
   "metadata": {},
   "outputs": [],
   "source": [
    "class UseTimestamp(BaseEstimator, TransformerMixin):\n",
    "\n",
    "    def __init__(self, insert=True):\n",
    "        self.insert = insert\n",
    "        \n",
    "    def fit(self, X, y=None):\n",
    "        return self\n",
    "    \n",
    "    def transform(self, X, y=None):\n",
    "        if not self.insert:\n",
    "            X.drop(\"timestamp\",axis=1, inplace=True)\n",
    "        return X"
   ]
  },
  {
   "cell_type": "code",
   "execution_count": 88,
   "id": "774235e3",
   "metadata": {},
   "outputs": [],
   "source": [
    "class TransformLocation(BaseEstimator, TransformerMixin):\n",
    "\n",
    "    def __init__(self, insert=True):\n",
    "        self.insert = insert\n",
    "        \n",
    "    def fit(self, X, y=None):\n",
    "        if y is None:\n",
    "            raise ValueError(\"y needs to be set to compute the values for each location\")\n",
    "        X[\"basesalary\"] = y\n",
    "        self.location_metrics = {}\n",
    "        locations = list(X[\"location\"].value_counts()[:20].index)\n",
    "        for elem in locations:\n",
    "            self.location_metrics[elem] = X[X[\"location\"] == elem][\"basesalary\"].mean()\n",
    "        self.other_location = X[\"basesalary\"].mean()\n",
    "        X.drop(\"basesalary\",axis=1,inplace=True)\n",
    "        return self\n",
    "    \n",
    "    def transform(self, X, y=None):\n",
    "        if self.insert:\n",
    "            X[\"location_transformed\"] = X[\"location\"].apply(lambda x: self.location_metrics[x]if x in self.location_metrics.keys() else self.other_location)    \n",
    "            X = X.replace( [ np.inf, -np.inf ], np.nan )\n",
    "        X.drop(\"location\",axis=1, inplace=True)\n",
    "        return X"
   ]
  },
  {
   "cell_type": "code",
   "execution_count": 89,
   "id": "cbfcc7de",
   "metadata": {},
   "outputs": [],
   "source": [
    "class TransformTag(BaseEstimator, TransformerMixin):\n",
    "\n",
    "    def __init__(self, insert=True):\n",
    "        self.insert = insert\n",
    "        \n",
    "    def fit(self, X, y=None):\n",
    "        if y is None:\n",
    "            raise ValueError(\"y needs to be set to compute the values for each tag\")\n",
    "        X[\"basesalary\"] = y\n",
    "        self.tag_metrics = {}\n",
    "        tags = list(X[\"tag\"].value_counts()[:20].index)\n",
    "        for elem in tags:\n",
    "            self.tag_metrics[elem] = X[X[\"tag\"] == elem][\"basesalary\"].mean()\n",
    "        self.other_tag = X[\"basesalary\"].mean()\n",
    "        X.drop(\"basesalary\",axis=1,inplace=True)\n",
    "        return self\n",
    "    \n",
    "    def transform(self, X, y=None):\n",
    "        if self.insert:\n",
    "            X[\"tag_transformed\"] = X[\"tag\"].apply(lambda x: self.tag_metrics[x] if x in self.tag_metrics.keys() else self.other_tag)    \n",
    "            X = X.replace( [ np.inf, -np.inf ], np.nan )\n",
    "        X.drop(\"tag\",axis=1, inplace=True)\n",
    "        return X"
   ]
  },
  {
   "cell_type": "code",
   "execution_count": 90,
   "id": "4adcd1a0",
   "metadata": {},
   "outputs": [],
   "source": [
    "class TransformTitle(BaseEstimator, TransformerMixin):\n",
    "\n",
    "    def __init__(self, insert=True):\n",
    "        self.insert = insert\n",
    "        \n",
    "    def fit(self, X, y=None):\n",
    "        if y is None:\n",
    "            raise ValueError(\"y needs to be set to compute the values for each title\")\n",
    "        X[\"basesalary\"] = y\n",
    "        self.title_metrics = {}\n",
    "        titles = list(X[\"title\"].value_counts().index)\n",
    "        for elem in titles:\n",
    "            self.title_metrics[elem] = X[X[\"title\"] == elem][\"basesalary\"].mean()\n",
    "        self.other_title = X[\"basesalary\"].mean()\n",
    "        X.drop(\"basesalary\",axis=1,inplace=True)\n",
    "        return self\n",
    "    \n",
    "    def transform(self, X, y=None):\n",
    "        if self.insert:\n",
    "            X[\"title_transformed\"] = X[\"title\"].apply(lambda x: self.title_metrics[x] if x in self.title_metrics.keys() else self.other_title)    \n",
    "            X = X.replace( [ np.inf, -np.inf ], np.nan )\n",
    "        X.drop(\"title\",axis=1, inplace=True)\n",
    "        return X"
   ]
  },
  {
   "cell_type": "code",
   "execution_count": 91,
   "id": "66c2b484",
   "metadata": {},
   "outputs": [],
   "source": [
    "class TransformCompany(BaseEstimator, TransformerMixin):\n",
    "\n",
    "    def __init__(self, insert=True):\n",
    "        self.insert = insert\n",
    "        \n",
    "    def fit(self, X, y=None):\n",
    "        if y is None:\n",
    "            raise ValueError(\"y needs to be set to compute the values for each company\")\n",
    "        X[\"basesalary\"] = y\n",
    "        self.company_metrics = {}\n",
    "        companies = list(X[\"company\"].value_counts().index)\n",
    "        for elem in companies:\n",
    "            self.company_metrics[elem] = X[X[\"company\"] == elem][\"basesalary\"].mean()\n",
    "        self.other_company = X[\"basesalary\"].mean()\n",
    "        X.drop(\"basesalary\",axis=1,inplace=True)\n",
    "        return self\n",
    "    \n",
    "    def transform(self, X, y=None):\n",
    "        if self.insert:\n",
    "            X[\"company_transformed\"] = X[\"company\"].apply(lambda x: self.company_metrics[x] if x in self.company_metrics.keys() else self.other_company)\n",
    "            X = X.replace( [ np.inf, -np.inf ], np.nan )\n",
    "        X.drop(\"company\",axis=1, inplace=True)\n",
    "        return X"
   ]
  },
  {
   "cell_type": "markdown",
   "id": "43047613",
   "metadata": {},
   "source": [
    "<a id=\"model_selection\"></a>\n",
    "## Model selection\n",
    "[Back to main table of contents](#table_of_contents) <br/>\n",
    "### Table of contents\n",
    "1. [Knn](#knn)\n",
    "2. [Classic linear regression](#linreg)"
   ]
  },
  {
   "cell_type": "code",
   "execution_count": 92,
   "id": "f3a242a6",
   "metadata": {},
   "outputs": [],
   "source": [
    "# Split off the validation set so that we have a 60,20,20 split.\n",
    "train_df, val_df = train_test_split(dev_df, train_size=0.75, random_state=42069)\n",
    "\n",
    "# Extract the features but leave as a DataFrame\n",
    "train_X = train_df[features]\n",
    "train_y = train_df[\"basesalary\"].values\n",
    "val_X = val_df[features]\n",
    "val_y = val_df[\"basesalary\"].values"
   ]
  },
  {
   "cell_type": "markdown",
   "id": "a42df4b0",
   "metadata": {},
   "source": [
    "The preprocessor will one-hot encode the gender column and transform the company, title, tag and location column by using the mean base salary for each unique categorical value."
   ]
  },
  {
   "cell_type": "code",
   "execution_count": 93,
   "id": "77082358",
   "metadata": {},
   "outputs": [],
   "source": [
    "encoded_features = [\"gender\"]\n",
    "numerical_features = ['timestamp', 'company', 'title','location', 'yearsofexperience', 'yearsatcompany', 'tag']\n",
    "categorical_pipeline = Pipeline([(\"onehot\", OneHotEncoder(handle_unknown=\"ignore\"))])\n",
    "numerical_pipeline = Pipeline([(\"timestamp\", UseTimestamp()),\n",
    "                               (\"company\", TransformCompany()),\n",
    "                               (\"title\", TransformTitle()),\n",
    "                               (\"tag\", TransformTag()),\n",
    "                               (\"location\", TransformLocation()),\n",
    "                               (\"scaler\", StandardScaler())])\n",
    "preprocessor = ColumnTransformer([\n",
    "        (\"numerical\", numerical_pipeline, \n",
    "                     numerical_features),\n",
    "        (\"categorical\", categorical_pipeline, \n",
    "                     encoded_features)],\n",
    "        remainder=\"passthrough\")"
   ]
  },
  {
   "cell_type": "code",
   "execution_count": 94,
   "id": "a3086d5f",
   "metadata": {},
   "outputs": [],
   "source": [
    "# Create the object that shuffles and splits the dev data\n",
    "# Why 0.75? Because 0.75 of 80% of the data is 60% of the original dataset. And we want a 60, 20, 20 split\n",
    "ss = ShuffleSplit(n_splits=1, train_size=0.75, random_state=42069)"
   ]
  },
  {
   "cell_type": "markdown",
   "id": "1a468dc8",
   "metadata": {},
   "source": [
    "<a id=\"knn\"></a>\n",
    "### Model selection: Knn\n",
    "[Back to start of chapter](#model_selection)"
   ]
  },
  {
   "cell_type": "code",
   "execution_count": 95,
   "id": "8d1cfffd",
   "metadata": {},
   "outputs": [
    {
     "data": {
      "text/plain": [
       "({'predictor__n_neighbors': 70, 'predictor__weights': 'distance'},\n",
       " -42165.984929089085)"
      ]
     },
     "execution_count": 95,
     "metadata": {},
     "output_type": "execute_result"
    }
   ],
   "source": [
    "knn_model = Pipeline([\n",
    "    (\"preprocessor\", preprocessor),\n",
    "    (\"predictor\", KNeighborsRegressor())])\n",
    "# Values tried for n_neighbors: 1 to 10, 15, 20, 25, 30, 50, 60, 70\n",
    "param_grid = {\"predictor__n_neighbors\" : [50,60,70],\n",
    "              \"predictor__weights\" : [\"uniform\",\"distance\"]\n",
    "             }\n",
    "\n",
    "# Create the grid search object which will find the best hyperparameter values based on validation error\n",
    "gs = GridSearchCV(knn_model, param_grid, scoring=\"neg_mean_absolute_error\", cv=ss, refit=True)\n",
    "\n",
    "gs.fit(dev_X, dev_y)\n",
    "gs.best_params_, gs.best_score_"
   ]
  },
  {
   "cell_type": "markdown",
   "id": "4dc6961b",
   "metadata": {},
   "source": [
    "As we can see the model is off by quite a bit. Let's see if it overfits or underfits."
   ]
  },
  {
   "cell_type": "code",
   "execution_count": 96,
   "id": "8013299f",
   "metadata": {},
   "outputs": [],
   "source": [
    "knn_model.fit(train_X,train_y);"
   ]
  },
  {
   "cell_type": "code",
   "execution_count": 97,
   "id": "7dc11b86",
   "metadata": {
    "scrolled": true
   },
   "outputs": [
    {
     "name": "stdout",
     "output_type": "stream",
     "text": [
      "train error: 35903.93325046269\n",
      "validation error: 44730.297132913496\n"
     ]
    }
   ],
   "source": [
    "print(f\"train error: {mean_absolute_error(knn_model.predict(train_X),train_y)}\")\n",
    "print(f\"validation error: {mean_absolute_error(knn_model.predict(val_X),val_y)}\")"
   ]
  },
  {
   "cell_type": "markdown",
   "id": "79dd654b",
   "metadata": {},
   "source": [
    "The train error is significantly lower than the test error, however both are still very high (around 30-35% of the mean). So this model still tends to underfit."
   ]
  },
  {
   "cell_type": "markdown",
   "id": "16046eff",
   "metadata": {},
   "source": [
    "<a id=\"linreg\"></a>\n",
    "### Classic Linear Regression\n",
    "[Back to start of chapter](#model_selection) <br/>\n",
    "Let's see if a classic linear regression model is any better"
   ]
  },
  {
   "cell_type": "code",
   "execution_count": 98,
   "id": "cc505bd7",
   "metadata": {},
   "outputs": [
    {
     "data": {
      "text/plain": [
       "({'preprocessor__numerical__company__insert': True,\n",
       "  'preprocessor__numerical__location__insert': True,\n",
       "  'preprocessor__numerical__tag__insert': True,\n",
       "  'preprocessor__numerical__timestamp__insert': False,\n",
       "  'preprocessor__numerical__title__insert': True},\n",
       " -44349.672124627104)"
      ]
     },
     "execution_count": 98,
     "metadata": {},
     "output_type": "execute_result"
    }
   ],
   "source": [
    "linear_model = Pipeline([\n",
    "    (\"preprocessor\", preprocessor),\n",
    "    (\"predictor\", LinearRegression())])\n",
    "\n",
    "param_grid = {\"preprocessor__numerical__company__insert\" : [True, False],\n",
    "              \"preprocessor__numerical__timestamp__insert\" : [True, False],\n",
    "             \"preprocessor__numerical__tag__insert\" : [True, False],\n",
    "             \"preprocessor__numerical__location__insert\" : [True, False],\n",
    "             \"preprocessor__numerical__title__insert\" : [True, False]}\n",
    "\n",
    "# Create the grid search object which will find the best hyperparameter values based on validation error\n",
    "gs = GridSearchCV(knn_model, param_grid, scoring=\"neg_mean_absolute_error\", cv=ss, refit=True)\n",
    "\n",
    "gs.fit(dev_X, dev_y)\n",
    "gs.best_params_, gs.best_score_"
   ]
  },
  {
   "cell_type": "code",
   "execution_count": 99,
   "id": "2b7c7eb5",
   "metadata": {},
   "outputs": [],
   "source": [
    "linear_model.fit(train_X,train_y);"
   ]
  },
  {
   "cell_type": "code",
   "execution_count": 100,
   "id": "10181719",
   "metadata": {},
   "outputs": [
    {
     "name": "stdout",
     "output_type": "stream",
     "text": [
      "train error: 42166.55651270829\n",
      "validation error: 43206.74943372804\n"
     ]
    }
   ],
   "source": [
    "print(f\"train error: {mean_absolute_error(linear_model.predict(train_X),train_y)}\")\n",
    "print(f\"validation error: {mean_absolute_error(linear_model.predict(val_X),val_y)}\")"
   ]
  },
  {
   "cell_type": "code",
   "execution_count": 101,
   "id": "fefea119",
   "metadata": {},
   "outputs": [
    {
     "data": {
      "text/plain": [
       "141753.557562825"
      ]
     },
     "execution_count": 101,
     "metadata": {},
     "output_type": "execute_result"
    }
   ],
   "source": [
    "dev_df[\"basesalary\"].mean()"
   ]
  },
  {
   "cell_type": "markdown",
   "id": "620ae2da",
   "metadata": {},
   "source": [
    "As we can see the linear model underfits rather than it overfits because both the training error and the test error are pretty high (approximately 1/3 of the mean). Because linear regression underfits the data it does not make sense to use lasso or ridge regression because these are variations of regression which deal with overfitting."
   ]
  },
  {
   "cell_type": "markdown",
   "id": "0f2c7088",
   "metadata": {},
   "source": [
    "<a id=\"error_estimation\"></a>\n",
    "## Error estimation\n",
    "[Back to main table of contents](#table_of_contents)"
   ]
  },
  {
   "cell_type": "code",
   "execution_count": 102,
   "id": "b2e8224a",
   "metadata": {},
   "outputs": [],
   "source": [
    "knn_model.fit(dev_X,dev_y);"
   ]
  },
  {
   "cell_type": "code",
   "execution_count": 103,
   "id": "379e19b5",
   "metadata": {},
   "outputs": [
    {
     "data": {
      "text/plain": [
       "44999.803314550874"
      ]
     },
     "execution_count": 103,
     "metadata": {},
     "output_type": "execute_result"
    }
   ],
   "source": [
    "mean_absolute_error(knn_model.predict(test_X),test_y)"
   ]
  },
  {
   "cell_type": "markdown",
   "id": "b3115fb0",
   "metadata": {},
   "source": [
    "Whoa! That's a very high error. This is definitely a tricky dataset. Let's see how we perform against a baseline regressor"
   ]
  },
  {
   "cell_type": "code",
   "execution_count": 104,
   "id": "7da3e11a",
   "metadata": {},
   "outputs": [
    {
     "data": {
      "text/plain": [
       "54108.899444792994"
      ]
     },
     "execution_count": 104,
     "metadata": {},
     "output_type": "execute_result"
    }
   ],
   "source": [
    "dummy = DummyRegressor()\n",
    "dummy.fit(dev_X,dev_y)\n",
    "mean_absolute_error(dummy.predict(test_X),test_y)"
   ]
  },
  {
   "cell_type": "markdown",
   "id": "d19cc078",
   "metadata": {},
   "source": [
    "It is good to see that we have at least outperformed the dummy regressor even though the improvement is not as big as I expected it to be."
   ]
  }
 ],
 "metadata": {
  "kernelspec": {
   "display_name": "Python 3 (ipykernel)",
   "language": "python",
   "name": "python3"
  },
  "language_info": {
   "codemirror_mode": {
    "name": "ipython",
    "version": 3
   },
   "file_extension": ".py",
   "mimetype": "text/x-python",
   "name": "python",
   "nbconvert_exporter": "python",
   "pygments_lexer": "ipython3",
   "version": "3.10.0"
  },
  "vscode": {
   "interpreter": {
    "hash": "2a8dfe095fce2b5e88c64a2c3ee084c8e0e0d70b23e7b95b1cfb538be294c5c8"
   }
  }
 },
 "nbformat": 4,
 "nbformat_minor": 5
}
