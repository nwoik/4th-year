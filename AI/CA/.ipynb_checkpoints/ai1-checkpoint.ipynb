{
 "cells": [
  {
   "cell_type": "markdown",
   "metadata": {},
   "source": [
    "<h1>Artificial Intelligence Continous Assessment</h1>"
   ]
  },
  {
   "cell_type": "markdown",
   "metadata": {},
   "source": [
    "<h2>Goals</h2>\n",
    "<p>\n",
    "    To build a model to predict base salaries from crowd-sourced salary data<br>\n",
    "    \n",
    "</p>"
   ]
  },
  {
   "cell_type": "markdown",
   "metadata": {},
   "source": [
    "<h2>Imports</h2>"
   ]
  },
  {
   "cell_type": "code",
   "execution_count": 762,
   "metadata": {},
   "outputs": [],
   "source": [
    "import pandas as pd\n",
    "import numpy as np\n",
    "\n",
    "from seaborn import lmplot, stripplot\n",
    "\n",
    "from sklearn.model_selection import train_test_split\n",
    "from pandas.plotting import scatter_matrix\n",
    "\n",
    "from seaborn import scatterplot, heatmap\n",
    "\n",
    "from sklearn.compose import ColumnTransformer\n",
    "from sklearn.pipeline import Pipeline\n",
    "\n",
    "from sklearn.preprocessing import LabelEncoder\n",
    "from sklearn.preprocessing import StandardScaler\n",
    "from sklearn.preprocessing import OneHotEncoder\n",
    "from sklearn.preprocessing import StandardScaler\n",
    "from sklearn.preprocessing import MinMaxScaler\n",
    "from sklearn.preprocessing import RobustScaler\n",
    "\n",
    "from sklearn.model_selection import ShuffleSplit\n",
    "from sklearn.model_selection import cross_val_score\n",
    "from sklearn.model_selection import cross_validate\n",
    "from sklearn.model_selection import validation_curve\n",
    "from sklearn.model_selection import learning_curve\n",
    "from sklearn.metrics import mean_absolute_error\n",
    "\n",
    "from sklearn.base import BaseEstimator, TransformerMixin\n",
    "\n",
    "from sklearn.linear_model import Ridge\n",
    "from sklearn.linear_model import LinearRegression\n",
    "from sklearn.neighbors import KNeighborsRegressor\n",
    "\n",
    "from sklearn.model_selection import GridSearchCV\n",
    "\n",
    "from sklearn.metrics import accuracy_score\n"
   ]
  },
  {
   "cell_type": "markdown",
   "metadata": {},
   "source": [
    "<h2>Dataset Analysis (First look)</h2>"
   ]
  },
  {
   "cell_type": "code",
   "execution_count": 763,
   "metadata": {},
   "outputs": [],
   "source": [
    "# Reading the salaries dataset from csv\n",
    "df = pd.read_csv(\"data_salaries.csv\")\n",
    "\n",
    "# Shuffle dataset\n",
    "df = df.sample(frac=1, random_state=2)\n",
    "df.reset_index(drop=True, inplace=True)"
   ]
  },
  {
   "cell_type": "code",
   "execution_count": 764,
   "metadata": {},
   "outputs": [
    {
     "name": "stdout",
     "output_type": "stream",
     "text": [
      "<class 'pandas.core.frame.DataFrame'>\n",
      "RangeIndex: 62642 entries, 0 to 62641\n",
      "Data columns (total 17 columns):\n",
      " #   Column                   Non-Null Count  Dtype  \n",
      "---  ------                   --------------  -----  \n",
      " 0   timestamp                62642 non-null  object \n",
      " 1   company                  62637 non-null  object \n",
      " 2   level                    62527 non-null  object \n",
      " 3   title                    62642 non-null  object \n",
      " 4   totalyearlycompensation  62642 non-null  int64  \n",
      " 5   location                 62642 non-null  object \n",
      " 6   yearsofexperience        62642 non-null  int64  \n",
      " 7   yearsatcompany           62642 non-null  int64  \n",
      " 8   tag                      61788 non-null  object \n",
      " 9   basesalary               62642 non-null  int64  \n",
      " 10  stockgrantvalue          62642 non-null  int64  \n",
      " 11  bonus                    62642 non-null  int64  \n",
      " 12  gender                   43102 non-null  object \n",
      " 13  otherdetails             40139 non-null  object \n",
      " 14  cityid                   62642 non-null  int64  \n",
      " 15  dmaid                    62640 non-null  float64\n",
      " 16  rowNumber                62642 non-null  int64  \n",
      "dtypes: float64(1), int64(8), object(8)\n",
      "memory usage: 8.1+ MB\n"
     ]
    }
   ],
   "source": [
    "# Information about the dataset\n",
    "df.info()"
   ]
  },
  {
   "cell_type": "code",
   "execution_count": 765,
   "metadata": {},
   "outputs": [
    {
     "data": {
      "text/html": [
       "<div>\n",
       "<style scoped>\n",
       "    .dataframe tbody tr th:only-of-type {\n",
       "        vertical-align: middle;\n",
       "    }\n",
       "\n",
       "    .dataframe tbody tr th {\n",
       "        vertical-align: top;\n",
       "    }\n",
       "\n",
       "    .dataframe thead th {\n",
       "        text-align: right;\n",
       "    }\n",
       "</style>\n",
       "<table border=\"1\" class=\"dataframe\">\n",
       "  <thead>\n",
       "    <tr style=\"text-align: right;\">\n",
       "      <th></th>\n",
       "      <th>timestamp</th>\n",
       "      <th>company</th>\n",
       "      <th>level</th>\n",
       "      <th>title</th>\n",
       "      <th>totalyearlycompensation</th>\n",
       "      <th>location</th>\n",
       "      <th>yearsofexperience</th>\n",
       "      <th>yearsatcompany</th>\n",
       "      <th>tag</th>\n",
       "      <th>basesalary</th>\n",
       "      <th>stockgrantvalue</th>\n",
       "      <th>bonus</th>\n",
       "      <th>gender</th>\n",
       "      <th>otherdetails</th>\n",
       "      <th>cityid</th>\n",
       "      <th>dmaid</th>\n",
       "      <th>rowNumber</th>\n",
       "    </tr>\n",
       "  </thead>\n",
       "  <tbody>\n",
       "    <tr>\n",
       "      <th>count</th>\n",
       "      <td>62642</td>\n",
       "      <td>62637</td>\n",
       "      <td>62527</td>\n",
       "      <td>62642</td>\n",
       "      <td>6.264200e+04</td>\n",
       "      <td>62642</td>\n",
       "      <td>62642.000000</td>\n",
       "      <td>62642.000000</td>\n",
       "      <td>61788</td>\n",
       "      <td>6.264200e+04</td>\n",
       "      <td>6.264200e+04</td>\n",
       "      <td>62642.000000</td>\n",
       "      <td>43102</td>\n",
       "      <td>40139</td>\n",
       "      <td>62642.000000</td>\n",
       "      <td>62640.000000</td>\n",
       "      <td>62642.000000</td>\n",
       "    </tr>\n",
       "    <tr>\n",
       "      <th>unique</th>\n",
       "      <td>62561</td>\n",
       "      <td>1869</td>\n",
       "      <td>3071</td>\n",
       "      <td>15</td>\n",
       "      <td>NaN</td>\n",
       "      <td>1050</td>\n",
       "      <td>NaN</td>\n",
       "      <td>NaN</td>\n",
       "      <td>3271</td>\n",
       "      <td>NaN</td>\n",
       "      <td>NaN</td>\n",
       "      <td>NaN</td>\n",
       "      <td>4</td>\n",
       "      <td>40132</td>\n",
       "      <td>NaN</td>\n",
       "      <td>NaN</td>\n",
       "      <td>NaN</td>\n",
       "    </tr>\n",
       "    <tr>\n",
       "      <th>top</th>\n",
       "      <td>1/10/2019 21:44:02</td>\n",
       "      <td>Amazon</td>\n",
       "      <td>L4</td>\n",
       "      <td>Software Engineer</td>\n",
       "      <td>NaN</td>\n",
       "      <td>Seattle, WA</td>\n",
       "      <td>NaN</td>\n",
       "      <td>NaN</td>\n",
       "      <td>Full Stack</td>\n",
       "      <td>NaN</td>\n",
       "      <td>NaN</td>\n",
       "      <td>NaN</td>\n",
       "      <td>Male</td>\n",
       "      <td>twauesly</td>\n",
       "      <td>NaN</td>\n",
       "      <td>NaN</td>\n",
       "      <td>NaN</td>\n",
       "    </tr>\n",
       "    <tr>\n",
       "      <th>freq</th>\n",
       "      <td>3</td>\n",
       "      <td>8054</td>\n",
       "      <td>5008</td>\n",
       "      <td>41231</td>\n",
       "      <td>NaN</td>\n",
       "      <td>8701</td>\n",
       "      <td>NaN</td>\n",
       "      <td>NaN</td>\n",
       "      <td>11382</td>\n",
       "      <td>NaN</td>\n",
       "      <td>NaN</td>\n",
       "      <td>NaN</td>\n",
       "      <td>35702</td>\n",
       "      <td>2</td>\n",
       "      <td>NaN</td>\n",
       "      <td>NaN</td>\n",
       "      <td>NaN</td>\n",
       "    </tr>\n",
       "    <tr>\n",
       "      <th>mean</th>\n",
       "      <td>NaN</td>\n",
       "      <td>NaN</td>\n",
       "      <td>NaN</td>\n",
       "      <td>NaN</td>\n",
       "      <td>3.175327e+03</td>\n",
       "      <td>NaN</td>\n",
       "      <td>7.191054</td>\n",
       "      <td>2.700616</td>\n",
       "      <td>NaN</td>\n",
       "      <td>1.798145e+03</td>\n",
       "      <td>1.134865e+03</td>\n",
       "      <td>242.317199</td>\n",
       "      <td>NaN</td>\n",
       "      <td>NaN</td>\n",
       "      <td>9856.201989</td>\n",
       "      <td>616.097222</td>\n",
       "      <td>41694.723732</td>\n",
       "    </tr>\n",
       "    <tr>\n",
       "      <th>std</th>\n",
       "      <td>NaN</td>\n",
       "      <td>NaN</td>\n",
       "      <td>NaN</td>\n",
       "      <td>NaN</td>\n",
       "      <td>3.877877e+04</td>\n",
       "      <td>NaN</td>\n",
       "      <td>6.437148</td>\n",
       "      <td>3.524030</td>\n",
       "      <td>NaN</td>\n",
       "      <td>1.927194e+04</td>\n",
       "      <td>2.520611e+04</td>\n",
       "      <td>3709.187697</td>\n",
       "      <td>NaN</td>\n",
       "      <td>NaN</td>\n",
       "      <td>6679.104563</td>\n",
       "      <td>289.843390</td>\n",
       "      <td>24488.865879</td>\n",
       "    </tr>\n",
       "    <tr>\n",
       "      <th>min</th>\n",
       "      <td>NaN</td>\n",
       "      <td>NaN</td>\n",
       "      <td>NaN</td>\n",
       "      <td>NaN</td>\n",
       "      <td>0.000000e+00</td>\n",
       "      <td>NaN</td>\n",
       "      <td>0.000000</td>\n",
       "      <td>0.000000</td>\n",
       "      <td>NaN</td>\n",
       "      <td>0.000000e+00</td>\n",
       "      <td>0.000000e+00</td>\n",
       "      <td>0.000000</td>\n",
       "      <td>NaN</td>\n",
       "      <td>NaN</td>\n",
       "      <td>0.000000</td>\n",
       "      <td>0.000000</td>\n",
       "      <td>1.000000</td>\n",
       "    </tr>\n",
       "    <tr>\n",
       "      <th>25%</th>\n",
       "      <td>NaN</td>\n",
       "      <td>NaN</td>\n",
       "      <td>NaN</td>\n",
       "      <td>NaN</td>\n",
       "      <td>1.160000e+02</td>\n",
       "      <td>NaN</td>\n",
       "      <td>3.000000</td>\n",
       "      <td>0.000000</td>\n",
       "      <td>NaN</td>\n",
       "      <td>8.800000e+01</td>\n",
       "      <td>0.000000e+00</td>\n",
       "      <td>1.000000</td>\n",
       "      <td>NaN</td>\n",
       "      <td>NaN</td>\n",
       "      <td>7369.000000</td>\n",
       "      <td>506.000000</td>\n",
       "      <td>20069.250000</td>\n",
       "    </tr>\n",
       "    <tr>\n",
       "      <th>50%</th>\n",
       "      <td>NaN</td>\n",
       "      <td>NaN</td>\n",
       "      <td>NaN</td>\n",
       "      <td>NaN</td>\n",
       "      <td>1.830000e+02</td>\n",
       "      <td>NaN</td>\n",
       "      <td>6.000000</td>\n",
       "      <td>1.000000</td>\n",
       "      <td>NaN</td>\n",
       "      <td>1.310000e+02</td>\n",
       "      <td>2.300000e+01</td>\n",
       "      <td>13.000000</td>\n",
       "      <td>NaN</td>\n",
       "      <td>NaN</td>\n",
       "      <td>7839.000000</td>\n",
       "      <td>807.000000</td>\n",
       "      <td>42019.000000</td>\n",
       "    </tr>\n",
       "    <tr>\n",
       "      <th>75%</th>\n",
       "      <td>NaN</td>\n",
       "      <td>NaN</td>\n",
       "      <td>NaN</td>\n",
       "      <td>NaN</td>\n",
       "      <td>2.690000e+02</td>\n",
       "      <td>NaN</td>\n",
       "      <td>10.000000</td>\n",
       "      <td>4.000000</td>\n",
       "      <td>NaN</td>\n",
       "      <td>1.810000e+02</td>\n",
       "      <td>6.400000e+01</td>\n",
       "      <td>27.000000</td>\n",
       "      <td>NaN</td>\n",
       "      <td>NaN</td>\n",
       "      <td>11521.000000</td>\n",
       "      <td>807.000000</td>\n",
       "      <td>63021.750000</td>\n",
       "    </tr>\n",
       "    <tr>\n",
       "      <th>max</th>\n",
       "      <td>NaN</td>\n",
       "      <td>NaN</td>\n",
       "      <td>NaN</td>\n",
       "      <td>NaN</td>\n",
       "      <td>3.386013e+06</td>\n",
       "      <td>NaN</td>\n",
       "      <td>90.000000</td>\n",
       "      <td>90.000000</td>\n",
       "      <td>NaN</td>\n",
       "      <td>2.057772e+06</td>\n",
       "      <td>3.140803e+06</td>\n",
       "      <td>384026.000000</td>\n",
       "      <td>NaN</td>\n",
       "      <td>NaN</td>\n",
       "      <td>47926.000000</td>\n",
       "      <td>881.000000</td>\n",
       "      <td>83875.000000</td>\n",
       "    </tr>\n",
       "  </tbody>\n",
       "</table>\n",
       "</div>"
      ],
      "text/plain": [
       "                 timestamp company  level              title  \\\n",
       "count                62642   62637  62527              62642   \n",
       "unique               62561    1869   3071                 15   \n",
       "top     1/10/2019 21:44:02  Amazon     L4  Software Engineer   \n",
       "freq                     3    8054   5008              41231   \n",
       "mean                   NaN     NaN    NaN                NaN   \n",
       "std                    NaN     NaN    NaN                NaN   \n",
       "min                    NaN     NaN    NaN                NaN   \n",
       "25%                    NaN     NaN    NaN                NaN   \n",
       "50%                    NaN     NaN    NaN                NaN   \n",
       "75%                    NaN     NaN    NaN                NaN   \n",
       "max                    NaN     NaN    NaN                NaN   \n",
       "\n",
       "        totalyearlycompensation     location  yearsofexperience  \\\n",
       "count              6.264200e+04        62642       62642.000000   \n",
       "unique                      NaN         1050                NaN   \n",
       "top                         NaN  Seattle, WA                NaN   \n",
       "freq                        NaN         8701                NaN   \n",
       "mean               3.175327e+03          NaN           7.191054   \n",
       "std                3.877877e+04          NaN           6.437148   \n",
       "min                0.000000e+00          NaN           0.000000   \n",
       "25%                1.160000e+02          NaN           3.000000   \n",
       "50%                1.830000e+02          NaN           6.000000   \n",
       "75%                2.690000e+02          NaN          10.000000   \n",
       "max                3.386013e+06          NaN          90.000000   \n",
       "\n",
       "        yearsatcompany         tag    basesalary  stockgrantvalue  \\\n",
       "count     62642.000000       61788  6.264200e+04     6.264200e+04   \n",
       "unique             NaN        3271           NaN              NaN   \n",
       "top                NaN  Full Stack           NaN              NaN   \n",
       "freq               NaN       11382           NaN              NaN   \n",
       "mean          2.700616         NaN  1.798145e+03     1.134865e+03   \n",
       "std           3.524030         NaN  1.927194e+04     2.520611e+04   \n",
       "min           0.000000         NaN  0.000000e+00     0.000000e+00   \n",
       "25%           0.000000         NaN  8.800000e+01     0.000000e+00   \n",
       "50%           1.000000         NaN  1.310000e+02     2.300000e+01   \n",
       "75%           4.000000         NaN  1.810000e+02     6.400000e+01   \n",
       "max          90.000000         NaN  2.057772e+06     3.140803e+06   \n",
       "\n",
       "                bonus gender otherdetails        cityid         dmaid  \\\n",
       "count    62642.000000  43102        40139  62642.000000  62640.000000   \n",
       "unique            NaN      4        40132           NaN           NaN   \n",
       "top               NaN   Male     twauesly           NaN           NaN   \n",
       "freq              NaN  35702            2           NaN           NaN   \n",
       "mean       242.317199    NaN          NaN   9856.201989    616.097222   \n",
       "std       3709.187697    NaN          NaN   6679.104563    289.843390   \n",
       "min          0.000000    NaN          NaN      0.000000      0.000000   \n",
       "25%          1.000000    NaN          NaN   7369.000000    506.000000   \n",
       "50%         13.000000    NaN          NaN   7839.000000    807.000000   \n",
       "75%         27.000000    NaN          NaN  11521.000000    807.000000   \n",
       "max     384026.000000    NaN          NaN  47926.000000    881.000000   \n",
       "\n",
       "           rowNumber  \n",
       "count   62642.000000  \n",
       "unique           NaN  \n",
       "top              NaN  \n",
       "freq             NaN  \n",
       "mean    41694.723732  \n",
       "std     24488.865879  \n",
       "min         1.000000  \n",
       "25%     20069.250000  \n",
       "50%     42019.000000  \n",
       "75%     63021.750000  \n",
       "max     83875.000000  "
      ]
     },
     "execution_count": 765,
     "metadata": {},
     "output_type": "execute_result"
    }
   ],
   "source": [
    "# Summary of stats\n",
    "df.describe(include=\"all\")"
   ]
  },
  {
   "cell_type": "code",
   "execution_count": 766,
   "metadata": {},
   "outputs": [
    {
     "data": {
      "text/html": [
       "<div>\n",
       "<style scoped>\n",
       "    .dataframe tbody tr th:only-of-type {\n",
       "        vertical-align: middle;\n",
       "    }\n",
       "\n",
       "    .dataframe tbody tr th {\n",
       "        vertical-align: top;\n",
       "    }\n",
       "\n",
       "    .dataframe thead th {\n",
       "        text-align: right;\n",
       "    }\n",
       "</style>\n",
       "<table border=\"1\" class=\"dataframe\">\n",
       "  <thead>\n",
       "    <tr style=\"text-align: right;\">\n",
       "      <th></th>\n",
       "      <th>timestamp</th>\n",
       "      <th>company</th>\n",
       "      <th>level</th>\n",
       "      <th>title</th>\n",
       "      <th>totalyearlycompensation</th>\n",
       "      <th>location</th>\n",
       "      <th>yearsofexperience</th>\n",
       "      <th>yearsatcompany</th>\n",
       "      <th>tag</th>\n",
       "      <th>basesalary</th>\n",
       "      <th>stockgrantvalue</th>\n",
       "      <th>bonus</th>\n",
       "      <th>gender</th>\n",
       "      <th>otherdetails</th>\n",
       "      <th>cityid</th>\n",
       "      <th>dmaid</th>\n",
       "      <th>rowNumber</th>\n",
       "    </tr>\n",
       "  </thead>\n",
       "  <tbody>\n",
       "    <tr>\n",
       "      <th>0</th>\n",
       "      <td>11/3/2020 10:26:30</td>\n",
       "      <td>Microsoft</td>\n",
       "      <td>60</td>\n",
       "      <td>Data Scientist</td>\n",
       "      <td>181</td>\n",
       "      <td>Redmond, WA</td>\n",
       "      <td>1</td>\n",
       "      <td>1</td>\n",
       "      <td>ML / AI</td>\n",
       "      <td>104</td>\n",
       "      <td>47</td>\n",
       "      <td>30</td>\n",
       "      <td>Male</td>\n",
       "      <td>mckeiaps hash ghaart gronds wuit zearts tsiott...</td>\n",
       "      <td>11521</td>\n",
       "      <td>819.0</td>\n",
       "      <td>47529</td>\n",
       "    </tr>\n",
       "    <tr>\n",
       "      <th>1</th>\n",
       "      <td>8/14/2018 21:08:29</td>\n",
       "      <td>VMware</td>\n",
       "      <td>Senior MTS</td>\n",
       "      <td>Software Engineer</td>\n",
       "      <td>0</td>\n",
       "      <td>Palo Alto, CA</td>\n",
       "      <td>5</td>\n",
       "      <td>3</td>\n",
       "      <td>Full Stack</td>\n",
       "      <td>0</td>\n",
       "      <td>0</td>\n",
       "      <td>0</td>\n",
       "      <td>NaN</td>\n",
       "      <td>NaN</td>\n",
       "      <td>7351</td>\n",
       "      <td>807.0</td>\n",
       "      <td>1418</td>\n",
       "    </tr>\n",
       "    <tr>\n",
       "      <th>2</th>\n",
       "      <td>5/18/2019 0:32:17</td>\n",
       "      <td>Paypal</td>\n",
       "      <td>T25</td>\n",
       "      <td>Software Engineer</td>\n",
       "      <td>213</td>\n",
       "      <td>San Francisco, CA</td>\n",
       "      <td>7</td>\n",
       "      <td>1</td>\n",
       "      <td>API Development (Back-End)</td>\n",
       "      <td>180</td>\n",
       "      <td>19</td>\n",
       "      <td>14</td>\n",
       "      <td>Male</td>\n",
       "      <td>NaN</td>\n",
       "      <td>7419</td>\n",
       "      <td>807.0</td>\n",
       "      <td>8815</td>\n",
       "    </tr>\n",
       "    <tr>\n",
       "      <th>3</th>\n",
       "      <td>8/3/2021 20:25:07</td>\n",
       "      <td>Trend Micro</td>\n",
       "      <td>Senior Engineer</td>\n",
       "      <td>Software Engineer</td>\n",
       "      <td>18</td>\n",
       "      <td>Taipei, TP, Taiwan</td>\n",
       "      <td>2</td>\n",
       "      <td>2</td>\n",
       "      <td>Distributed Systems (Back-End)</td>\n",
       "      <td>14</td>\n",
       "      <td>1</td>\n",
       "      <td>3</td>\n",
       "      <td>Male</td>\n",
       "      <td>mcclieusp hyoully preebly gloiands screoch sch...</td>\n",
       "      <td>6744</td>\n",
       "      <td>0.0</td>\n",
       "      <td>81297</td>\n",
       "    </tr>\n",
       "    <tr>\n",
       "      <th>4</th>\n",
       "      <td>5/3/2021 15:25:42</td>\n",
       "      <td>Visa</td>\n",
       "      <td>Senior Software Engineer</td>\n",
       "      <td>Software Engineer</td>\n",
       "      <td>179</td>\n",
       "      <td>Austin, TX</td>\n",
       "      <td>3</td>\n",
       "      <td>0</td>\n",
       "      <td>Full Stack</td>\n",
       "      <td>158</td>\n",
       "      <td>9</td>\n",
       "      <td>12</td>\n",
       "      <td>Female</td>\n",
       "      <td>dyniawn cauny spliur cleals crungs kwoiw thrai...</td>\n",
       "      <td>10965</td>\n",
       "      <td>635.0</td>\n",
       "      <td>68303</td>\n",
       "    </tr>\n",
       "  </tbody>\n",
       "</table>\n",
       "</div>"
      ],
      "text/plain": [
       "            timestamp      company                     level  \\\n",
       "0  11/3/2020 10:26:30    Microsoft                        60   \n",
       "1  8/14/2018 21:08:29       VMware                Senior MTS   \n",
       "2   5/18/2019 0:32:17       Paypal                       T25   \n",
       "3   8/3/2021 20:25:07  Trend Micro           Senior Engineer   \n",
       "4   5/3/2021 15:25:42         Visa  Senior Software Engineer   \n",
       "\n",
       "               title  totalyearlycompensation            location  \\\n",
       "0     Data Scientist                      181         Redmond, WA   \n",
       "1  Software Engineer                        0       Palo Alto, CA   \n",
       "2  Software Engineer                      213   San Francisco, CA   \n",
       "3  Software Engineer                       18  Taipei, TP, Taiwan   \n",
       "4  Software Engineer                      179          Austin, TX   \n",
       "\n",
       "   yearsofexperience  yearsatcompany                             tag  \\\n",
       "0                  1               1                         ML / AI   \n",
       "1                  5               3                      Full Stack   \n",
       "2                  7               1      API Development (Back-End)   \n",
       "3                  2               2  Distributed Systems (Back-End)   \n",
       "4                  3               0                      Full Stack   \n",
       "\n",
       "   basesalary  stockgrantvalue  bonus  gender  \\\n",
       "0         104               47     30    Male   \n",
       "1           0                0      0     NaN   \n",
       "2         180               19     14    Male   \n",
       "3          14                1      3    Male   \n",
       "4         158                9     12  Female   \n",
       "\n",
       "                                        otherdetails  cityid  dmaid  rowNumber  \n",
       "0  mckeiaps hash ghaart gronds wuit zearts tsiott...   11521  819.0      47529  \n",
       "1                                                NaN    7351  807.0       1418  \n",
       "2                                                NaN    7419  807.0       8815  \n",
       "3  mcclieusp hyoully preebly gloiands screoch sch...    6744    0.0      81297  \n",
       "4  dyniawn cauny spliur cleals crungs kwoiw thrai...   10965  635.0      68303  "
      ]
     },
     "execution_count": 766,
     "metadata": {},
     "output_type": "execute_result"
    }
   ],
   "source": [
    "df.head()"
   ]
  },
  {
   "cell_type": "code",
   "execution_count": 767,
   "metadata": {},
   "outputs": [
    {
     "data": {
      "text/plain": [
       "Male                               35702\n",
       "Female                              6999\n",
       "Other                                400\n",
       "Title: Senior Software Engineer        1\n",
       "Name: gender, dtype: int64"
      ]
     },
     "execution_count": 767,
     "metadata": {},
     "output_type": "execute_result"
    }
   ],
   "source": [
    "df[\"gender\"].value_counts() "
   ]
  },
  {
   "cell_type": "code",
   "execution_count": 768,
   "metadata": {},
   "outputs": [
    {
     "data": {
      "text/plain": [
       "(2304, 17)"
      ]
     },
     "execution_count": 768,
     "metadata": {},
     "output_type": "execute_result"
    }
   ],
   "source": [
    "df[df[\"basesalary\"] == 0].shape"
   ]
  },
  {
   "cell_type": "code",
   "execution_count": 769,
   "metadata": {},
   "outputs": [
    {
     "data": {
      "text/plain": [
       "array(['mckeiaps hash ghaart gronds wuit zearts tsiotts twearts schriam',\n",
       "       nan,\n",
       "       'mcclieusp hyoully preebly gloiands screoch schaionds hydriaof raiarth grems juency schrioss spluig schiiv draiark',\n",
       "       ..., 'mcdoady',\n",
       "       'viaorry pfaiasm mcclims roind tueght smeingly schmidy kniuys tribly symbiiry niunn typaueds hoov',\n",
       "       'mccriist sreeng mcniov wify cloias dousch twaabs schioutch rauehl mckiaors szaiads saiosly sauh gniaol threiasts'],\n",
       "      dtype=object)"
      ]
     },
     "execution_count": 769,
     "metadata": {},
     "output_type": "execute_result"
    }
   ],
   "source": [
    "df[\"otherdetails\"].unique()"
   ]
  },
  {
   "cell_type": "code",
   "execution_count": 770,
   "metadata": {},
   "outputs": [
    {
     "data": {
      "text/plain": [
       "Seattle, WA                      8701\n",
       "San Francisco, CA                6797\n",
       "New York, NY                     4562\n",
       "Redmond, WA                      2649\n",
       "Mountain View, CA                2275\n",
       "                                 ... \n",
       "Redmond, UT                         1\n",
       "Reedsville, PA                      1\n",
       "Guildford, EN, United Kingdom       1\n",
       "Annapolis, MD                       1\n",
       "Pasir Ris, SG, Singapore            1\n",
       "Name: location, Length: 1050, dtype: int64"
      ]
     },
     "execution_count": 770,
     "metadata": {},
     "output_type": "execute_result"
    }
   ],
   "source": [
    "df[\"location\"].value_counts()"
   ]
  },
  {
   "cell_type": "markdown",
   "metadata": {},
   "source": [
    "<h3>Initial Observations</h3>\n",
    "<p>\n",
    "    There are 62642 entries in the dataset. <br>\n",
    "    <b>Timestamp: </b>Timestamps has 62561 unique values that are nominal.<br>\n",
    "    <b>Level: </b>Out of 3071 levels of education, L4 is the overwhelming majority.<br>\n",
    "    <b>Title: </b>There are only 15 different occupations. Majority of entries are Software Engineers making up 66% of the total.<br>\n",
    "    <b>Company: </b>There are 1869 companies. Amazon hires the most amount of employees, 8054. All the companies seem to be legitimate<br>\n",
    "    <b>Location: </b>There are 8701 workers that live in Seattle. Amazon is possibly the main contributor to this given their headquarters is located there.<br>\n",
    "    <b>Tag: </b>Out of 3271 tags, Full Stack is the overwhelming majority.<br>\n",
    "    <b>Gender: </b>4 unique values for gender. Besides, male, female, other and NaN, there's a \"Title: Senior Software Engineer\" stuck in there.<br>\n",
    "    <b>Other Details: </b>All the details blocks either contain jibberish or are completely empty<br>\n",
    "    <br>\n",
    "    <b>Base Salary: </b>There are 2304 entries with the minimum value 0. Possibly an error<br>\n",
    "</p>\n",
    "\n"
   ]
  },
  {
   "cell_type": "markdown",
   "metadata": {},
   "source": [
    "<h2>Splitting the Dataset into Test and Training</h2>"
   ]
  },
  {
   "cell_type": "code",
   "execution_count": 771,
   "metadata": {},
   "outputs": [],
   "source": [
    "# 20% of the dataset is used for testing\n",
    "dev_df, test_df = train_test_split(df, train_size=0.8, random_state=2)"
   ]
  },
  {
   "cell_type": "markdown",
   "metadata": {},
   "source": [
    "<h2>Data Cleaning</h2>"
   ]
  },
  {
   "cell_type": "code",
   "execution_count": 772,
   "metadata": {},
   "outputs": [
    {
     "data": {
      "text/plain": [
       "(48281, 17)"
      ]
     },
     "execution_count": 772,
     "metadata": {},
     "output_type": "execute_result"
    }
   ],
   "source": [
    "# # Drop only basesalaries below 30\n",
    "# df.drop(df[df['basesalary'] < 30].index, inplace = True)\n",
    "# df.shape\n",
    "\n",
    "# I plan on multiplying all the values under 500 by 1000. I think it's implausible that anyone can be paid under 30,000 dollars.\n",
    "# I believe the trade off of removing 3831 entries to save time cleaning is worth it. Hopefully the bulk of the entries removed are messy.\n",
    "\n",
    "# # Drop only basesalaries of 0\n",
    "dev_df.drop(dev_df[dev_df['basesalary'] == 0].index, inplace = True)\n",
    "dev_df.shape"
   ]
  },
  {
   "cell_type": "markdown",
   "metadata": {},
   "source": [
    "<p>\n",
    "Originally I planned on dropping all entries under 30 and multiplying all under 1000 by 1000.<br>\n",
    "Then I realised if I was multiplying all below a 1000 by 1000 and there's no zero values, my new minimum would be 1000.<br>\n",
    "This method lets me trim the fat and keep as many entries as I possibly can.\n",
    "</p>"
   ]
  },
  {
   "cell_type": "code",
   "execution_count": 773,
   "metadata": {},
   "outputs": [
    {
     "data": {
      "text/plain": [
       "Male      27950\n",
       "Female     5447\n",
       "Other       304\n",
       "Name: gender, dtype: int64"
      ]
     },
     "execution_count": 773,
     "metadata": {},
     "output_type": "execute_result"
    }
   ],
   "source": [
    "# Removing the odd gender value\n",
    "dev_df.drop(dev_df[dev_df[\"gender\"] == \"Title: Senior Software Engineer\"].index, inplace=True)\n",
    "dev_df[\"gender\"].value_counts()"
   ]
  },
  {
   "cell_type": "markdown",
   "metadata": {},
   "source": [
    "<p>\n",
    "\"Title: Senior Software Engineer\" is most likely an error than a gender. If it was a gender, it would categorized under \"other\"\n",
    "</p>"
   ]
  },
  {
   "cell_type": "code",
   "execution_count": 774,
   "metadata": {},
   "outputs": [],
   "source": [
    "del dev_df[\"timestamp\"]\n",
    "del dev_df[\"bonus\"]\n",
    "del dev_df[\"stockgrantvalue\"]\n",
    "del dev_df[\"gender\"]\n",
    "del dev_df[\"otherdetails\"]\n",
    "del dev_df[\"rowNumber\"]\n",
    "del dev_df[\"cityid\"]\n",
    "del dev_df[\"dmaid\"]\n",
    "del dev_df[\"totalyearlycompensation\"]\n",
    "del dev_df[\"yearsatcompany\"]\n",
    "features = [\"yearsofexperience\"]"
   ]
  },
  {
   "cell_type": "markdown",
   "metadata": {},
   "source": [
    "<h3>Features I'm Removing</h3>\n",
    "<p>\n",
    "    <b>Timestamp & Row Number: </b>Given that the goal is to predict the base salaries, this column is unrelated. These values are also unique which will make for a very high corelation.<br>\n",
    "    <b>Other Details, City ID & DMA ID: </b>Not related to the target value<br>\n",
    "    <b>Stock Grant Value, Years at company & Bonuses: </b>Both of these columns aren't needed for predicting how much someone should be paid when they start a job. They're more for how much they should be paid in the future.<br>\n",
    "    <b>Gender: </b>By law men and women get paid equally, so it makes no difference<br>\n",
    "</p>"
   ]
  },
  {
   "cell_type": "code",
   "execution_count": 775,
   "metadata": {},
   "outputs": [],
   "source": [
    "dev_df.dropna(subset=[\"yearsofexperience\", \"basesalary\"], inplace=True)"
   ]
  },
  {
   "cell_type": "markdown",
   "metadata": {},
   "source": [
    "<h2>Data Exploration</h2>"
   ]
  },
  {
   "cell_type": "code",
   "execution_count": 776,
   "metadata": {},
   "outputs": [],
   "source": [
    "copy_df = dev_df.copy()"
   ]
  },
  {
   "cell_type": "code",
   "execution_count": 777,
   "metadata": {},
   "outputs": [
    {
     "data": {
      "image/png": "[encoded data removed]",
      "text/plain": [
       "<Figure size 504x504 with 4 Axes>"
      ]
     },
     "metadata": {
      "needs_background": "light"
     },
     "output_type": "display_data"
    }
   ],
   "source": [
    "plot = scatter_matrix(copy_df, figsize=(7,7))"
   ]
  },
  {
   "cell_type": "code",
   "execution_count": 778,
   "metadata": {},
   "outputs": [
    {
     "name": "stderr",
     "output_type": "stream",
     "text": [
      "<ipython-input-778-5d2213b5ee60>:1: FutureWarning: The default value of numeric_only in DataFrame.corr is deprecated. In a future version, it will default to False. Select only valid columns or specify the value of numeric_only to silence this warning.\n",
      "  heatmap(copy_df.corr(), annot=True)\n"
     ]
    },
    {
     "data": {
      "text/plain": [
       "<AxesSubplot: >"
      ]
     },
     "execution_count": 778,
     "metadata": {},
     "output_type": "execute_result"
    },
    {
     "data": {
      "image/png": "[encoded data removed]",
      "text/plain": [
       "<Figure size 432x288 with 2 Axes>"
      ]
     },
     "metadata": {
      "needs_background": "light"
     },
     "output_type": "display_data"
    }
   ],
   "source": [
    "heatmap(copy_df.corr(), annot=True)"
   ]
  },
  {
   "cell_type": "markdown",
   "metadata": {},
   "source": [
    "<p>\n",
    "    Years of experience and base salary have very little corelation. This is because of the large disparity and in values. The highest base salary is over 2 million and the lowest is 1.<br>\n",
    "    There are a handful of outliers in the graph<br>\n",
    "    There's an entry with 5 years of experience and earns over 2 million a year<br>\n",
    "    An entry also has almost 90 years of experience and earns just under 20k<br>\n",
    "    Some feature engineering will have to be done.\n",
    "</p>"
   ]
  },
  {
   "cell_type": "markdown",
   "metadata": {},
   "source": [
    "<h3>Feature Engineering</h3>"
   ]
  },
  {
   "cell_type": "code",
   "execution_count": 779,
   "metadata": {},
   "outputs": [],
   "source": [
    "copy_df.loc[copy_df[\"basesalary\"] <= 1000, 'basesalary'] *= 1000"
   ]
  },
  {
   "cell_type": "markdown",
   "metadata": {},
   "source": [
    "<p>\n",
    "    The data looks a lot more plausable after multiplying all the salaries below 1000 by 1000.<br>\n",
    "    Eventhough the correlation is still very low it's up 4166%, which is a big change.<br>\n",
    "    <br>\n",
    "    There are a handful of outliers in the graph<br>\n",
    "    There's an entry with 5 years of experience and earns over 2 million a year <br>\n",
    "    An entry also has almost 90 years of experience and earns just under 20k<br>\n",
    "</p>"
   ]
  },
  {
   "cell_type": "markdown",
   "metadata": {},
   "source": [
    "<h3>More Cleaning</h3>"
   ]
  },
  {
   "cell_type": "code",
   "execution_count": 780,
   "metadata": {
    "scrolled": true
   },
   "outputs": [
    {
     "data": {
      "text/plain": [
       "(48278, 7)"
      ]
     },
     "execution_count": 780,
     "metadata": {},
     "output_type": "execute_result"
    }
   ],
   "source": [
    "# drops anyone who makes over a million with under 20 years of experience\n",
    "copy_df.drop((copy_df[(copy_df[\"basesalary\"] > 1000000) & (copy_df[\"yearsofexperience\"] < 20)]).index, inplace = True)\n",
    "copy_df.shape"
   ]
  },
  {
   "cell_type": "markdown",
   "metadata": {},
   "source": [
    "<p>\n",
    "    It's rare to have someone working for less than 20 years earn over 1 million. <br>\n",
    "    \n",
    "</p>"
   ]
  },
  {
   "cell_type": "code",
   "execution_count": 781,
   "metadata": {},
   "outputs": [
    {
     "data": {
      "text/plain": [
       "(48243, 7)"
      ]
     },
     "execution_count": 781,
     "metadata": {},
     "output_type": "execute_result"
    }
   ],
   "source": [
    "# drops anyone who's worked over 40 years\n",
    "copy_df.drop(copy_df[copy_df[\"yearsofexperience\"] > 40].index, inplace = True)\n",
    "copy_df.shape"
   ]
  },
  {
   "cell_type": "markdown",
   "metadata": {},
   "source": [
    "<p>\n",
    "    Given that most people start their careers in their early to mid 20s, 40 years seems like the standard amount of years a career would last.\n",
    "</p>"
   ]
  },
  {
   "cell_type": "code",
   "execution_count": 782,
   "metadata": {},
   "outputs": [
    {
     "data": {
      "text/plain": [
       "(48230, 7)"
      ]
     },
     "execution_count": 782,
     "metadata": {},
     "output_type": "execute_result"
    }
   ],
   "source": [
    "# drops anyone who makes under 90k with over 30 years of experience\n",
    "copy_df.drop((copy_df[(copy_df[\"basesalary\"] < 90000) & (copy_df[\"yearsofexperience\"] > 30)]).index, inplace = True)\n",
    "copy_df.shape"
   ]
  },
  {
   "cell_type": "markdown",
   "metadata": {},
   "source": [
    "<p>\n",
    "    According to the Irish Average Salary survey of 2022, the average after 20+ years of experience is +90k.<br>\n",
    "    Being generous I made it 30 years instead.\n",
    "</p>"
   ]
  },
  {
   "cell_type": "code",
   "execution_count": 783,
   "metadata": {},
   "outputs": [
    {
     "data": {
      "image/png": "[encoded data removed]",
      "text/plain": [
       "<Figure size 504x504 with 4 Axes>"
      ]
     },
     "metadata": {
      "needs_background": "light"
     },
     "output_type": "display_data"
    }
   ],
   "source": [
    "plot = scatter_matrix(copy_df, figsize=(7,7))"
   ]
  },
  {
   "cell_type": "code",
   "execution_count": 784,
   "metadata": {
    "scrolled": true
   },
   "outputs": [
    {
     "name": "stderr",
     "output_type": "stream",
     "text": [
      "<ipython-input-784-5d2213b5ee60>:1: FutureWarning: The default value of numeric_only in DataFrame.corr is deprecated. In a future version, it will default to False. Select only valid columns or specify the value of numeric_only to silence this warning.\n",
      "  heatmap(copy_df.corr(), annot=True)\n"
     ]
    },
    {
     "data": {
      "text/plain": [
       "<AxesSubplot: >"
      ]
     },
     "execution_count": 784,
     "metadata": {},
     "output_type": "execute_result"
    },
    {
     "data": {
      "image/png": "[encoded data removed]",
      "text/plain": [
       "<Figure size 432x288 with 2 Axes>"
      ]
     },
     "metadata": {
      "needs_background": "light"
     },
     "output_type": "display_data"
    }
   ],
   "source": [
    "heatmap(copy_df.corr(), annot=True)"
   ]
  },
  {
   "cell_type": "markdown",
   "metadata": {},
   "source": [
    "<p>\n",
    "    The data looks a lot more plausable after multiplying all the salaries below 1000 by 1000.<br>\n",
    "    Eventhough the correlation is still very low it's up 4166%, which is a big change.<br>\n",
    "</p>"
   ]
  },
  {
   "cell_type": "markdown",
   "metadata": {},
   "source": [
    "<h2>Model Selection</h2>"
   ]
  },
  {
   "cell_type": "code",
   "execution_count": 785,
   "metadata": {},
   "outputs": [],
   "source": [
    "preprocessor = ColumnTransformer([\n",
    "        (\"scaler\", StandardScaler(), features)], \n",
    "        remainder=\"passthrough\")"
   ]
  },
  {
   "cell_type": "code",
   "execution_count": 786,
   "metadata": {},
   "outputs": [],
   "source": [
    "features = [\"yearsofexperience\"]\n",
    "\n",
    "# Extract the features but leave as a DataFrame\n",
    "dev_X = copy_df[features]\n",
    "test_X = test_df[features]\n",
    "\n",
    "# Target values, converted to a 1D numpy array\n",
    "dev_y = copy_df[\"basesalary\"].values\n",
    "test_y = test_df[\"basesalary\"].values"
   ]
  },
  {
   "cell_type": "code",
   "execution_count": 787,
   "metadata": {},
   "outputs": [
    {
     "name": "stdout",
     "output_type": "stream",
     "text": [
      "Training error:  52149.934845890195\n",
      "Validation error:  52137.0315502108\n"
     ]
    }
   ],
   "source": [
    "knn_model = Pipeline([\n",
    "    (\"preprocessor\", preprocessor),\n",
    "    (\"predictor\", KNeighborsRegressor(n_neighbors=9))])\n",
    "\n",
    "scores = cross_validate(knn_model, dev_X, dev_y, cv=10, scoring=\"neg_mean_absolute_error\", return_train_score=True)\n",
    "print(\"Training error: \", np.mean(np.abs(scores[\"train_score\"])))\n",
    "print(\"Validation error: \", np.mean(np.abs(scores[\"test_score\"])))"
   ]
  },
  {
   "cell_type": "markdown",
   "metadata": {},
   "source": [
    "<h2>Testing</h2>"
   ]
  },
  {
   "cell_type": "code",
   "execution_count": 788,
   "metadata": {
    "scrolled": true
   },
   "outputs": [
    {
     "data": {
      "text/plain": [
       "133052.71728700525"
      ]
     },
     "execution_count": 788,
     "metadata": {},
     "output_type": "execute_result"
    }
   ],
   "source": [
    "knn_model.fit(dev_X, dev_y)\n",
    "\n",
    "# Error estimation on the test set.\n",
    "mean_absolute_error(test_y, knn_model.predict(test_X))"
   ]
  },
  {
   "cell_type": "markdown",
   "metadata": {},
   "source": [
    "<h2>Thoughts So Far</h2>\n",
    "<p>\n",
    "    Something has gone <b>VERY</b> wrong.\n",
    "    I went with a solution that is too complex. The fact that my training and validation errors are this high means it's clearly underfitting.<br>\n",
    "    Maybe a smaller, more focused dataset could remedy the problem.<br>\n",
    "    Most of the values in the set are the ones that I engineered.<br>\n",
    "    Maybe removing them instead of keeping them could make things better<br>\n",
    "</p>"
   ]
  },
  {
   "cell_type": "markdown",
   "metadata": {},
   "source": [
    "<h1>Second more simple approach</h1>"
   ]
  },
  {
   "cell_type": "code",
   "execution_count": 789,
   "metadata": {},
   "outputs": [
    {
     "data": {
      "image/png": "[encoded data removed]",
      "text/plain": [
       "<Figure size 504x504 with 4 Axes>"
      ]
     },
     "metadata": {
      "needs_background": "light"
     },
     "output_type": "display_data"
    }
   ],
   "source": [
    "copy_df = dev_df.copy()\n",
    "plot = scatter_matrix(copy_df, figsize=(7,7))"
   ]
  },
  {
   "cell_type": "markdown",
   "metadata": {},
   "source": [
    "<h2>Observation</h2>\n",
    "<p>\n",
    "    Just from looking at the years of experience and basesalary, without all the fluff at the bottom, it has a pretty high correlation. I'm going to cut off all those values.\n",
    "</p>"
   ]
  },
  {
   "cell_type": "code",
   "execution_count": 790,
   "metadata": {},
   "outputs": [
    {
     "data": {
      "text/plain": [
       "(537, 7)"
      ]
     },
     "execution_count": 790,
     "metadata": {},
     "output_type": "execute_result"
    }
   ],
   "source": [
    "copy_df.drop(copy_df[copy_df[\"basesalary\"] < 10000].index, inplace=True)\n",
    "\n",
    "# cleanup from previous steps with some tweaks\n",
    "copy_df.drop(copy_df[copy_df[\"yearsofexperience\"] > 40].index, inplace = True)\n",
    "copy_df.drop((copy_df[(copy_df[\"basesalary\"] < 90000) & (copy_df[\"yearsofexperience\"] > 30)]).index, inplace = True)\n",
    "copy_df.drop((copy_df[(copy_df[\"basesalary\"] > 500000) & (copy_df[\"yearsofexperience\"] < 20)]).index, inplace = True)\n",
    "\n",
    "copy_df.dropna(subset=[\"yearsofexperience\", \"basesalary\"], inplace=True)\n",
    "copy_df.shape"
   ]
  },
  {
   "cell_type": "markdown",
   "metadata": {},
   "source": [
    "<p>\n",
    "    Data set is significantly smaller.<br>\n",
    "    Due to deadline constraints and notebook performance time I feel this is necessary<br>\n",
    "    Tweaks were made to keep the entries more focused<br>\n",
    "    Base salary max cutoff was dropped to 500k<br>\n",
    "</p>"
   ]
  },
  {
   "cell_type": "code",
   "execution_count": 791,
   "metadata": {},
   "outputs": [
    {
     "data": {
      "image/png": "[encoded data removed]",
      "text/plain": [
       "<Figure size 504x504 with 4 Axes>"
      ]
     },
     "metadata": {
      "needs_background": "light"
     },
     "output_type": "display_data"
    }
   ],
   "source": [
    "plot = scatter_matrix(copy_df, figsize=(7,7))"
   ]
  },
  {
   "cell_type": "code",
   "execution_count": 792,
   "metadata": {},
   "outputs": [
    {
     "name": "stderr",
     "output_type": "stream",
     "text": [
      "<ipython-input-792-5d2213b5ee60>:1: FutureWarning: The default value of numeric_only in DataFrame.corr is deprecated. In a future version, it will default to False. Select only valid columns or specify the value of numeric_only to silence this warning.\n",
      "  heatmap(copy_df.corr(), annot=True)\n"
     ]
    },
    {
     "data": {
      "text/plain": [
       "<AxesSubplot: >"
      ]
     },
     "execution_count": 792,
     "metadata": {},
     "output_type": "execute_result"
    },
    {
     "data": {
      "image/png": "[encoded data removed]",
      "text/plain": [
       "<Figure size 432x288 with 2 Axes>"
      ]
     },
     "metadata": {
      "needs_background": "light"
     },
     "output_type": "display_data"
    }
   ],
   "source": [
    "heatmap(copy_df.corr(), annot=True)"
   ]
  },
  {
   "cell_type": "markdown",
   "metadata": {},
   "source": [
    "<h2>Thoughts and observations</h2>\n",
    "<p>\n",
    "    The vast majority of the noisy data was cleared out at the cost of the dataset's size<br>\n",
    "    The correlation between base salary and years of experience is a record high but not as much as I had hoped.<br>\n",
    "    The relationship is little more linear but there's still so many outliers.\n",
    "</p>"
   ]
  },
  {
   "cell_type": "markdown",
   "metadata": {},
   "source": [
    "<h2>Model Selection 2</h2>"
   ]
  },
  {
   "cell_type": "code",
   "execution_count": 793,
   "metadata": {},
   "outputs": [],
   "source": [
    "preprocessor = ColumnTransformer([\n",
    "        (\"scaler\", StandardScaler(), features)], \n",
    "        remainder=\"passthrough\")"
   ]
  },
  {
   "cell_type": "code",
   "execution_count": 794,
   "metadata": {},
   "outputs": [],
   "source": [
    "features = [\"yearsofexperience\"]\n",
    "\n",
    "# Extract the features but leave as a DataFrame\n",
    "dev_X = copy_df[features]\n",
    "test_X = test_df[features]\n",
    "\n",
    "# Target values, converted to a 1D numpy array\n",
    "dev_y = copy_df[\"basesalary\"].values\n",
    "test_y = test_df[\"basesalary\"].values"
   ]
  },
  {
   "cell_type": "code",
   "execution_count": 795,
   "metadata": {},
   "outputs": [
    {
     "name": "stdout",
     "output_type": "stream",
     "text": [
      "Training error:  44412.21744922403\n",
      "Validation error:  45831.933272769624\n"
     ]
    }
   ],
   "source": [
    "knn_model = Pipeline([\n",
    "    (\"preprocessor\", preprocessor),\n",
    "    (\"predictor\", KNeighborsRegressor(n_neighbors=15))])\n",
    "\n",
    "scores = cross_validate(knn_model, dev_X, dev_y, cv=10, scoring=\"neg_mean_absolute_error\", return_train_score=True)\n",
    "print(\"Training error: \", np.mean(np.abs(scores[\"train_score\"])))\n",
    "print(\"Validation error: \", np.mean(np.abs(scores[\"test_score\"])))"
   ]
  },
  {
   "cell_type": "markdown",
   "metadata": {},
   "source": [
    "<h2>Testing 2</h2>"
   ]
  },
  {
   "cell_type": "code",
   "execution_count": 796,
   "metadata": {},
   "outputs": [
    {
     "data": {
      "text/plain": [
       "149983.53900018623"
      ]
     },
     "execution_count": 796,
     "metadata": {},
     "output_type": "execute_result"
    }
   ],
   "source": [
    "knn_model.fit(dev_X, dev_y)\n",
    "\n",
    "# Error estimation on the test set.\n",
    "mean_absolute_error(test_y, knn_model.predict(test_X))"
   ]
  },
  {
   "cell_type": "markdown",
   "metadata": {},
   "source": [
    "<h2>Interesting Findings</h2>\n",
    "<p>\n",
    "    To my surprise, this knn model is much worse. Even with this smaller dataset and increasing the neighbour count to 15, it's still underfitting.<br>\n",
    "    Granted it's doing better on the training and validating, it's doing terribly on the test set.<br>\n",
    "    The more data you have to train and test on, the better. Even if that data is speculative.<br>\n",
    "    Arguably, eventhough my dataset for the 2nd method is a lot more \"accurate\", it's size hinders it greatly<br>\n",
    "    Maybe KNN probably wasn't the best pick for this set due to how scattered the data is.<br>\n",
    "    <br>\n",
    "    I wouldn't mind my base salary starting at near 150k a year.\n",
    "</p>"
   ]
  },
  {
   "cell_type": "code",
   "execution_count": null,
   "metadata": {},
   "outputs": [],
   "source": []
  }
 ],
 "metadata": {
  "kernelspec": {
   "display_name": "Python 3",
   "language": "python",
   "name": "python3"
  },
  "language_info": {
   "codemirror_mode": {
    "name": "ipython",
    "version": 3
   },
   "file_extension": ".py",
   "mimetype": "text/x-python",
   "name": "python",
   "nbconvert_exporter": "python",
   "pygments_lexer": "ipython3",
   "version": "3.9.7"
  },
  "vscode": {
   "interpreter": {
    "hash": "425c1cb9f96b02dd326489ac6b96e3042bda6ec4abf5f4b3f4fc167f5a6a6fe0"
   }
  }
 },
 "nbformat": 4,
 "nbformat_minor": 2
}
